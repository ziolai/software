{
 "cells": [
  {
   "cell_type": "markdown",
   "id": "dbf3c837",
   "metadata": {},
   "source": [
    "# Conversation with Eric Daymo on Reactive Flow Course"
   ]
  },
  {
   "cell_type": "markdown",
   "id": "1e579de7",
   "metadata": {},
   "source": [
    "##  Section 1: Introduction "
   ]
  },
  {
   "cell_type": "markdown",
   "id": "689fd9fb",
   "metadata": {},
   "source": [
    "## Section 2: Course Description \n",
    "\n",
    "### Section 1.2: Target Audience \n",
    "Assume prior exposure to use of OpenFoam for \n",
    "1. (in)stationaryturbulent incompressible flow (s/pimleFoam) (well familiar; geometry definition, mesh generation, case set up, post-processing, residual control);  \n",
    "2. buoyant heat transfer (bouyantS/PimpleFoam) (prevous exposure); \n",
    "3. radiative heat transfer (P1 and fvDOM) (limited exposure);\n",
    "4. conjugate heat transfer (fluid/solid domain with interface coupling) (limited exposure); \n",
    "\n",
    "Course will use [Foundation Version 11](https://github.com/OpenFOAM/OpenFOAM-11) of OpenFoam. \n",
    "\n",
    "Virtually no coding assignment. Course limited to setting up cases, running cases, interpretation of results, discussing what-if scenarios. \n",
    "\n",
    "reactingFoam: describe what equations reactingFoam solves. describe how reactingFoam solves these equations? \n",
    "\n",
    "What other solvers does the course intend to use (aside from reactingFoam)?  "
   ]
  },
  {
   "cell_type": "markdown",
   "id": "51331514",
   "metadata": {},
   "source": [
    "### Section 2.2: Course Content \n",
    "#### Day-1: Copy-Paste from Eric here\n",
    "#### Day-2: Copy-Paste from Eric here\n",
    "#### Day-3: Copy-Paste from Eric here"
   ]
  },
  {
   "cell_type": "markdown",
   "id": "94b38f5f",
   "metadata": {},
   "source": [
    "### Section 2.3: Course References \n",
    "1. wiki \n",
    "2. Ansys Fluent Manual \n",
    "3. cfd-online material \n",
    "4. Dacolt course notes; \n",
    "5. F. Contino course notes; \n",
    "6. T. Luccine [slides](https://waf-e.dubudisk.com/kosco.dubuplus.com/anonymous/O189sPr/DubuDisk/public/OpenFOAM_Workshop_Total.pdf) "
   ]
  },
  {
   "cell_type": "markdown",
   "id": "6328ef8b",
   "metadata": {},
   "source": []
  },
  {
   "cell_type": "markdown",
   "id": "3a48a67f",
   "metadata": {},
   "source": []
  },
  {
   "cell_type": "markdown",
   "id": "ff3754da",
   "metadata": {},
   "source": [
    "## Section 3: reactingFoam Case-Setup Description \n",
    "Goal: explain case set-up by explaining dictionaries in 0-dir/files, system-dir/files and constant-dir/files. In particular \n",
    "\n",
    "### Section 1.3: reactingFoam case-dir/constant-dir  \n",
    "\n",
    "1. turbulenceProperties: see e.g. [Turbulence](https://www.openfoam.com/documentation/guides/latest/doc/guide-turbulence.html#sec-turbulence-usage) and other sources; \n",
    "\n",
    "2. physicalProperties (formerly thermophysicalProperties): see e.g. [Heat transfer](https://www.openfoam.com/documentation/guides/latest/doc/guide-heat-transfer.html#sec-heat-transfer-usage) and other sources; \n",
    "\n",
    "3. thermo.compressibleGasGRI\n",
    "\n",
    "4. radiationProperties: no good reference see. See [Radiation](https://www.openfoam.com/documentation/guides/latest/doc/guide-heat-transfer.html)\n",
    "\n",
    "5. boundaryRadiationProperties\n",
    "\n",
    "6. chemistryProperties: describe [chemkinToFoam](https://github.com/OpenFOAM/OpenFOAM-11/blob/master/applications/utilities/thermophysical/chemkinToFoam/chemkinToFoam.C) and suggest cfd-online forum for trouble shooting;   \n",
    "\n",
    "7. reactionsGRI\n",
    "\n",
    "8. combustionProperties\n",
    "\n",
    "9. momentumTransport: allows Le <>1 and/or Sc <>1. No documentation aside from H-file; (or use Cantera/CoolProp/Duochem to compute coefficients); [example file](https://github.com/OpenFOAM/OpenFOAM-11/blob/master/tutorials/multicomponentFluid/SandiaD_LTS/constant/momentumTransport); \n",
    "\n",
    "#### Specifying Le<>1 in physicalProperties (or thermophysicalProperties?)\n",
    "\\begin{verbatim}\n",
    "\n",
    "    RAS\n",
    "    {\n",
    "        model           FickianEddyDiffusivity;\n",
    " \n",
    "        mixtureDiffusionCoefficients yes;\n",
    " \n",
    "        Prt             0.85;\n",
    "        Sct             0.7;\n",
    " \n",
    "        Dm // [m^2/s]\n",
    "        {\n",
    "            O2 6.64443705E-05;\n",
    "            H2 4.22575501E-04;\n",
    "            N2 4.74274421E-05;\n",
    "        }\n",
    " \n",
    "    }\n",
    "\\end{verbatim}\n",
    "\n",
    "### Section 2.3: reactingFoam case-dir/system-dir\n",
    "\n",
    "Explain relevant parts of fvSolution (solvers.Yi{} and PIMPLE{Yref{}})  and of fvSchemes (divSchemes.div(phi,Yi) and divSchemes.div(phi,K)). Refer to other courses for parts not explained here. \n",
    "\n",
    "### Section 3.3: reactingFoam case-dir/0-dir \n",
    "\n",
    "Explain Ydefault and species-name. "
   ]
  },
  {
   "cell_type": "markdown",
   "id": "875d2a8f",
   "metadata": {},
   "source": [
    "## Section 4: Laminar (non-premixed? hydrogen) ToroFlames:\n",
    "See [laminarSMOKE](https://github.com/acuoci/laminarSMOKE) and \n",
    "[ToroFlames/F3](https://github.com/acuoci/laminarSMOKE/tree/master/run/validation/ToroFlames/F3) \n",
    "\n",
    "Validation by Eric using DUO. Need to include results here."
   ]
  },
  {
   "cell_type": "markdown",
   "id": "e7c3ee58",
   "metadata": {},
   "source": [
    "## Section 5: Turbulent Small-Scale Non-Premixed Combustion: SandiaD test case \n",
    "\n",
    "### Section 1.5: Test case description \n",
    "1. describe the case: non-premixed combustion on CH4; pilot-burner stabilized; reference results from measurements of TNF workshop and from literature; \n",
    "2. transient solution to reach steady state; \n",
    "3. geometry definition, mesh generation and mesh check;\n",
    "4. describe patch settings: inlet, outlet, walls, symmetry settings;  \n",
    "5. running the non-reactive and reactive case; (with and without LTS, with and without tabulation and chemistry reduction); \n",
    "6. post-processing results and residual; \n",
    "\n",
    "### Section 2.5: Numerical Considerations \n",
    "\n",
    "1. compare runs with one-step chemistry, two-step chemistry, various forms of four-step chemistry, GRI-2.0 and GRI-3.0;\n",
    "2. compare thermal NO post-processing with NO computed from chemical mechanism; \n",
    "3. compare runs with and without local time stepping (LTS); is this reported in the literature? \n",
    "4. compare runs with and without TDAC chemistry tabulation and reduction: literature? \n",
    "5. compare runs on various meshes using remap from coarse to fine mesh; \n",
    "6. compare various wall temperature boundary conditions (insulating, radiating); \n",
    "7. extend to (D)DES and LES; \n",
    "8. extend to other flames (SandiaE and SandiaF) in TNF workshop series; \n",
    "\n",
    "### Section 3.5: Reference results\n",
    "1. [report](borujeni-norouzi-SandiaD-reactingFoam.pdf) by Borujeni and Norouzi; \n",
    "2. [report](talice-SandiaD-reactingFoam.pdf) by Marco Talice using ESI v1906; \n",
    "3. [paper](http://web.stanford.edu/group/pitsch/publication/PitschPhysFluids_12_2000.pdf) by Pitsch and Steiner using LES and Lagrangian Flamelet Model; "
   ]
  },
  {
   "cell_type": "markdown",
   "id": "df161917",
   "metadata": {},
   "source": [
    "## Section 6: Turbulent Large-Scale Non-Premixed Combustion: DLR test case|\n",
    "\n",
    "[DLRCJH](https://develop.openfoam.com/committees/hpc/-/tree/develop/combustion/XiFoam/DLRCJH) "
   ]
  },
  {
   "cell_type": "markdown",
   "id": "c7dacbbe",
   "metadata": {},
   "source": [
    "## Section 7: Turbulent Non-Premixed Combustion with Heat Transfer to Solid: reverseBurner test case \n",
    "\n",
    "[reverseBurner](https://mega.nz/fm/LJd1XQoS)"
   ]
  },
  {
   "cell_type": "code",
   "execution_count": null,
   "id": "9035f72e",
   "metadata": {},
   "outputs": [],
   "source": []
  },
  {
   "cell_type": "code",
   "execution_count": null,
   "id": "00346fbb",
   "metadata": {},
   "outputs": [],
   "source": []
  }
 ],
 "metadata": {
  "kernelspec": {
   "display_name": "Julia 1.8.1",
   "language": "julia",
   "name": "julia-1.8"
  },
  "language_info": {
   "file_extension": ".jl",
   "mimetype": "application/julia",
   "name": "julia",
   "version": "1.8.1"
  }
 },
 "nbformat": 4,
 "nbformat_minor": 5
}
