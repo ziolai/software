{
 "cells": [
  {
   "cell_type": "markdown",
   "id": "bcd56c40",
   "metadata": {},
   "source": [
    "# My Simple Geometry\n",
    "Poisson Equation on unit interval / square / cube domain."
   ]
  },
  {
   "cell_type": "markdown",
   "id": "1678ae2e",
   "metadata": {},
   "source": [
    "## Section 1: Unit Square Domain \n",
    "Here we assume $0 < x < 1$. \n",
    "\n",
    "### Domain with three (3) cells \n",
    "Generate mesh with 3 cells using blockMesh \n",
    "\n",
    "Check mesh using checkMesh: shows 3 hex elements using \n",
    "\n",
    "blocks\n",
    "(\n",
    "  hex (0 1 2 3 4 5 6 7) (3 1 1) edgeGrading (1 1 1 1 2 2 2 2 3 3 3 3)\n",
    ");\n",
    "\n",
    "Cell centered finite volume representation with resulting matrix \n",
    "$A = \\begin{pmatrix} 1.5 & -1.5 & 0 \\\\ -1.5 & 3 & -1.5 \\\\ 0 & -1.5 & 1.5 \\end{pmatrix}$\n",
    "\n",
    "Resulting Compressed Sparse Row (CSR) representation \n",
    "\n",
    "$\\text{rows} = \\begin{pmatrix} 0 & 2 & 5 & 7 \\end{pmatrix}$\n",
    "\n",
    "$\\text{cols} = \\begin{pmatrix} 0 & 1 & 0 & 1 & 2 & 1 & 2 \\end{pmatrix}$\n",
    "\n",
    "$\\text{vals} = \\begin{pmatrix} 1.5 & -1.5 & -1.5 & 3 & -1.5 & -1.5 & 1.5 \\end{pmatrix}$\n",
    "\n",
    "### Domain with four (4) cells \n",
    "Generate mesh using blockMesh with 4 cells ($ncells = 4$) with 3 internal faces ($nfaces = 3$)\n",
    "\n",
    "Check mesh using checkMesh: shows 4 hex elements using \n",
    "\n",
    "blocks\n",
    "(\n",
    "  hex (0 1 2 3 4 5 6 7) (4 1 1) edgeGrading (1 1 1 1 2 2 2 2 3 3 3 3)\n",
    ");\n",
    "\n",
    "Cell centered finite volume representation with resulting matrix of size \n",
    "$ncells \\times ncells = 4 \\times 4$ and $nfaces$ non-zero elements in the upper and lower triangle:  \n",
    "$A = \\begin{pmatrix} 2 & -2 & 0  & 0 \\\\ \n",
    "                    -2 &  4 & -2 & 0 \\\\ \n",
    "                     0 & -2 & 4  & -2 \\\\\n",
    "                     0 &  0 & -2 & 2 \\end{pmatrix}$\n",
    "\n",
    "Resulting Compressed Sparse Row (CSR) representation \n",
    "\n",
    "$\\text{rows} = \\begin{pmatrix} 0 & 2 & 5 & 8 & 10 \\end{pmatrix}$\n",
    "\n",
    "$\\text{cols} = \\begin{pmatrix} 0 & 1 & 0 & 1 & 2 & 1 & 2 & 3 & 2 & 3 \\end{pmatrix}$\n",
    "\n",
    "$\\text{vals} = \\begin{pmatrix} 2 & -2 & -2 & 4 & -2 & -2 & 4 & -2 & -2 & 2 \\end{pmatrix}$"
   ]
  }
 ],
 "metadata": {
  "kernelspec": {
   "display_name": "Julia 1.8.1",
   "language": "julia",
   "name": "julia-1.8"
  },
  "language_info": {
   "file_extension": ".jl",
   "mimetype": "application/julia",
   "name": "julia",
   "version": "1.8.1"
  }
 },
 "nbformat": 4,
 "nbformat_minor": 5
}
