{
 "cells": [
  {
   "cell_type": "markdown",
   "id": "bcd56c40",
   "metadata": {},
   "source": [
    "# My Simple Geometry\n",
    "Poisson Equation on unit interval / square / cube domain."
   ]
  },
  {
   "cell_type": "markdown",
   "id": "c9d50259",
   "metadata": {},
   "source": [
    "## Import Libraries "
   ]
  },
  {
   "cell_type": "code",
   "execution_count": 10,
   "id": "bd828960",
   "metadata": {},
   "outputs": [],
   "source": [
    "using LinearAlgebra\n",
    "using Plots"
   ]
  },
  {
   "cell_type": "markdown",
   "id": "1678ae2e",
   "metadata": {},
   "source": [
    "## Section 1: Unit Square Domain with Mesh with three (3) cells\n",
    "Here we assume $0 < x < 1$. Generate mesh with 3 cells using blockMesh. The coordinates of the cell centers are $x_1 = 1/6$, $x_2 = 1/2$ and $x_3 = 5/6$.  \n",
    "\n",
    "Check mesh using checkMesh: shows 3 hex elements using \n",
    "\n",
    "blocks\n",
    "(\n",
    "  hex (0 1 2 3 4 5 6 7) (3 1 1) edgeGrading (1 1 1 1 2 2 2 2 3 3 3 3)\n",
    ");\n",
    "\n",
    "Cell centered finite volume representation with resulting matrix \n",
    "$A = \\begin{pmatrix} 1.5 & -1.5 & 0 \\\\ -1.5 & 3 & -1.5 \\\\ 0 & -1.5 & 1.5 \\end{pmatrix}$\n",
    "\n",
    "Resulting Compressed Sparse Row (CSR) representation \n",
    "\n",
    "$\\text{rows} = \\begin{pmatrix} 0 & 2 & 5 & 7 \\end{pmatrix}$\n",
    "\n",
    "$\\text{cols} = \\begin{pmatrix} 0 & 1 & 0 & 1 & 2 & 1 & 2 \\end{pmatrix}$\n",
    "\n",
    "$\\text{vals} = \\begin{pmatrix} 1.5 & -1.5 & -1.5 & 3 & -1.5 & -1.5 & 1.5 \\end{pmatrix}$"
   ]
  },
  {
   "cell_type": "code",
   "execution_count": 5,
   "id": "581cbf2b",
   "metadata": {},
   "outputs": [
    {
     "data": {
      "text/plain": [
       "3×3 Matrix{Float64}:\n",
       "  1.5  -1.5   0.0\n",
       " -1.5   3.0  -1.5\n",
       "  0.0  -1.5   1.5"
      ]
     },
     "execution_count": 5,
     "metadata": {},
     "output_type": "execute_result"
    }
   ],
   "source": [
    "# Define matrix A \n",
    "A = [1.5 -1.5 0; -1.5 3 -1.5; 0 -1.5 1.5]"
   ]
  },
  {
   "cell_type": "code",
   "execution_count": 9,
   "id": "21304205",
   "metadata": {},
   "outputs": [
    {
     "data": {
      "text/plain": [
       "Eigen{Float64, Float64, Matrix{Float64}, Vector{Float64}}\n",
       "values:\n",
       "3-element Vector{Float64}:\n",
       " 3.552713678800501e-15\n",
       " 1.5000000000000036\n",
       " 4.5\n",
       "vectors:\n",
       "3×3 Matrix{Float64}:\n",
       " 0.57735   0.707107     -0.408248\n",
       " 0.57735  -6.28037e-16   0.816497\n",
       " 0.57735  -0.707107     -0.408248"
      ]
     },
     "execution_count": 9,
     "metadata": {},
     "output_type": "execute_result"
    }
   ],
   "source": [
    "# Compute eigenvalues of A and verify A to be singular \n",
    "eigen(A)"
   ]
  },
  {
   "cell_type": "code",
   "execution_count": 12,
   "id": "39f0d3c4",
   "metadata": {},
   "outputs": [
    {
     "data": {
      "text/plain": [
       "3-element Vector{Float64}:\n",
       " 2.0\n",
       " 3.3333333333333335\n",
       " 4.0"
      ]
     },
     "execution_count": 12,
     "metadata": {},
     "output_type": "execute_result"
    }
   ],
   "source": [
    "A[1,1] = 2*A[1,1]\n",
    "f = [1; 1 ; 1]\n",
    "u = A \\ f"
   ]
  },
  {
   "cell_type": "code",
   "execution_count": 18,
   "id": "4900f711",
   "metadata": {},
   "outputs": [
    {
     "data": {
      "image/svg+xml": [
       "<?xml version=\"1.0\" encoding=\"utf-8\"?>\n",
       "<svg xmlns=\"http://www.w3.org/2000/svg\" xmlns:xlink=\"http://www.w3.org/1999/xlink\" width=\"600\" height=\"400\" viewBox=\"0 0 2400 1600\">\n",
       "<defs>\n",
       "  <clipPath id=\"clip800\">\n",
       "    <rect x=\"0\" y=\"0\" width=\"2400\" height=\"1600\"/>\n",
       "  </clipPath>\n",
       "</defs>\n",
       "<path clip-path=\"url(#clip800)\" d=\"M0 1600 L2400 1600 L2400 0 L0 0  Z\" fill=\"#ffffff\" fill-rule=\"evenodd\" fill-opacity=\"1\"/>\n",
       "<defs>\n",
       "  <clipPath id=\"clip801\">\n",
       "    <rect x=\"480\" y=\"0\" width=\"1681\" height=\"1600\"/>\n",
       "  </clipPath>\n",
       "</defs>\n",
       "<path clip-path=\"url(#clip800)\" d=\"M175.445 1423.18 L2352.76 1423.18 L2352.76 47.2441 L175.445 47.2441  Z\" fill=\"#ffffff\" fill-rule=\"evenodd\" fill-opacity=\"1\"/>\n",
       "<defs>\n",
       "  <clipPath id=\"clip802\">\n",
       "    <rect x=\"175\" y=\"47\" width=\"2178\" height=\"1377\"/>\n",
       "  </clipPath>\n",
       "</defs>\n",
       "<polyline clip-path=\"url(#clip802)\" style=\"stroke:#000000; stroke-linecap:round; stroke-linejoin:round; stroke-width:2; stroke-opacity:0.1; fill:none\" points=\"237.067,1423.18 237.067,47.2441 \"/>\n",
       "<polyline clip-path=\"url(#clip802)\" style=\"stroke:#000000; stroke-linecap:round; stroke-linejoin:round; stroke-width:2; stroke-opacity:0.1; fill:none\" points=\"730.043,1423.18 730.043,47.2441 \"/>\n",
       "<polyline clip-path=\"url(#clip802)\" style=\"stroke:#000000; stroke-linecap:round; stroke-linejoin:round; stroke-width:2; stroke-opacity:0.1; fill:none\" points=\"1223.02,1423.18 1223.02,47.2441 \"/>\n",
       "<polyline clip-path=\"url(#clip802)\" style=\"stroke:#000000; stroke-linecap:round; stroke-linejoin:round; stroke-width:2; stroke-opacity:0.1; fill:none\" points=\"1716,1423.18 1716,47.2441 \"/>\n",
       "<polyline clip-path=\"url(#clip802)\" style=\"stroke:#000000; stroke-linecap:round; stroke-linejoin:round; stroke-width:2; stroke-opacity:0.1; fill:none\" points=\"2208.97,1423.18 2208.97,47.2441 \"/>\n",
       "<polyline clip-path=\"url(#clip800)\" style=\"stroke:#000000; stroke-linecap:round; stroke-linejoin:round; stroke-width:4; stroke-opacity:1; fill:none\" points=\"175.445,1423.18 2352.76,1423.18 \"/>\n",
       "<polyline clip-path=\"url(#clip800)\" style=\"stroke:#000000; stroke-linecap:round; stroke-linejoin:round; stroke-width:4; stroke-opacity:1; fill:none\" points=\"237.067,1423.18 237.067,1404.28 \"/>\n",
       "<polyline clip-path=\"url(#clip800)\" style=\"stroke:#000000; stroke-linecap:round; stroke-linejoin:round; stroke-width:4; stroke-opacity:1; fill:none\" points=\"730.043,1423.18 730.043,1404.28 \"/>\n",
       "<polyline clip-path=\"url(#clip800)\" style=\"stroke:#000000; stroke-linecap:round; stroke-linejoin:round; stroke-width:4; stroke-opacity:1; fill:none\" points=\"1223.02,1423.18 1223.02,1404.28 \"/>\n",
       "<polyline clip-path=\"url(#clip800)\" style=\"stroke:#000000; stroke-linecap:round; stroke-linejoin:round; stroke-width:4; stroke-opacity:1; fill:none\" points=\"1716,1423.18 1716,1404.28 \"/>\n",
       "<polyline clip-path=\"url(#clip800)\" style=\"stroke:#000000; stroke-linecap:round; stroke-linejoin:round; stroke-width:4; stroke-opacity:1; fill:none\" points=\"2208.97,1423.18 2208.97,1404.28 \"/>\n",
       "<path clip-path=\"url(#clip800)\" d=\"M214.452 1454.1 Q210.84 1454.1 209.012 1457.66 Q207.206 1461.2 207.206 1468.33 Q207.206 1475.44 209.012 1479.01 Q210.84 1482.55 214.452 1482.55 Q218.086 1482.55 219.891 1479.01 Q221.72 1475.44 221.72 1468.33 Q221.72 1461.2 219.891 1457.66 Q218.086 1454.1 214.452 1454.1 M214.452 1450.39 Q220.262 1450.39 223.317 1455 Q226.396 1459.58 226.396 1468.33 Q226.396 1477.06 223.317 1481.67 Q220.262 1486.25 214.452 1486.25 Q208.641 1486.25 205.563 1481.67 Q202.507 1477.06 202.507 1468.33 Q202.507 1459.58 205.563 1455 Q208.641 1450.39 214.452 1450.39 Z\" fill=\"#000000\" fill-rule=\"evenodd\" fill-opacity=\"1\" /><path clip-path=\"url(#clip800)\" d=\"M234.614 1479.7 L239.498 1479.7 L239.498 1485.58 L234.614 1485.58 L234.614 1479.7 Z\" fill=\"#000000\" fill-rule=\"evenodd\" fill-opacity=\"1\" /><path clip-path=\"url(#clip800)\" d=\"M259.683 1454.1 Q256.072 1454.1 254.243 1457.66 Q252.437 1461.2 252.437 1468.33 Q252.437 1475.44 254.243 1479.01 Q256.072 1482.55 259.683 1482.55 Q263.317 1482.55 265.123 1479.01 Q266.951 1475.44 266.951 1468.33 Q266.951 1461.2 265.123 1457.66 Q263.317 1454.1 259.683 1454.1 M259.683 1450.39 Q265.493 1450.39 268.549 1455 Q271.627 1459.58 271.627 1468.33 Q271.627 1477.06 268.549 1481.67 Q265.493 1486.25 259.683 1486.25 Q253.873 1486.25 250.794 1481.67 Q247.738 1477.06 247.738 1468.33 Q247.738 1459.58 250.794 1455 Q253.873 1450.39 259.683 1450.39 Z\" fill=\"#000000\" fill-rule=\"evenodd\" fill-opacity=\"1\" /><path clip-path=\"url(#clip800)\" d=\"M708.226 1454.1 Q704.615 1454.1 702.786 1457.66 Q700.981 1461.2 700.981 1468.33 Q700.981 1475.44 702.786 1479.01 Q704.615 1482.55 708.226 1482.55 Q711.86 1482.55 713.666 1479.01 Q715.495 1475.44 715.495 1468.33 Q715.495 1461.2 713.666 1457.66 Q711.86 1454.1 708.226 1454.1 M708.226 1450.39 Q714.036 1450.39 717.092 1455 Q720.171 1459.58 720.171 1468.33 Q720.171 1477.06 717.092 1481.67 Q714.036 1486.25 708.226 1486.25 Q702.416 1486.25 699.337 1481.67 Q696.282 1477.06 696.282 1468.33 Q696.282 1459.58 699.337 1455 Q702.416 1450.39 708.226 1450.39 Z\" fill=\"#000000\" fill-rule=\"evenodd\" fill-opacity=\"1\" /><path clip-path=\"url(#clip800)\" d=\"M728.388 1479.7 L733.272 1479.7 L733.272 1485.58 L728.388 1485.58 L728.388 1479.7 Z\" fill=\"#000000\" fill-rule=\"evenodd\" fill-opacity=\"1\" /><path clip-path=\"url(#clip800)\" d=\"M747.485 1481.64 L763.805 1481.64 L763.805 1485.58 L741.86 1485.58 L741.86 1481.64 Q744.522 1478.89 749.106 1474.26 Q753.712 1469.61 754.893 1468.27 Q757.138 1465.74 758.018 1464.01 Q758.92 1462.25 758.92 1460.56 Q758.92 1457.8 756.976 1456.07 Q755.055 1454.33 751.953 1454.33 Q749.754 1454.33 747.3 1455.09 Q744.87 1455.86 742.092 1457.41 L742.092 1452.69 Q744.916 1451.55 747.37 1450.97 Q749.823 1450.39 751.86 1450.39 Q757.231 1450.39 760.425 1453.08 Q763.619 1455.77 763.619 1460.26 Q763.619 1462.39 762.809 1464.31 Q762.022 1466.2 759.916 1468.8 Q759.337 1469.47 756.235 1472.69 Q753.133 1475.88 747.485 1481.64 Z\" fill=\"#000000\" fill-rule=\"evenodd\" fill-opacity=\"1\" /><path clip-path=\"url(#clip800)\" d=\"M1200.16 1454.1 Q1196.55 1454.1 1194.72 1457.66 Q1192.92 1461.2 1192.92 1468.33 Q1192.92 1475.44 1194.72 1479.01 Q1196.55 1482.55 1200.16 1482.55 Q1203.79 1482.55 1205.6 1479.01 Q1207.43 1475.44 1207.43 1468.33 Q1207.43 1461.2 1205.6 1457.66 Q1203.79 1454.1 1200.16 1454.1 M1200.16 1450.39 Q1205.97 1450.39 1209.03 1455 Q1212.1 1459.58 1212.1 1468.33 Q1212.1 1477.06 1209.03 1481.67 Q1205.97 1486.25 1200.16 1486.25 Q1194.35 1486.25 1191.27 1481.67 Q1188.22 1477.06 1188.22 1468.33 Q1188.22 1459.58 1191.27 1455 Q1194.35 1450.39 1200.16 1450.39 Z\" fill=\"#000000\" fill-rule=\"evenodd\" fill-opacity=\"1\" /><path clip-path=\"url(#clip800)\" d=\"M1220.32 1479.7 L1225.21 1479.7 L1225.21 1485.58 L1220.32 1485.58 L1220.32 1479.7 Z\" fill=\"#000000\" fill-rule=\"evenodd\" fill-opacity=\"1\" /><path clip-path=\"url(#clip800)\" d=\"M1248.24 1455.09 L1236.43 1473.54 L1248.24 1473.54 L1248.24 1455.09 M1247.01 1451.02 L1252.89 1451.02 L1252.89 1473.54 L1257.82 1473.54 L1257.82 1477.43 L1252.89 1477.43 L1252.89 1485.58 L1248.24 1485.58 L1248.24 1477.43 L1232.64 1477.43 L1232.64 1472.92 L1247.01 1451.02 Z\" fill=\"#000000\" fill-rule=\"evenodd\" fill-opacity=\"1\" /><path clip-path=\"url(#clip800)\" d=\"M1693.3 1454.1 Q1689.69 1454.1 1687.86 1457.66 Q1686.05 1461.2 1686.05 1468.33 Q1686.05 1475.44 1687.86 1479.01 Q1689.69 1482.55 1693.3 1482.55 Q1696.93 1482.55 1698.74 1479.01 Q1700.57 1475.44 1700.57 1468.33 Q1700.57 1461.2 1698.74 1457.66 Q1696.93 1454.1 1693.3 1454.1 M1693.3 1450.39 Q1699.11 1450.39 1702.16 1455 Q1705.24 1459.58 1705.24 1468.33 Q1705.24 1477.06 1702.16 1481.67 Q1699.11 1486.25 1693.3 1486.25 Q1687.49 1486.25 1684.41 1481.67 Q1681.35 1477.06 1681.35 1468.33 Q1681.35 1459.58 1684.41 1455 Q1687.49 1450.39 1693.3 1450.39 Z\" fill=\"#000000\" fill-rule=\"evenodd\" fill-opacity=\"1\" /><path clip-path=\"url(#clip800)\" d=\"M1713.46 1479.7 L1718.34 1479.7 L1718.34 1485.58 L1713.46 1485.58 L1713.46 1479.7 Z\" fill=\"#000000\" fill-rule=\"evenodd\" fill-opacity=\"1\" /><path clip-path=\"url(#clip800)\" d=\"M1739.11 1466.44 Q1735.96 1466.44 1734.11 1468.59 Q1732.28 1470.74 1732.28 1474.49 Q1732.28 1478.22 1734.11 1480.39 Q1735.96 1482.55 1739.11 1482.55 Q1742.26 1482.55 1744.09 1480.39 Q1745.94 1478.22 1745.94 1474.49 Q1745.94 1470.74 1744.09 1468.59 Q1742.26 1466.44 1739.11 1466.44 M1748.39 1451.78 L1748.39 1456.04 Q1746.63 1455.21 1744.83 1454.77 Q1743.04 1454.33 1741.28 1454.33 Q1736.65 1454.33 1734.2 1457.45 Q1731.77 1460.58 1731.42 1466.9 Q1732.79 1464.89 1734.85 1463.82 Q1736.91 1462.73 1739.39 1462.73 Q1744.59 1462.73 1747.6 1465.9 Q1750.64 1469.05 1750.64 1474.49 Q1750.64 1479.82 1747.49 1483.03 Q1744.34 1486.25 1739.11 1486.25 Q1733.11 1486.25 1729.94 1481.67 Q1726.77 1477.06 1726.77 1468.33 Q1726.77 1460.14 1730.66 1455.28 Q1734.55 1450.39 1741.1 1450.39 Q1742.86 1450.39 1744.64 1450.74 Q1746.45 1451.09 1748.39 1451.78 Z\" fill=\"#000000\" fill-rule=\"evenodd\" fill-opacity=\"1\" /><path clip-path=\"url(#clip800)\" d=\"M2186.4 1454.1 Q2182.79 1454.1 2180.96 1457.66 Q2179.16 1461.2 2179.16 1468.33 Q2179.16 1475.44 2180.96 1479.01 Q2182.79 1482.55 2186.4 1482.55 Q2190.04 1482.55 2191.84 1479.01 Q2193.67 1475.44 2193.67 1468.33 Q2193.67 1461.2 2191.84 1457.66 Q2190.04 1454.1 2186.4 1454.1 M2186.4 1450.39 Q2192.21 1450.39 2195.27 1455 Q2198.35 1459.58 2198.35 1468.33 Q2198.35 1477.06 2195.27 1481.67 Q2192.21 1486.25 2186.4 1486.25 Q2180.59 1486.25 2177.51 1481.67 Q2174.46 1477.06 2174.46 1468.33 Q2174.46 1459.58 2177.51 1455 Q2180.59 1450.39 2186.4 1450.39 Z\" fill=\"#000000\" fill-rule=\"evenodd\" fill-opacity=\"1\" /><path clip-path=\"url(#clip800)\" d=\"M2206.56 1479.7 L2211.45 1479.7 L2211.45 1485.58 L2206.56 1485.58 L2206.56 1479.7 Z\" fill=\"#000000\" fill-rule=\"evenodd\" fill-opacity=\"1\" /><path clip-path=\"url(#clip800)\" d=\"M2231.63 1469.17 Q2228.3 1469.17 2226.38 1470.95 Q2224.48 1472.73 2224.48 1475.86 Q2224.48 1478.98 2226.38 1480.77 Q2228.3 1482.55 2231.63 1482.55 Q2234.97 1482.55 2236.89 1480.77 Q2238.81 1478.96 2238.81 1475.86 Q2238.81 1472.73 2236.89 1470.95 Q2234.99 1469.17 2231.63 1469.17 M2226.96 1467.18 Q2223.95 1466.44 2222.26 1464.38 Q2220.59 1462.32 2220.59 1459.35 Q2220.59 1455.21 2223.53 1452.8 Q2226.49 1450.39 2231.63 1450.39 Q2236.8 1450.39 2239.73 1452.8 Q2242.67 1455.21 2242.67 1459.35 Q2242.67 1462.32 2240.98 1464.38 Q2239.32 1466.44 2236.33 1467.18 Q2239.71 1467.96 2241.59 1470.26 Q2243.48 1472.55 2243.48 1475.86 Q2243.48 1480.88 2240.41 1483.57 Q2237.35 1486.25 2231.63 1486.25 Q2225.92 1486.25 2222.84 1483.57 Q2219.78 1480.88 2219.78 1475.86 Q2219.78 1472.55 2221.68 1470.26 Q2223.58 1467.96 2226.96 1467.18 M2225.24 1459.79 Q2225.24 1462.48 2226.91 1463.98 Q2228.6 1465.49 2231.63 1465.49 Q2234.64 1465.49 2236.33 1463.98 Q2238.05 1462.48 2238.05 1459.79 Q2238.05 1457.11 2236.33 1455.6 Q2234.64 1454.1 2231.63 1454.1 Q2228.6 1454.1 2226.91 1455.6 Q2225.24 1457.11 2225.24 1459.79 Z\" fill=\"#000000\" fill-rule=\"evenodd\" fill-opacity=\"1\" /><path clip-path=\"url(#clip800)\" d=\"M1280.72 1532.4 L1267.82 1549.74 L1281.38 1568.04 L1274.48 1568.04 L1264.1 1554.04 L1253.72 1568.04 L1246.82 1568.04 L1260.66 1549.39 L1248 1532.4 L1254.9 1532.4 L1264.36 1545.1 L1273.81 1532.4 L1280.72 1532.4 Z\" fill=\"#000000\" fill-rule=\"evenodd\" fill-opacity=\"1\" /><polyline clip-path=\"url(#clip802)\" style=\"stroke:#000000; stroke-linecap:round; stroke-linejoin:round; stroke-width:2; stroke-opacity:0.1; fill:none\" points=\"175.445,1384.24 2352.76,1384.24 \"/>\n",
       "<polyline clip-path=\"url(#clip802)\" style=\"stroke:#000000; stroke-linecap:round; stroke-linejoin:round; stroke-width:2; stroke-opacity:0.1; fill:none\" points=\"175.445,1059.73 2352.76,1059.73 \"/>\n",
       "<polyline clip-path=\"url(#clip802)\" style=\"stroke:#000000; stroke-linecap:round; stroke-linejoin:round; stroke-width:2; stroke-opacity:0.1; fill:none\" points=\"175.445,735.212 2352.76,735.212 \"/>\n",
       "<polyline clip-path=\"url(#clip802)\" style=\"stroke:#000000; stroke-linecap:round; stroke-linejoin:round; stroke-width:2; stroke-opacity:0.1; fill:none\" points=\"175.445,410.699 2352.76,410.699 \"/>\n",
       "<polyline clip-path=\"url(#clip802)\" style=\"stroke:#000000; stroke-linecap:round; stroke-linejoin:round; stroke-width:2; stroke-opacity:0.1; fill:none\" points=\"175.445,86.1857 2352.76,86.1857 \"/>\n",
       "<polyline clip-path=\"url(#clip800)\" style=\"stroke:#000000; stroke-linecap:round; stroke-linejoin:round; stroke-width:4; stroke-opacity:1; fill:none\" points=\"175.445,1423.18 175.445,47.2441 \"/>\n",
       "<polyline clip-path=\"url(#clip800)\" style=\"stroke:#000000; stroke-linecap:round; stroke-linejoin:round; stroke-width:4; stroke-opacity:1; fill:none\" points=\"175.445,1384.24 194.343,1384.24 \"/>\n",
       "<polyline clip-path=\"url(#clip800)\" style=\"stroke:#000000; stroke-linecap:round; stroke-linejoin:round; stroke-width:4; stroke-opacity:1; fill:none\" points=\"175.445,1059.73 194.343,1059.73 \"/>\n",
       "<polyline clip-path=\"url(#clip800)\" style=\"stroke:#000000; stroke-linecap:round; stroke-linejoin:round; stroke-width:4; stroke-opacity:1; fill:none\" points=\"175.445,735.212 194.343,735.212 \"/>\n",
       "<polyline clip-path=\"url(#clip800)\" style=\"stroke:#000000; stroke-linecap:round; stroke-linejoin:round; stroke-width:4; stroke-opacity:1; fill:none\" points=\"175.445,410.699 194.343,410.699 \"/>\n",
       "<polyline clip-path=\"url(#clip800)\" style=\"stroke:#000000; stroke-linecap:round; stroke-linejoin:round; stroke-width:4; stroke-opacity:1; fill:none\" points=\"175.445,86.1857 194.343,86.1857 \"/>\n",
       "<path clip-path=\"url(#clip800)\" d=\"M127.501 1370.04 Q123.89 1370.04 122.061 1373.6 Q120.255 1377.14 120.255 1384.27 Q120.255 1391.38 122.061 1394.94 Q123.89 1398.49 127.501 1398.49 Q131.135 1398.49 132.941 1394.94 Q134.769 1391.38 134.769 1384.27 Q134.769 1377.14 132.941 1373.6 Q131.135 1370.04 127.501 1370.04 M127.501 1366.33 Q133.311 1366.33 136.367 1370.94 Q139.445 1375.52 139.445 1384.27 Q139.445 1393 136.367 1397.61 Q133.311 1402.19 127.501 1402.19 Q121.691 1402.19 118.612 1397.61 Q115.556 1393 115.556 1384.27 Q115.556 1375.52 118.612 1370.94 Q121.691 1366.33 127.501 1366.33 Z\" fill=\"#000000\" fill-rule=\"evenodd\" fill-opacity=\"1\" /><path clip-path=\"url(#clip800)\" d=\"M119.538 1073.07 L127.177 1073.07 L127.177 1046.7 L118.867 1048.37 L118.867 1044.11 L127.13 1042.45 L131.806 1042.45 L131.806 1073.07 L139.445 1073.07 L139.445 1077.01 L119.538 1077.01 L119.538 1073.07 Z\" fill=\"#000000\" fill-rule=\"evenodd\" fill-opacity=\"1\" /><path clip-path=\"url(#clip800)\" d=\"M123.126 748.557 L139.445 748.557 L139.445 752.492 L117.501 752.492 L117.501 748.557 Q120.163 745.802 124.746 741.173 Q129.353 736.52 130.533 735.177 Q132.779 732.654 133.658 730.918 Q134.561 729.159 134.561 727.469 Q134.561 724.714 132.617 722.978 Q130.695 721.242 127.593 721.242 Q125.394 721.242 122.941 722.006 Q120.51 722.77 117.732 724.321 L117.732 719.599 Q120.556 718.464 123.01 717.886 Q125.464 717.307 127.501 717.307 Q132.871 717.307 136.066 719.992 Q139.26 722.677 139.26 727.168 Q139.26 729.298 138.45 731.219 Q137.663 733.117 135.556 735.71 Q134.978 736.381 131.876 739.599 Q128.774 742.793 123.126 748.557 Z\" fill=\"#000000\" fill-rule=\"evenodd\" fill-opacity=\"1\" /><path clip-path=\"url(#clip800)\" d=\"M132.316 409.345 Q135.672 410.062 137.547 412.331 Q139.445 414.599 139.445 417.933 Q139.445 423.048 135.927 425.849 Q132.408 428.65 125.927 428.65 Q123.751 428.65 121.436 428.21 Q119.144 427.794 116.691 426.937 L116.691 422.423 Q118.635 423.558 120.95 424.136 Q123.265 424.715 125.788 424.715 Q130.186 424.715 132.478 422.979 Q134.792 421.243 134.792 417.933 Q134.792 414.877 132.64 413.164 Q130.51 411.428 126.691 411.428 L122.663 411.428 L122.663 407.585 L126.876 407.585 Q130.325 407.585 132.154 406.22 Q133.982 404.831 133.982 402.238 Q133.982 399.576 132.084 398.164 Q130.209 396.729 126.691 396.729 Q124.769 396.729 122.57 397.146 Q120.371 397.562 117.732 398.442 L117.732 394.275 Q120.394 393.535 122.709 393.164 Q125.047 392.794 127.107 392.794 Q132.431 392.794 135.533 395.224 Q138.635 397.632 138.635 401.752 Q138.635 404.622 136.992 406.613 Q135.348 408.581 132.316 409.345 Z\" fill=\"#000000\" fill-rule=\"evenodd\" fill-opacity=\"1\" /><path clip-path=\"url(#clip800)\" d=\"M129.862 72.9797 L118.056 91.4287 L129.862 91.4287 L129.862 72.9797 M128.635 68.9057 L134.515 68.9057 L134.515 91.4287 L139.445 91.4287 L139.445 95.3176 L134.515 95.3176 L134.515 103.466 L129.862 103.466 L129.862 95.3176 L114.26 95.3176 L114.26 90.8037 L128.635 68.9057 Z\" fill=\"#000000\" fill-rule=\"evenodd\" fill-opacity=\"1\" /><path clip-path=\"url(#clip800)\" d=\"M49.9359 750.14 L28.3562 750.14 L28.3562 744.283 L49.7131 744.283 Q54.7739 744.283 57.3202 742.31 Q59.8346 740.336 59.8346 736.39 Q59.8346 731.647 56.8109 728.91 Q53.7872 726.141 48.5673 726.141 L28.3562 726.141 L28.3562 720.284 L64.0042 720.284 L64.0042 726.141 L58.5296 726.141 Q61.7762 728.273 63.3676 731.106 Q64.9272 733.907 64.9272 737.631 Q64.9272 743.774 61.1078 746.957 Q57.2883 750.14 49.9359 750.14 M27.4968 735.403 L27.4968 735.403 Z\" fill=\"#000000\" fill-rule=\"evenodd\" fill-opacity=\"1\" /><polyline clip-path=\"url(#clip802)\" style=\"stroke:#009af9; stroke-linecap:round; stroke-linejoin:round; stroke-width:4; stroke-opacity:1; fill:none\" points=\"237.067,1384.24 647.881,735.212 1469.51,302.528 2291.13,86.1857 \"/>\n",
       "<path clip-path=\"url(#clip800)\" d=\"M248.022 196.789 L518.184 196.789 L518.184 93.1086 L248.022 93.1086  Z\" fill=\"#ffffff\" fill-rule=\"evenodd\" fill-opacity=\"1\"/>\n",
       "<polyline clip-path=\"url(#clip800)\" style=\"stroke:#000000; stroke-linecap:round; stroke-linejoin:round; stroke-width:4; stroke-opacity:1; fill:none\" points=\"248.022,196.789 518.184,196.789 518.184,93.1086 248.022,93.1086 248.022,196.789 \"/>\n",
       "<polyline clip-path=\"url(#clip800)\" style=\"stroke:#009af9; stroke-linecap:round; stroke-linejoin:round; stroke-width:4; stroke-opacity:1; fill:none\" points=\"272.215,144.949 417.369,144.949 \"/>\n",
       "<path clip-path=\"url(#clip800)\" d=\"M455.403 164.636 Q453.598 169.266 451.885 170.678 Q450.172 172.09 447.302 172.09 L443.899 172.09 L443.899 168.525 L446.399 168.525 Q448.158 168.525 449.13 167.692 Q450.103 166.858 451.283 163.756 L452.047 161.812 L441.561 136.303 L446.075 136.303 L454.177 156.581 L462.278 136.303 L466.792 136.303 L455.403 164.636 Z\" fill=\"#000000\" fill-rule=\"evenodd\" fill-opacity=\"1\" /><path clip-path=\"url(#clip800)\" d=\"M474.084 158.293 L481.723 158.293 L481.723 131.928 L473.413 133.595 L473.413 129.335 L481.676 127.669 L486.352 127.669 L486.352 158.293 L493.991 158.293 L493.991 162.229 L474.084 162.229 L474.084 158.293 Z\" fill=\"#000000\" fill-rule=\"evenodd\" fill-opacity=\"1\" /></svg>\n"
      ]
     },
     "execution_count": 18,
     "metadata": {},
     "output_type": "execute_result"
    }
   ],
   "source": [
    "u_with_boundary = [0; u]\n",
    "x = [0;1/6;1/2;5/6]\n",
    "plot(x,u_with_boundary,xlabel=\"x\", ylabel=\"u\")"
   ]
  },
  {
   "cell_type": "markdown",
   "id": "4752674d",
   "metadata": {},
   "source": [
    "## Section 2: Unit Square Domain with Mesh with four (4) cells \n",
    "Here we assume again $0 < x < 1$. Generate mesh using blockMesh with 4 cells ($ncells = 4$) with 3 internal faces ($nfaces = 3$). The coordinates of the cell centers are $x_1 = 1/8$, $x_2 = 3/8$, $x_3 = 5/8$ and $x_4 = 7/8$.\n",
    "\n",
    "Check mesh using checkMesh: shows 4 hex elements using \n",
    "\n",
    "blocks\n",
    "(\n",
    "  hex (0 1 2 3 4 5 6 7) (4 1 1) edgeGrading (1 1 1 1 2 2 2 2 3 3 3 3)\n",
    ");\n",
    "\n",
    "Cell centered finite volume representation with resulting matrix of size \n",
    "$ncells \\times ncells = 4 \\times 4$ and $nfaces$ non-zero elements in the upper and lower triangle:  \n",
    "$A = \\begin{pmatrix} 2 & -2 & 0  & 0 \\\\ \n",
    "                    -2 &  4 & -2 & 0 \\\\ \n",
    "                     0 & -2 & 4  & -2 \\\\\n",
    "                     0 &  0 & -2 & 2 \\end{pmatrix}$\n",
    "\n",
    "Resulting Compressed Sparse Row (CSR) representation \n",
    "\n",
    "$\\text{rows} = \\begin{pmatrix} 0 & 2 & 5 & 8 & 10 \\end{pmatrix}$\n",
    "\n",
    "$\\text{cols} = \\begin{pmatrix} 0 & 1 & 0 & 1 & 2 & 1 & 2 & 3 & 2 & 3 \\end{pmatrix}$\n",
    "\n",
    "$\\text{vals} = \\begin{pmatrix} 2 & -2 & -2 & 4 & -2 & -2 & 4 & -2 & -2 & 2 \\end{pmatrix}$"
   ]
  },
  {
   "cell_type": "code",
   "execution_count": 19,
   "id": "5c31082a",
   "metadata": {},
   "outputs": [
    {
     "data": {
      "text/plain": [
       "4×4 Matrix{Int64}:\n",
       "  2  -2   0   0\n",
       " -2   4  -2   0\n",
       "  0  -2   4  -2\n",
       "  0   0  -2   2"
      ]
     },
     "execution_count": 19,
     "metadata": {},
     "output_type": "execute_result"
    }
   ],
   "source": [
    "# Define matrix A \n",
    "A = [2 -2 0 0; -2 4 -2 0; 0 -2 4 -2; 0 0 -2 2]"
   ]
  },
  {
   "cell_type": "code",
   "execution_count": 20,
   "id": "72769c3d",
   "metadata": {},
   "outputs": [
    {
     "data": {
      "text/plain": [
       "Eigen{Float64, Float64, Matrix{Float64}, Vector{Float64}}\n",
       "values:\n",
       "4-element Vector{Float64}:\n",
       " 0.0\n",
       " 1.1715728752538084\n",
       " 3.9999999999999987\n",
       " 6.828427124746179\n",
       "vectors:\n",
       "4×4 Matrix{Float64}:\n",
       " 0.5   0.653281  -0.5   0.270598\n",
       " 0.5   0.270598   0.5  -0.653281\n",
       " 0.5  -0.270598   0.5   0.653281\n",
       " 0.5  -0.653281  -0.5  -0.270598"
      ]
     },
     "execution_count": 20,
     "metadata": {},
     "output_type": "execute_result"
    }
   ],
   "source": [
    "# Compute eigenvalues of A and verify A to be singular \n",
    "eigen(A)"
   ]
  },
  {
   "cell_type": "code",
   "execution_count": 21,
   "id": "ad047b05",
   "metadata": {},
   "outputs": [
    {
     "data": {
      "text/plain": [
       "4-element Vector{Float64}:\n",
       " 1.9999999999999993\n",
       " 3.4999999999999987\n",
       " 4.499999999999998\n",
       " 4.999999999999998"
      ]
     },
     "execution_count": 21,
     "metadata": {},
     "output_type": "execute_result"
    }
   ],
   "source": [
    "A[1,1] = 2*A[1,1]\n",
    "f = [1; 1 ; 1; 1]\n",
    "u = A \\ f"
   ]
  },
  {
   "cell_type": "code",
   "execution_count": 23,
   "id": "857c4ad6",
   "metadata": {},
   "outputs": [
    {
     "data": {
      "image/svg+xml": [
       "<?xml version=\"1.0\" encoding=\"utf-8\"?>\n",
       "<svg xmlns=\"http://www.w3.org/2000/svg\" xmlns:xlink=\"http://www.w3.org/1999/xlink\" width=\"600\" height=\"400\" viewBox=\"0 0 2400 1600\">\n",
       "<defs>\n",
       "  <clipPath id=\"clip860\">\n",
       "    <rect x=\"0\" y=\"0\" width=\"2400\" height=\"1600\"/>\n",
       "  </clipPath>\n",
       "</defs>\n",
       "<path clip-path=\"url(#clip860)\" d=\"M0 1600 L2400 1600 L2400 0 L0 0  Z\" fill=\"#ffffff\" fill-rule=\"evenodd\" fill-opacity=\"1\"/>\n",
       "<defs>\n",
       "  <clipPath id=\"clip861\">\n",
       "    <rect x=\"480\" y=\"0\" width=\"1681\" height=\"1600\"/>\n",
       "  </clipPath>\n",
       "</defs>\n",
       "<path clip-path=\"url(#clip860)\" d=\"M175.445 1423.18 L2352.76 1423.18 L2352.76 47.2441 L175.445 47.2441  Z\" fill=\"#ffffff\" fill-rule=\"evenodd\" fill-opacity=\"1\"/>\n",
       "<defs>\n",
       "  <clipPath id=\"clip862\">\n",
       "    <rect x=\"175\" y=\"47\" width=\"2178\" height=\"1377\"/>\n",
       "  </clipPath>\n",
       "</defs>\n",
       "<polyline clip-path=\"url(#clip862)\" style=\"stroke:#000000; stroke-linecap:round; stroke-linejoin:round; stroke-width:2; stroke-opacity:0.1; fill:none\" points=\"237.067,1423.18 237.067,47.2441 \"/>\n",
       "<polyline clip-path=\"url(#clip862)\" style=\"stroke:#000000; stroke-linecap:round; stroke-linejoin:round; stroke-width:2; stroke-opacity:0.1; fill:none\" points=\"706.568,1423.18 706.568,47.2441 \"/>\n",
       "<polyline clip-path=\"url(#clip862)\" style=\"stroke:#000000; stroke-linecap:round; stroke-linejoin:round; stroke-width:2; stroke-opacity:0.1; fill:none\" points=\"1176.07,1423.18 1176.07,47.2441 \"/>\n",
       "<polyline clip-path=\"url(#clip862)\" style=\"stroke:#000000; stroke-linecap:round; stroke-linejoin:round; stroke-width:2; stroke-opacity:0.1; fill:none\" points=\"1645.57,1423.18 1645.57,47.2441 \"/>\n",
       "<polyline clip-path=\"url(#clip862)\" style=\"stroke:#000000; stroke-linecap:round; stroke-linejoin:round; stroke-width:2; stroke-opacity:0.1; fill:none\" points=\"2115.07,1423.18 2115.07,47.2441 \"/>\n",
       "<polyline clip-path=\"url(#clip860)\" style=\"stroke:#000000; stroke-linecap:round; stroke-linejoin:round; stroke-width:4; stroke-opacity:1; fill:none\" points=\"175.445,1423.18 2352.76,1423.18 \"/>\n",
       "<polyline clip-path=\"url(#clip860)\" style=\"stroke:#000000; stroke-linecap:round; stroke-linejoin:round; stroke-width:4; stroke-opacity:1; fill:none\" points=\"237.067,1423.18 237.067,1404.28 \"/>\n",
       "<polyline clip-path=\"url(#clip860)\" style=\"stroke:#000000; stroke-linecap:round; stroke-linejoin:round; stroke-width:4; stroke-opacity:1; fill:none\" points=\"706.568,1423.18 706.568,1404.28 \"/>\n",
       "<polyline clip-path=\"url(#clip860)\" style=\"stroke:#000000; stroke-linecap:round; stroke-linejoin:round; stroke-width:4; stroke-opacity:1; fill:none\" points=\"1176.07,1423.18 1176.07,1404.28 \"/>\n",
       "<polyline clip-path=\"url(#clip860)\" style=\"stroke:#000000; stroke-linecap:round; stroke-linejoin:round; stroke-width:4; stroke-opacity:1; fill:none\" points=\"1645.57,1423.18 1645.57,1404.28 \"/>\n",
       "<polyline clip-path=\"url(#clip860)\" style=\"stroke:#000000; stroke-linecap:round; stroke-linejoin:round; stroke-width:4; stroke-opacity:1; fill:none\" points=\"2115.07,1423.18 2115.07,1404.28 \"/>\n",
       "<path clip-path=\"url(#clip860)\" d=\"M214.452 1454.1 Q210.84 1454.1 209.012 1457.66 Q207.206 1461.2 207.206 1468.33 Q207.206 1475.44 209.012 1479.01 Q210.84 1482.55 214.452 1482.55 Q218.086 1482.55 219.891 1479.01 Q221.72 1475.44 221.72 1468.33 Q221.72 1461.2 219.891 1457.66 Q218.086 1454.1 214.452 1454.1 M214.452 1450.39 Q220.262 1450.39 223.317 1455 Q226.396 1459.58 226.396 1468.33 Q226.396 1477.06 223.317 1481.67 Q220.262 1486.25 214.452 1486.25 Q208.641 1486.25 205.563 1481.67 Q202.507 1477.06 202.507 1468.33 Q202.507 1459.58 205.563 1455 Q208.641 1450.39 214.452 1450.39 Z\" fill=\"#000000\" fill-rule=\"evenodd\" fill-opacity=\"1\" /><path clip-path=\"url(#clip860)\" d=\"M234.614 1479.7 L239.498 1479.7 L239.498 1485.58 L234.614 1485.58 L234.614 1479.7 Z\" fill=\"#000000\" fill-rule=\"evenodd\" fill-opacity=\"1\" /><path clip-path=\"url(#clip860)\" d=\"M259.683 1454.1 Q256.072 1454.1 254.243 1457.66 Q252.437 1461.2 252.437 1468.33 Q252.437 1475.44 254.243 1479.01 Q256.072 1482.55 259.683 1482.55 Q263.317 1482.55 265.123 1479.01 Q266.951 1475.44 266.951 1468.33 Q266.951 1461.2 265.123 1457.66 Q263.317 1454.1 259.683 1454.1 M259.683 1450.39 Q265.493 1450.39 268.549 1455 Q271.627 1459.58 271.627 1468.33 Q271.627 1477.06 268.549 1481.67 Q265.493 1486.25 259.683 1486.25 Q253.873 1486.25 250.794 1481.67 Q247.738 1477.06 247.738 1468.33 Q247.738 1459.58 250.794 1455 Q253.873 1450.39 259.683 1450.39 Z\" fill=\"#000000\" fill-rule=\"evenodd\" fill-opacity=\"1\" /><path clip-path=\"url(#clip860)\" d=\"M684.751 1454.1 Q681.14 1454.1 679.311 1457.66 Q677.506 1461.2 677.506 1468.33 Q677.506 1475.44 679.311 1479.01 Q681.14 1482.55 684.751 1482.55 Q688.385 1482.55 690.191 1479.01 Q692.02 1475.44 692.02 1468.33 Q692.02 1461.2 690.191 1457.66 Q688.385 1454.1 684.751 1454.1 M684.751 1450.39 Q690.561 1450.39 693.617 1455 Q696.696 1459.58 696.696 1468.33 Q696.696 1477.06 693.617 1481.67 Q690.561 1486.25 684.751 1486.25 Q678.941 1486.25 675.862 1481.67 Q672.807 1477.06 672.807 1468.33 Q672.807 1459.58 675.862 1455 Q678.941 1450.39 684.751 1450.39 Z\" fill=\"#000000\" fill-rule=\"evenodd\" fill-opacity=\"1\" /><path clip-path=\"url(#clip860)\" d=\"M704.913 1479.7 L709.797 1479.7 L709.797 1485.58 L704.913 1485.58 L704.913 1479.7 Z\" fill=\"#000000\" fill-rule=\"evenodd\" fill-opacity=\"1\" /><path clip-path=\"url(#clip860)\" d=\"M724.01 1481.64 L740.33 1481.64 L740.33 1485.58 L718.385 1485.58 L718.385 1481.64 Q721.047 1478.89 725.631 1474.26 Q730.237 1469.61 731.418 1468.27 Q733.663 1465.74 734.543 1464.01 Q735.445 1462.25 735.445 1460.56 Q735.445 1457.8 733.501 1456.07 Q731.58 1454.33 728.478 1454.33 Q726.279 1454.33 723.825 1455.09 Q721.394 1455.86 718.617 1457.41 L718.617 1452.69 Q721.441 1451.55 723.894 1450.97 Q726.348 1450.39 728.385 1450.39 Q733.756 1450.39 736.95 1453.08 Q740.144 1455.77 740.144 1460.26 Q740.144 1462.39 739.334 1464.31 Q738.547 1466.2 736.441 1468.8 Q735.862 1469.47 732.76 1472.69 Q729.658 1475.88 724.01 1481.64 Z\" fill=\"#000000\" fill-rule=\"evenodd\" fill-opacity=\"1\" /><path clip-path=\"url(#clip860)\" d=\"M1153.21 1454.1 Q1149.6 1454.1 1147.77 1457.66 Q1145.97 1461.2 1145.97 1468.33 Q1145.97 1475.44 1147.77 1479.01 Q1149.6 1482.55 1153.21 1482.55 Q1156.84 1482.55 1158.65 1479.01 Q1160.48 1475.44 1160.48 1468.33 Q1160.48 1461.2 1158.65 1457.66 Q1156.84 1454.1 1153.21 1454.1 M1153.21 1450.39 Q1159.02 1450.39 1162.08 1455 Q1165.15 1459.58 1165.15 1468.33 Q1165.15 1477.06 1162.08 1481.67 Q1159.02 1486.25 1153.21 1486.25 Q1147.4 1486.25 1144.32 1481.67 Q1141.27 1477.06 1141.27 1468.33 Q1141.27 1459.58 1144.32 1455 Q1147.4 1450.39 1153.21 1450.39 Z\" fill=\"#000000\" fill-rule=\"evenodd\" fill-opacity=\"1\" /><path clip-path=\"url(#clip860)\" d=\"M1173.37 1479.7 L1178.26 1479.7 L1178.26 1485.58 L1173.37 1485.58 L1173.37 1479.7 Z\" fill=\"#000000\" fill-rule=\"evenodd\" fill-opacity=\"1\" /><path clip-path=\"url(#clip860)\" d=\"M1201.29 1455.09 L1189.48 1473.54 L1201.29 1473.54 L1201.29 1455.09 M1200.06 1451.02 L1205.94 1451.02 L1205.94 1473.54 L1210.87 1473.54 L1210.87 1477.43 L1205.94 1477.43 L1205.94 1485.58 L1201.29 1485.58 L1201.29 1477.43 L1185.69 1477.43 L1185.69 1472.92 L1200.06 1451.02 Z\" fill=\"#000000\" fill-rule=\"evenodd\" fill-opacity=\"1\" /><path clip-path=\"url(#clip860)\" d=\"M1622.87 1454.1 Q1619.26 1454.1 1617.43 1457.66 Q1615.63 1461.2 1615.63 1468.33 Q1615.63 1475.44 1617.43 1479.01 Q1619.26 1482.55 1622.87 1482.55 Q1626.51 1482.55 1628.31 1479.01 Q1630.14 1475.44 1630.14 1468.33 Q1630.14 1461.2 1628.31 1457.66 Q1626.51 1454.1 1622.87 1454.1 M1622.87 1450.39 Q1628.68 1450.39 1631.74 1455 Q1634.82 1459.58 1634.82 1468.33 Q1634.82 1477.06 1631.74 1481.67 Q1628.68 1486.25 1622.87 1486.25 Q1617.06 1486.25 1613.98 1481.67 Q1610.93 1477.06 1610.93 1468.33 Q1610.93 1459.58 1613.98 1455 Q1617.06 1450.39 1622.87 1450.39 Z\" fill=\"#000000\" fill-rule=\"evenodd\" fill-opacity=\"1\" /><path clip-path=\"url(#clip860)\" d=\"M1643.04 1479.7 L1647.92 1479.7 L1647.92 1485.58 L1643.04 1485.58 L1643.04 1479.7 Z\" fill=\"#000000\" fill-rule=\"evenodd\" fill-opacity=\"1\" /><path clip-path=\"url(#clip860)\" d=\"M1668.68 1466.44 Q1665.54 1466.44 1663.68 1468.59 Q1661.85 1470.74 1661.85 1474.49 Q1661.85 1478.22 1663.68 1480.39 Q1665.54 1482.55 1668.68 1482.55 Q1671.83 1482.55 1673.66 1480.39 Q1675.51 1478.22 1675.51 1474.49 Q1675.51 1470.74 1673.66 1468.59 Q1671.83 1466.44 1668.68 1466.44 M1677.97 1451.78 L1677.97 1456.04 Q1676.21 1455.21 1674.4 1454.77 Q1672.62 1454.33 1670.86 1454.33 Q1666.23 1454.33 1663.78 1457.45 Q1661.35 1460.58 1661 1466.9 Q1662.36 1464.89 1664.42 1463.82 Q1666.48 1462.73 1668.96 1462.73 Q1674.17 1462.73 1677.18 1465.9 Q1680.21 1469.05 1680.21 1474.49 Q1680.21 1479.82 1677.06 1483.03 Q1673.91 1486.25 1668.68 1486.25 Q1662.69 1486.25 1659.52 1481.67 Q1656.35 1477.06 1656.35 1468.33 Q1656.35 1460.14 1660.23 1455.28 Q1664.12 1450.39 1670.67 1450.39 Q1672.43 1450.39 1674.22 1450.74 Q1676.02 1451.09 1677.97 1451.78 Z\" fill=\"#000000\" fill-rule=\"evenodd\" fill-opacity=\"1\" /><path clip-path=\"url(#clip860)\" d=\"M2092.5 1454.1 Q2088.89 1454.1 2087.06 1457.66 Q2085.26 1461.2 2085.26 1468.33 Q2085.26 1475.44 2087.06 1479.01 Q2088.89 1482.55 2092.5 1482.55 Q2096.14 1482.55 2097.94 1479.01 Q2099.77 1475.44 2099.77 1468.33 Q2099.77 1461.2 2097.94 1457.66 Q2096.14 1454.1 2092.5 1454.1 M2092.5 1450.39 Q2098.31 1450.39 2101.37 1455 Q2104.45 1459.58 2104.45 1468.33 Q2104.45 1477.06 2101.37 1481.67 Q2098.31 1486.25 2092.5 1486.25 Q2086.69 1486.25 2083.61 1481.67 Q2080.56 1477.06 2080.56 1468.33 Q2080.56 1459.58 2083.61 1455 Q2086.69 1450.39 2092.5 1450.39 Z\" fill=\"#000000\" fill-rule=\"evenodd\" fill-opacity=\"1\" /><path clip-path=\"url(#clip860)\" d=\"M2112.66 1479.7 L2117.55 1479.7 L2117.55 1485.58 L2112.66 1485.58 L2112.66 1479.7 Z\" fill=\"#000000\" fill-rule=\"evenodd\" fill-opacity=\"1\" /><path clip-path=\"url(#clip860)\" d=\"M2137.73 1469.17 Q2134.4 1469.17 2132.48 1470.95 Q2130.58 1472.73 2130.58 1475.86 Q2130.58 1478.98 2132.48 1480.77 Q2134.4 1482.55 2137.73 1482.55 Q2141.07 1482.55 2142.99 1480.77 Q2144.91 1478.96 2144.91 1475.86 Q2144.91 1472.73 2142.99 1470.95 Q2141.09 1469.17 2137.73 1469.17 M2133.06 1467.18 Q2130.05 1466.44 2128.36 1464.38 Q2126.69 1462.32 2126.69 1459.35 Q2126.69 1455.21 2129.63 1452.8 Q2132.59 1450.39 2137.73 1450.39 Q2142.89 1450.39 2145.83 1452.8 Q2148.77 1455.21 2148.77 1459.35 Q2148.77 1462.32 2147.08 1464.38 Q2145.42 1466.44 2142.43 1467.18 Q2145.81 1467.96 2147.69 1470.26 Q2149.58 1472.55 2149.58 1475.86 Q2149.58 1480.88 2146.51 1483.57 Q2143.45 1486.25 2137.73 1486.25 Q2132.02 1486.25 2128.94 1483.57 Q2125.88 1480.88 2125.88 1475.86 Q2125.88 1472.55 2127.78 1470.26 Q2129.68 1467.96 2133.06 1467.18 M2131.34 1459.79 Q2131.34 1462.48 2133.01 1463.98 Q2134.7 1465.49 2137.73 1465.49 Q2140.74 1465.49 2142.43 1463.98 Q2144.14 1462.48 2144.14 1459.79 Q2144.14 1457.11 2142.43 1455.6 Q2140.74 1454.1 2137.73 1454.1 Q2134.7 1454.1 2133.01 1455.6 Q2131.34 1457.11 2131.34 1459.79 Z\" fill=\"#000000\" fill-rule=\"evenodd\" fill-opacity=\"1\" /><path clip-path=\"url(#clip860)\" d=\"M1280.72 1532.4 L1267.82 1549.74 L1281.38 1568.04 L1274.48 1568.04 L1264.1 1554.04 L1253.72 1568.04 L1246.82 1568.04 L1260.66 1549.39 L1248 1532.4 L1254.9 1532.4 L1264.36 1545.1 L1273.81 1532.4 L1280.72 1532.4 Z\" fill=\"#000000\" fill-rule=\"evenodd\" fill-opacity=\"1\" /><polyline clip-path=\"url(#clip862)\" style=\"stroke:#000000; stroke-linecap:round; stroke-linejoin:round; stroke-width:2; stroke-opacity:0.1; fill:none\" points=\"175.445,1384.24 2352.76,1384.24 \"/>\n",
       "<polyline clip-path=\"url(#clip862)\" style=\"stroke:#000000; stroke-linecap:round; stroke-linejoin:round; stroke-width:2; stroke-opacity:0.1; fill:none\" points=\"175.445,1124.63 2352.76,1124.63 \"/>\n",
       "<polyline clip-path=\"url(#clip862)\" style=\"stroke:#000000; stroke-linecap:round; stroke-linejoin:round; stroke-width:2; stroke-opacity:0.1; fill:none\" points=\"175.445,865.017 2352.76,865.017 \"/>\n",
       "<polyline clip-path=\"url(#clip862)\" style=\"stroke:#000000; stroke-linecap:round; stroke-linejoin:round; stroke-width:2; stroke-opacity:0.1; fill:none\" points=\"175.445,605.407 2352.76,605.407 \"/>\n",
       "<polyline clip-path=\"url(#clip862)\" style=\"stroke:#000000; stroke-linecap:round; stroke-linejoin:round; stroke-width:2; stroke-opacity:0.1; fill:none\" points=\"175.445,345.796 2352.76,345.796 \"/>\n",
       "<polyline clip-path=\"url(#clip862)\" style=\"stroke:#000000; stroke-linecap:round; stroke-linejoin:round; stroke-width:2; stroke-opacity:0.1; fill:none\" points=\"175.445,86.1857 2352.76,86.1857 \"/>\n",
       "<polyline clip-path=\"url(#clip860)\" style=\"stroke:#000000; stroke-linecap:round; stroke-linejoin:round; stroke-width:4; stroke-opacity:1; fill:none\" points=\"175.445,1423.18 175.445,47.2441 \"/>\n",
       "<polyline clip-path=\"url(#clip860)\" style=\"stroke:#000000; stroke-linecap:round; stroke-linejoin:round; stroke-width:4; stroke-opacity:1; fill:none\" points=\"175.445,1384.24 194.343,1384.24 \"/>\n",
       "<polyline clip-path=\"url(#clip860)\" style=\"stroke:#000000; stroke-linecap:round; stroke-linejoin:round; stroke-width:4; stroke-opacity:1; fill:none\" points=\"175.445,1124.63 194.343,1124.63 \"/>\n",
       "<polyline clip-path=\"url(#clip860)\" style=\"stroke:#000000; stroke-linecap:round; stroke-linejoin:round; stroke-width:4; stroke-opacity:1; fill:none\" points=\"175.445,865.017 194.343,865.017 \"/>\n",
       "<polyline clip-path=\"url(#clip860)\" style=\"stroke:#000000; stroke-linecap:round; stroke-linejoin:round; stroke-width:4; stroke-opacity:1; fill:none\" points=\"175.445,605.407 194.343,605.407 \"/>\n",
       "<polyline clip-path=\"url(#clip860)\" style=\"stroke:#000000; stroke-linecap:round; stroke-linejoin:round; stroke-width:4; stroke-opacity:1; fill:none\" points=\"175.445,345.796 194.343,345.796 \"/>\n",
       "<polyline clip-path=\"url(#clip860)\" style=\"stroke:#000000; stroke-linecap:round; stroke-linejoin:round; stroke-width:4; stroke-opacity:1; fill:none\" points=\"175.445,86.1857 194.343,86.1857 \"/>\n",
       "<path clip-path=\"url(#clip860)\" d=\"M127.501 1370.04 Q123.89 1370.04 122.061 1373.6 Q120.255 1377.14 120.255 1384.27 Q120.255 1391.38 122.061 1394.94 Q123.89 1398.49 127.501 1398.49 Q131.135 1398.49 132.941 1394.94 Q134.769 1391.38 134.769 1384.27 Q134.769 1377.14 132.941 1373.6 Q131.135 1370.04 127.501 1370.04 M127.501 1366.33 Q133.311 1366.33 136.367 1370.94 Q139.445 1375.52 139.445 1384.27 Q139.445 1393 136.367 1397.61 Q133.311 1402.19 127.501 1402.19 Q121.691 1402.19 118.612 1397.61 Q115.556 1393 115.556 1384.27 Q115.556 1375.52 118.612 1370.94 Q121.691 1366.33 127.501 1366.33 Z\" fill=\"#000000\" fill-rule=\"evenodd\" fill-opacity=\"1\" /><path clip-path=\"url(#clip860)\" d=\"M119.538 1137.97 L127.177 1137.97 L127.177 1111.61 L118.867 1113.27 L118.867 1109.01 L127.13 1107.35 L131.806 1107.35 L131.806 1137.97 L139.445 1137.97 L139.445 1141.91 L119.538 1141.91 L119.538 1137.97 Z\" fill=\"#000000\" fill-rule=\"evenodd\" fill-opacity=\"1\" /><path clip-path=\"url(#clip860)\" d=\"M123.126 878.362 L139.445 878.362 L139.445 882.297 L117.501 882.297 L117.501 878.362 Q120.163 875.607 124.746 870.978 Q129.353 866.325 130.533 864.983 Q132.779 862.459 133.658 860.723 Q134.561 858.964 134.561 857.274 Q134.561 854.52 132.617 852.783 Q130.695 851.047 127.593 851.047 Q125.394 851.047 122.941 851.811 Q120.51 852.575 117.732 854.126 L117.732 849.404 Q120.556 848.27 123.01 847.691 Q125.464 847.112 127.501 847.112 Q132.871 847.112 136.066 849.797 Q139.26 852.483 139.26 856.973 Q139.26 859.103 138.45 861.024 Q137.663 862.922 135.556 865.515 Q134.978 866.186 131.876 869.404 Q128.774 872.598 123.126 878.362 Z\" fill=\"#000000\" fill-rule=\"evenodd\" fill-opacity=\"1\" /><path clip-path=\"url(#clip860)\" d=\"M132.316 604.053 Q135.672 604.77 137.547 607.039 Q139.445 609.307 139.445 612.64 Q139.445 617.756 135.927 620.557 Q132.408 623.358 125.927 623.358 Q123.751 623.358 121.436 622.918 Q119.144 622.502 116.691 621.645 L116.691 617.131 Q118.635 618.265 120.95 618.844 Q123.265 619.423 125.788 619.423 Q130.186 619.423 132.478 617.687 Q134.792 615.951 134.792 612.64 Q134.792 609.585 132.64 607.872 Q130.51 606.136 126.691 606.136 L122.663 606.136 L122.663 602.293 L126.876 602.293 Q130.325 602.293 132.154 600.928 Q133.982 599.539 133.982 596.946 Q133.982 594.284 132.084 592.872 Q130.209 591.437 126.691 591.437 Q124.769 591.437 122.57 591.854 Q120.371 592.27 117.732 593.15 L117.732 588.983 Q120.394 588.242 122.709 587.872 Q125.047 587.502 127.107 587.502 Q132.431 587.502 135.533 589.932 Q138.635 592.34 138.635 596.46 Q138.635 599.33 136.992 601.321 Q135.348 603.289 132.316 604.053 Z\" fill=\"#000000\" fill-rule=\"evenodd\" fill-opacity=\"1\" /><path clip-path=\"url(#clip860)\" d=\"M129.862 332.59 L118.056 351.039 L129.862 351.039 L129.862 332.59 M128.635 328.516 L134.515 328.516 L134.515 351.039 L139.445 351.039 L139.445 354.928 L134.515 354.928 L134.515 363.076 L129.862 363.076 L129.862 354.928 L114.26 354.928 L114.26 350.414 L128.635 328.516 Z\" fill=\"#000000\" fill-rule=\"evenodd\" fill-opacity=\"1\" /><path clip-path=\"url(#clip860)\" d=\"M118.543 68.9057 L136.899 68.9057 L136.899 72.8408 L122.825 72.8408 L122.825 81.313 Q123.843 80.9658 124.862 80.8038 Q125.88 80.6186 126.899 80.6186 Q132.686 80.6186 136.066 83.7899 Q139.445 86.9611 139.445 92.3778 Q139.445 97.9564 135.973 101.058 Q132.501 104.137 126.181 104.137 Q124.005 104.137 121.737 103.767 Q119.492 103.396 117.084 102.655 L117.084 97.9564 Q119.168 99.0907 121.39 99.6462 Q123.612 100.202 126.089 100.202 Q130.093 100.202 132.431 98.0953 Q134.769 95.9889 134.769 92.3778 Q134.769 88.7667 132.431 86.6602 Q130.093 84.5537 126.089 84.5537 Q124.214 84.5537 122.339 84.9704 Q120.487 85.3871 118.543 86.2667 L118.543 68.9057 Z\" fill=\"#000000\" fill-rule=\"evenodd\" fill-opacity=\"1\" /><path clip-path=\"url(#clip860)\" d=\"M49.9359 750.14 L28.3562 750.14 L28.3562 744.283 L49.7131 744.283 Q54.7739 744.283 57.3202 742.31 Q59.8346 740.336 59.8346 736.39 Q59.8346 731.647 56.8109 728.91 Q53.7872 726.141 48.5673 726.141 L28.3562 726.141 L28.3562 720.284 L64.0042 720.284 L64.0042 726.141 L58.5296 726.141 Q61.7762 728.273 63.3676 731.106 Q64.9272 733.907 64.9272 737.631 Q64.9272 743.774 61.1078 746.957 Q57.2883 750.14 49.9359 750.14 M27.4968 735.403 L27.4968 735.403 Z\" fill=\"#000000\" fill-rule=\"evenodd\" fill-opacity=\"1\" /><polyline clip-path=\"url(#clip862)\" style=\"stroke:#009af9; stroke-linecap:round; stroke-linejoin:round; stroke-width:4; stroke-opacity:1; fill:none\" points=\"237.067,1384.24 530.505,865.017 1117.38,475.601 1704.26,215.991 2291.13,86.1857 \"/>\n",
       "<path clip-path=\"url(#clip860)\" d=\"M248.022 196.789 L518.184 196.789 L518.184 93.1086 L248.022 93.1086  Z\" fill=\"#ffffff\" fill-rule=\"evenodd\" fill-opacity=\"1\"/>\n",
       "<polyline clip-path=\"url(#clip860)\" style=\"stroke:#000000; stroke-linecap:round; stroke-linejoin:round; stroke-width:4; stroke-opacity:1; fill:none\" points=\"248.022,196.789 518.184,196.789 518.184,93.1086 248.022,93.1086 248.022,196.789 \"/>\n",
       "<polyline clip-path=\"url(#clip860)\" style=\"stroke:#009af9; stroke-linecap:round; stroke-linejoin:round; stroke-width:4; stroke-opacity:1; fill:none\" points=\"272.215,144.949 417.369,144.949 \"/>\n",
       "<path clip-path=\"url(#clip860)\" d=\"M455.403 164.636 Q453.598 169.266 451.885 170.678 Q450.172 172.09 447.302 172.09 L443.899 172.09 L443.899 168.525 L446.399 168.525 Q448.158 168.525 449.13 167.692 Q450.103 166.858 451.283 163.756 L452.047 161.812 L441.561 136.303 L446.075 136.303 L454.177 156.581 L462.278 136.303 L466.792 136.303 L455.403 164.636 Z\" fill=\"#000000\" fill-rule=\"evenodd\" fill-opacity=\"1\" /><path clip-path=\"url(#clip860)\" d=\"M474.084 158.293 L481.723 158.293 L481.723 131.928 L473.413 133.595 L473.413 129.335 L481.676 127.669 L486.352 127.669 L486.352 158.293 L493.991 158.293 L493.991 162.229 L474.084 162.229 L474.084 158.293 Z\" fill=\"#000000\" fill-rule=\"evenodd\" fill-opacity=\"1\" /></svg>\n"
      ]
     },
     "execution_count": 23,
     "metadata": {},
     "output_type": "execute_result"
    }
   ],
   "source": [
    "u_with_boundary = [0; u]\n",
    "x = [0;1/8;3/8;5/8;7/8]\n",
    "plot(x,u_with_boundary,xlabel=\"x\", ylabel=\"u\")"
   ]
  },
  {
   "cell_type": "markdown",
   "id": "12e3d684",
   "metadata": {},
   "source": [
    "## Section 3:/ Unit Square Domain with Mesh with more cells"
   ]
  },
  {
   "cell_type": "code",
   "execution_count": 38,
   "id": "73a9d881",
   "metadata": {},
   "outputs": [
    {
     "data": {
      "text/plain": [
       "16×16 Tridiagonal{Float64, Vector{Float64}}:\n",
       " 16.0  -8.0    ⋅     ⋅     ⋅     ⋅   …    ⋅     ⋅     ⋅     ⋅     ⋅     ⋅ \n",
       " -8.0  16.0  -8.0    ⋅     ⋅     ⋅        ⋅     ⋅     ⋅     ⋅     ⋅     ⋅ \n",
       "   ⋅   -8.0  16.0  -8.0    ⋅     ⋅        ⋅     ⋅     ⋅     ⋅     ⋅     ⋅ \n",
       "   ⋅     ⋅   -8.0  16.0  -8.0    ⋅        ⋅     ⋅     ⋅     ⋅     ⋅     ⋅ \n",
       "   ⋅     ⋅     ⋅   -8.0  16.0  -8.0       ⋅     ⋅     ⋅     ⋅     ⋅     ⋅ \n",
       "   ⋅     ⋅     ⋅     ⋅   -8.0  16.0  …    ⋅     ⋅     ⋅     ⋅     ⋅     ⋅ \n",
       "   ⋅     ⋅     ⋅     ⋅     ⋅   -8.0       ⋅     ⋅     ⋅     ⋅     ⋅     ⋅ \n",
       "   ⋅     ⋅     ⋅     ⋅     ⋅     ⋅        ⋅     ⋅     ⋅     ⋅     ⋅     ⋅ \n",
       "   ⋅     ⋅     ⋅     ⋅     ⋅     ⋅        ⋅     ⋅     ⋅     ⋅     ⋅     ⋅ \n",
       "   ⋅     ⋅     ⋅     ⋅     ⋅     ⋅      -8.0    ⋅     ⋅     ⋅     ⋅     ⋅ \n",
       "   ⋅     ⋅     ⋅     ⋅     ⋅     ⋅   …  16.0  -8.0    ⋅     ⋅     ⋅     ⋅ \n",
       "   ⋅     ⋅     ⋅     ⋅     ⋅     ⋅      -8.0  16.0  -8.0    ⋅     ⋅     ⋅ \n",
       "   ⋅     ⋅     ⋅     ⋅     ⋅     ⋅        ⋅   -8.0  16.0  -8.0    ⋅     ⋅ \n",
       "   ⋅     ⋅     ⋅     ⋅     ⋅     ⋅        ⋅     ⋅   -8.0  16.0  -8.0    ⋅ \n",
       "   ⋅     ⋅     ⋅     ⋅     ⋅     ⋅        ⋅     ⋅     ⋅   -8.0  16.0  -8.0\n",
       "   ⋅     ⋅     ⋅     ⋅     ⋅     ⋅   …    ⋅     ⋅     ⋅     ⋅   -8.0   8.0"
      ]
     },
     "metadata": {},
     "output_type": "display_data"
    }
   ],
   "source": [
    "N = 16; # number of cells\n",
    "h = 1/N; # cell width \n",
    "\n",
    "#..construct the coefficient matrix \n",
    "e = ones(N);  \n",
    "A = Tridiagonal(-e[2:end], 2*e, -e[2:end]); \n",
    "A = (1/(2*h))*A; \n",
    "\n",
    "#..handle the boundary conditions in last row of the matrix \n",
    "A[end,end]=A[end,end]/2;     \n",
    "display(A)"
   ]
  },
  {
   "cell_type": "code",
   "execution_count": 39,
   "id": "bb902541",
   "metadata": {},
   "outputs": [],
   "source": [
    "# Set the right-hand side vector \n",
    "f = ones(N); \n",
    "# Solve the linear system for u \n",
    "u = A \\ f; "
   ]
  },
  {
   "cell_type": "code",
   "execution_count": 40,
   "id": "ebd558ca",
   "metadata": {},
   "outputs": [
    {
     "data": {
      "image/svg+xml": [
       "<?xml version=\"1.0\" encoding=\"utf-8\"?>\n",
       "<svg xmlns=\"http://www.w3.org/2000/svg\" xmlns:xlink=\"http://www.w3.org/1999/xlink\" width=\"600\" height=\"400\" viewBox=\"0 0 2400 1600\">\n",
       "<defs>\n",
       "  <clipPath id=\"clip940\">\n",
       "    <rect x=\"0\" y=\"0\" width=\"2400\" height=\"1600\"/>\n",
       "  </clipPath>\n",
       "</defs>\n",
       "<path clip-path=\"url(#clip940)\" d=\"M0 1600 L2400 1600 L2400 0 L0 0  Z\" fill=\"#ffffff\" fill-rule=\"evenodd\" fill-opacity=\"1\"/>\n",
       "<defs>\n",
       "  <clipPath id=\"clip941\">\n",
       "    <rect x=\"480\" y=\"0\" width=\"1681\" height=\"1600\"/>\n",
       "  </clipPath>\n",
       "</defs>\n",
       "<path clip-path=\"url(#clip940)\" d=\"M137.964 1486.45 L2352.76 1486.45 L2352.76 47.2441 L137.964 47.2441  Z\" fill=\"#ffffff\" fill-rule=\"evenodd\" fill-opacity=\"1\"/>\n",
       "<defs>\n",
       "  <clipPath id=\"clip942\">\n",
       "    <rect x=\"137\" y=\"47\" width=\"2216\" height=\"1440\"/>\n",
       "  </clipPath>\n",
       "</defs>\n",
       "<polyline clip-path=\"url(#clip942)\" style=\"stroke:#000000; stroke-linecap:round; stroke-linejoin:round; stroke-width:2; stroke-opacity:0.1; fill:none\" points=\"479.237,1486.45 479.237,47.2441 \"/>\n",
       "<polyline clip-path=\"url(#clip942)\" style=\"stroke:#000000; stroke-linecap:round; stroke-linejoin:round; stroke-width:2; stroke-opacity:0.1; fill:none\" points=\"897.122,1486.45 897.122,47.2441 \"/>\n",
       "<polyline clip-path=\"url(#clip942)\" style=\"stroke:#000000; stroke-linecap:round; stroke-linejoin:round; stroke-width:2; stroke-opacity:0.1; fill:none\" points=\"1315.01,1486.45 1315.01,47.2441 \"/>\n",
       "<polyline clip-path=\"url(#clip942)\" style=\"stroke:#000000; stroke-linecap:round; stroke-linejoin:round; stroke-width:2; stroke-opacity:0.1; fill:none\" points=\"1732.89,1486.45 1732.89,47.2441 \"/>\n",
       "<polyline clip-path=\"url(#clip942)\" style=\"stroke:#000000; stroke-linecap:round; stroke-linejoin:round; stroke-width:2; stroke-opacity:0.1; fill:none\" points=\"2150.78,1486.45 2150.78,47.2441 \"/>\n",
       "<polyline clip-path=\"url(#clip940)\" style=\"stroke:#000000; stroke-linecap:round; stroke-linejoin:round; stroke-width:4; stroke-opacity:1; fill:none\" points=\"137.964,1486.45 2352.76,1486.45 \"/>\n",
       "<polyline clip-path=\"url(#clip940)\" style=\"stroke:#000000; stroke-linecap:round; stroke-linejoin:round; stroke-width:4; stroke-opacity:1; fill:none\" points=\"479.237,1486.45 479.237,1467.55 \"/>\n",
       "<polyline clip-path=\"url(#clip940)\" style=\"stroke:#000000; stroke-linecap:round; stroke-linejoin:round; stroke-width:4; stroke-opacity:1; fill:none\" points=\"897.122,1486.45 897.122,1467.55 \"/>\n",
       "<polyline clip-path=\"url(#clip940)\" style=\"stroke:#000000; stroke-linecap:round; stroke-linejoin:round; stroke-width:4; stroke-opacity:1; fill:none\" points=\"1315.01,1486.45 1315.01,1467.55 \"/>\n",
       "<polyline clip-path=\"url(#clip940)\" style=\"stroke:#000000; stroke-linecap:round; stroke-linejoin:round; stroke-width:4; stroke-opacity:1; fill:none\" points=\"1732.89,1486.45 1732.89,1467.55 \"/>\n",
       "<polyline clip-path=\"url(#clip940)\" style=\"stroke:#000000; stroke-linecap:round; stroke-linejoin:round; stroke-width:4; stroke-opacity:1; fill:none\" points=\"2150.78,1486.45 2150.78,1467.55 \"/>\n",
       "<path clip-path=\"url(#clip940)\" d=\"M483.485 1530.21 Q486.841 1530.93 488.716 1533.2 Q490.614 1535.47 490.614 1538.8 Q490.614 1543.92 487.096 1546.72 Q483.577 1549.52 477.096 1549.52 Q474.92 1549.52 472.605 1549.08 Q470.313 1548.66 467.86 1547.81 L467.86 1543.29 Q469.804 1544.43 472.119 1545.01 Q474.434 1545.58 476.957 1545.58 Q481.355 1545.58 483.647 1543.85 Q485.962 1542.11 485.962 1538.8 Q485.962 1535.75 483.809 1534.03 Q481.679 1532.3 477.86 1532.3 L473.832 1532.3 L473.832 1528.45 L478.045 1528.45 Q481.494 1528.45 483.323 1527.09 Q485.151 1525.7 485.151 1523.11 Q485.151 1520.45 483.253 1519.03 Q481.378 1517.6 477.86 1517.6 Q475.938 1517.6 473.739 1518.01 Q471.54 1518.43 468.901 1519.31 L468.901 1515.14 Q471.563 1514.4 473.878 1514.03 Q476.216 1513.66 478.276 1513.66 Q483.6 1513.66 486.702 1516.09 Q489.804 1518.5 489.804 1522.62 Q489.804 1525.49 488.161 1527.48 Q486.517 1529.45 483.485 1530.21 Z\" fill=\"#000000\" fill-rule=\"evenodd\" fill-opacity=\"1\" /><path clip-path=\"url(#clip940)\" d=\"M897.527 1529.7 Q894.379 1529.7 892.527 1531.86 Q890.699 1534.01 890.699 1537.76 Q890.699 1541.49 892.527 1543.66 Q894.379 1545.82 897.527 1545.82 Q900.676 1545.82 902.504 1543.66 Q904.356 1541.49 904.356 1537.76 Q904.356 1534.01 902.504 1531.86 Q900.676 1529.7 897.527 1529.7 M906.81 1515.05 L906.81 1519.31 Q905.05 1518.48 903.245 1518.04 Q901.463 1517.6 899.703 1517.6 Q895.074 1517.6 892.62 1520.72 Q890.189 1523.85 889.842 1530.17 Q891.208 1528.15 893.268 1527.09 Q895.328 1526 897.805 1526 Q903.013 1526 906.023 1529.17 Q909.055 1532.32 909.055 1537.76 Q909.055 1543.08 905.907 1546.3 Q902.759 1549.52 897.527 1549.52 Q891.532 1549.52 888.361 1544.94 Q885.189 1540.33 885.189 1531.6 Q885.189 1523.41 889.078 1518.55 Q892.967 1513.66 899.518 1513.66 Q901.277 1513.66 903.06 1514.01 Q904.865 1514.36 906.81 1515.05 Z\" fill=\"#000000\" fill-rule=\"evenodd\" fill-opacity=\"1\" /><path clip-path=\"url(#clip940)\" d=\"M1305.31 1548.13 L1305.31 1543.87 Q1307.07 1544.7 1308.87 1545.14 Q1310.68 1545.58 1312.41 1545.58 Q1317.04 1545.58 1319.48 1542.48 Q1321.93 1539.36 1322.28 1533.01 Q1320.93 1535.01 1318.87 1536.07 Q1316.81 1537.13 1314.31 1537.13 Q1309.13 1537.13 1306.1 1534.01 Q1303.09 1530.86 1303.09 1525.42 Q1303.09 1520.1 1306.23 1516.88 Q1309.38 1513.66 1314.61 1513.66 Q1320.61 1513.66 1323.76 1518.27 Q1326.93 1522.85 1326.93 1531.6 Q1326.93 1539.77 1323.04 1544.66 Q1319.17 1549.52 1312.62 1549.52 Q1310.86 1549.52 1309.06 1549.17 Q1307.25 1548.82 1305.31 1548.13 M1314.61 1533.48 Q1317.76 1533.48 1319.59 1531.32 Q1321.44 1529.17 1321.44 1525.42 Q1321.44 1521.7 1319.59 1519.54 Q1317.76 1517.37 1314.61 1517.37 Q1311.47 1517.37 1309.61 1519.54 Q1307.79 1521.7 1307.79 1525.42 Q1307.79 1529.17 1309.61 1531.32 Q1311.47 1533.48 1314.61 1533.48 Z\" fill=\"#000000\" fill-rule=\"evenodd\" fill-opacity=\"1\" /><path clip-path=\"url(#clip940)\" d=\"M1708.38 1544.91 L1716.02 1544.91 L1716.02 1518.55 L1707.71 1520.21 L1707.71 1515.95 L1715.97 1514.29 L1720.65 1514.29 L1720.65 1544.91 L1728.29 1544.91 L1728.29 1548.85 L1708.38 1548.85 L1708.38 1544.91 Z\" fill=\"#000000\" fill-rule=\"evenodd\" fill-opacity=\"1\" /><path clip-path=\"url(#clip940)\" d=\"M1741.76 1544.91 L1758.08 1544.91 L1758.08 1548.85 L1736.13 1548.85 L1736.13 1544.91 Q1738.8 1542.16 1743.38 1537.53 Q1747.99 1532.88 1749.17 1531.53 Q1751.41 1529.01 1752.29 1527.27 Q1753.19 1525.51 1753.19 1523.82 Q1753.19 1521.07 1751.25 1519.33 Q1749.33 1517.6 1746.23 1517.6 Q1744.03 1517.6 1741.57 1518.36 Q1739.14 1519.13 1736.36 1520.68 L1736.36 1515.95 Q1739.19 1514.82 1741.64 1514.24 Q1744.1 1513.66 1746.13 1513.66 Q1751.5 1513.66 1754.7 1516.35 Q1757.89 1519.03 1757.89 1523.52 Q1757.89 1525.65 1757.08 1527.57 Q1756.3 1529.47 1754.19 1532.07 Q1753.61 1532.74 1750.51 1535.95 Q1747.41 1539.15 1741.76 1544.91 Z\" fill=\"#000000\" fill-rule=\"evenodd\" fill-opacity=\"1\" /><path clip-path=\"url(#clip940)\" d=\"M2125.96 1544.91 L2133.6 1544.91 L2133.6 1518.55 L2125.29 1520.21 L2125.29 1515.95 L2133.56 1514.29 L2138.23 1514.29 L2138.23 1544.91 L2145.87 1544.91 L2145.87 1548.85 L2125.96 1548.85 L2125.96 1544.91 Z\" fill=\"#000000\" fill-rule=\"evenodd\" fill-opacity=\"1\" /><path clip-path=\"url(#clip940)\" d=\"M2155.36 1514.29 L2173.72 1514.29 L2173.72 1518.22 L2159.64 1518.22 L2159.64 1526.7 Q2160.66 1526.35 2161.68 1526.19 Q2162.7 1526 2163.72 1526 Q2169.5 1526 2172.88 1529.17 Q2176.26 1532.34 2176.26 1537.76 Q2176.26 1543.34 2172.79 1546.44 Q2169.32 1549.52 2163 1549.52 Q2160.82 1549.52 2158.56 1549.15 Q2156.31 1548.78 2153.9 1548.04 L2153.9 1543.34 Q2155.99 1544.47 2158.21 1545.03 Q2160.43 1545.58 2162.91 1545.58 Q2166.91 1545.58 2169.25 1543.48 Q2171.59 1541.37 2171.59 1537.76 Q2171.59 1534.15 2169.25 1532.04 Q2166.91 1529.94 2162.91 1529.94 Q2161.03 1529.94 2159.16 1530.35 Q2157.31 1530.77 2155.36 1531.65 L2155.36 1514.29 Z\" fill=\"#000000\" fill-rule=\"evenodd\" fill-opacity=\"1\" /><polyline clip-path=\"url(#clip942)\" style=\"stroke:#000000; stroke-linecap:round; stroke-linejoin:round; stroke-width:2; stroke-opacity:0.1; fill:none\" points=\"137.964,1355.2 2352.76,1355.2 \"/>\n",
       "<polyline clip-path=\"url(#clip942)\" style=\"stroke:#000000; stroke-linecap:round; stroke-linejoin:round; stroke-width:2; stroke-opacity:0.1; fill:none\" points=\"137.964,1083.65 2352.76,1083.65 \"/>\n",
       "<polyline clip-path=\"url(#clip942)\" style=\"stroke:#000000; stroke-linecap:round; stroke-linejoin:round; stroke-width:2; stroke-opacity:0.1; fill:none\" points=\"137.964,812.104 2352.76,812.104 \"/>\n",
       "<polyline clip-path=\"url(#clip942)\" style=\"stroke:#000000; stroke-linecap:round; stroke-linejoin:round; stroke-width:2; stroke-opacity:0.1; fill:none\" points=\"137.964,540.556 2352.76,540.556 \"/>\n",
       "<polyline clip-path=\"url(#clip942)\" style=\"stroke:#000000; stroke-linecap:round; stroke-linejoin:round; stroke-width:2; stroke-opacity:0.1; fill:none\" points=\"137.964,269.008 2352.76,269.008 \"/>\n",
       "<polyline clip-path=\"url(#clip940)\" style=\"stroke:#000000; stroke-linecap:round; stroke-linejoin:round; stroke-width:4; stroke-opacity:1; fill:none\" points=\"137.964,1486.45 137.964,47.2441 \"/>\n",
       "<polyline clip-path=\"url(#clip940)\" style=\"stroke:#000000; stroke-linecap:round; stroke-linejoin:round; stroke-width:4; stroke-opacity:1; fill:none\" points=\"137.964,1355.2 156.862,1355.2 \"/>\n",
       "<polyline clip-path=\"url(#clip940)\" style=\"stroke:#000000; stroke-linecap:round; stroke-linejoin:round; stroke-width:4; stroke-opacity:1; fill:none\" points=\"137.964,1083.65 156.862,1083.65 \"/>\n",
       "<polyline clip-path=\"url(#clip940)\" style=\"stroke:#000000; stroke-linecap:round; stroke-linejoin:round; stroke-width:4; stroke-opacity:1; fill:none\" points=\"137.964,812.104 156.862,812.104 \"/>\n",
       "<polyline clip-path=\"url(#clip940)\" style=\"stroke:#000000; stroke-linecap:round; stroke-linejoin:round; stroke-width:4; stroke-opacity:1; fill:none\" points=\"137.964,540.556 156.862,540.556 \"/>\n",
       "<polyline clip-path=\"url(#clip940)\" style=\"stroke:#000000; stroke-linecap:round; stroke-linejoin:round; stroke-width:4; stroke-opacity:1; fill:none\" points=\"137.964,269.008 156.862,269.008 \"/>\n",
       "<path clip-path=\"url(#clip940)\" d=\"M94.8345 1353.85 Q98.1909 1354.56 100.066 1356.83 Q101.964 1359.1 101.964 1362.43 Q101.964 1367.55 98.4456 1370.35 Q94.9271 1373.15 88.4456 1373.15 Q86.2697 1373.15 83.9549 1372.71 Q81.6633 1372.29 79.2096 1371.44 L79.2096 1366.92 Q81.154 1368.06 83.4688 1368.64 Q85.7836 1369.22 88.3067 1369.22 Q92.7049 1369.22 94.9965 1367.48 Q97.3113 1365.74 97.3113 1362.43 Q97.3113 1359.38 95.1586 1357.66 Q93.0289 1355.93 89.2095 1355.93 L85.1818 1355.93 L85.1818 1352.09 L89.3947 1352.09 Q92.8438 1352.09 94.6724 1350.72 Q96.5011 1349.33 96.5011 1346.74 Q96.5011 1344.08 94.603 1342.67 Q92.728 1341.23 89.2095 1341.23 Q87.2882 1341.23 85.0892 1341.65 Q82.8901 1342.06 80.2512 1342.94 L80.2512 1338.78 Q82.9133 1338.04 85.2281 1337.67 Q87.566 1337.29 89.6262 1337.29 Q94.9502 1337.29 98.0521 1339.73 Q101.154 1342.13 101.154 1346.25 Q101.154 1349.12 99.5104 1351.11 Q97.8669 1353.08 94.8345 1353.85 Z\" fill=\"#000000\" fill-rule=\"evenodd\" fill-opacity=\"1\" /><path clip-path=\"url(#clip940)\" d=\"M90.4364 1081.79 Q87.2882 1081.79 85.4364 1083.94 Q83.6077 1086.09 83.6077 1089.84 Q83.6077 1093.57 85.4364 1095.75 Q87.2882 1097.9 90.4364 1097.9 Q93.5845 1097.9 95.4132 1095.75 Q97.265 1093.57 97.265 1089.84 Q97.265 1086.09 95.4132 1083.94 Q93.5845 1081.79 90.4364 1081.79 M99.7187 1067.14 L99.7187 1071.39 Q97.9595 1070.56 96.1539 1070.12 Q94.3715 1069.68 92.6123 1069.68 Q87.9827 1069.68 85.529 1072.81 Q83.0984 1075.93 82.7512 1082.25 Q84.1169 1080.24 86.1771 1079.17 Q88.2373 1078.08 90.7141 1078.08 Q95.9224 1078.08 98.9317 1081.26 Q101.964 1084.4 101.964 1089.84 Q101.964 1095.17 98.8159 1098.39 Q95.6678 1101.6 90.4364 1101.6 Q84.441 1101.6 81.2697 1097.02 Q78.0985 1092.41 78.0985 1083.69 Q78.0985 1075.49 81.9873 1070.63 Q85.8762 1065.75 92.4271 1065.75 Q94.1863 1065.75 95.9687 1066.09 Q97.7743 1066.44 99.7187 1067.14 Z\" fill=\"#000000\" fill-rule=\"evenodd\" fill-opacity=\"1\" /><path clip-path=\"url(#clip940)\" d=\"M80.3438 828.666 L80.3438 824.407 Q82.1031 825.24 83.9086 825.68 Q85.7142 826.12 87.4503 826.12 Q92.0799 826.12 94.5104 823.018 Q96.9641 819.893 97.3113 813.551 Q95.9687 815.541 93.9086 816.606 Q91.8484 817.671 89.3484 817.671 Q84.1632 817.671 81.1309 814.546 Q78.1216 811.398 78.1216 805.958 Q78.1216 800.634 81.2697 797.417 Q84.4179 794.199 89.6493 794.199 Q95.6447 794.199 98.7928 798.805 Q101.964 803.389 101.964 812.139 Q101.964 820.31 98.0752 825.194 Q94.2095 830.055 87.6586 830.055 Q85.8993 830.055 84.0938 829.708 Q82.2883 829.361 80.3438 828.666 M89.6493 814.014 Q92.7975 814.014 94.6262 811.861 Q96.478 809.708 96.478 805.958 Q96.478 802.231 94.6262 800.079 Q92.7975 797.903 89.6493 797.903 Q86.5012 797.903 84.6494 800.079 Q82.8207 802.231 82.8207 805.958 Q82.8207 809.708 84.6494 811.861 Q86.5012 814.014 89.6493 814.014 Z\" fill=\"#000000\" fill-rule=\"evenodd\" fill-opacity=\"1\" /><path clip-path=\"url(#clip940)\" d=\"M52.2653 553.901 L59.9041 553.901 L59.9041 527.535 L51.594 529.202 L51.594 524.943 L59.8578 523.276 L64.5337 523.276 L64.5337 553.901 L72.1726 553.901 L72.1726 557.836 L52.2653 557.836 L52.2653 553.901 Z\" fill=\"#000000\" fill-rule=\"evenodd\" fill-opacity=\"1\" /><path clip-path=\"url(#clip940)\" d=\"M85.6447 553.901 L101.964 553.901 L101.964 557.836 L80.0197 557.836 L80.0197 553.901 Q82.6818 551.146 87.2651 546.517 Q91.8715 541.864 93.0521 540.521 Q95.2974 537.998 96.1771 536.262 Q97.0798 534.503 97.0798 532.813 Q97.0798 530.058 95.1354 528.322 Q93.2141 526.586 90.1123 526.586 Q87.9132 526.586 85.4595 527.35 Q83.029 528.114 80.2512 529.665 L80.2512 524.943 Q83.0753 523.808 85.529 523.23 Q87.9827 522.651 90.0197 522.651 Q95.39 522.651 98.5845 525.336 Q101.779 528.021 101.779 532.512 Q101.779 534.642 100.969 536.563 Q100.182 538.461 98.0752 541.054 Q97.4965 541.725 94.3947 544.943 Q91.2928 548.137 85.6447 553.901 Z\" fill=\"#000000\" fill-rule=\"evenodd\" fill-opacity=\"1\" /><path clip-path=\"url(#clip940)\" d=\"M51.6634 282.353 L59.3023 282.353 L59.3023 255.987 L50.9921 257.654 L50.9921 253.395 L59.256 251.728 L63.9319 251.728 L63.9319 282.353 L71.5707 282.353 L71.5707 286.288 L51.6634 286.288 L51.6634 282.353 Z\" fill=\"#000000\" fill-rule=\"evenodd\" fill-opacity=\"1\" /><path clip-path=\"url(#clip940)\" d=\"M81.0614 251.728 L99.4178 251.728 L99.4178 255.663 L85.3438 255.663 L85.3438 264.136 Q86.3623 263.788 87.3808 263.626 Q88.3993 263.441 89.4178 263.441 Q95.2049 263.441 98.5845 266.612 Q101.964 269.784 101.964 275.2 Q101.964 280.779 98.4919 283.881 Q95.0197 286.959 88.7003 286.959 Q86.5243 286.959 84.2558 286.589 Q82.0105 286.219 79.6031 285.478 L79.6031 280.779 Q81.6864 281.913 83.9086 282.469 Q86.1308 283.024 88.6077 283.024 Q92.6123 283.024 94.9502 280.918 Q97.2882 278.811 97.2882 275.2 Q97.2882 271.589 94.9502 269.483 Q92.6123 267.376 88.6077 267.376 Q86.7327 267.376 84.8577 267.793 Q83.0058 268.21 81.0614 269.089 L81.0614 251.728 Z\" fill=\"#000000\" fill-rule=\"evenodd\" fill-opacity=\"1\" /><polyline clip-path=\"url(#clip942)\" style=\"stroke:#009af9; stroke-linecap:round; stroke-linejoin:round; stroke-width:4; stroke-opacity:1; fill:none\" points=\"200.647,1445.72 339.942,1276 479.237,1117.6 618.532,970.507 757.827,834.733 897.122,710.274 1036.42,597.129 1175.71,495.298 1315.01,404.782 1454.3,325.581 1593.6,257.694 1732.89,201.121 1872.19,155.863 2011.48,121.92 2150.78,99.2908 2290.07,87.9763 \"/>\n",
       "<path clip-path=\"url(#clip940)\" d=\"M211.79 198.898 L485.7 198.898 L485.7 95.2176 L211.79 95.2176  Z\" fill=\"#ffffff\" fill-rule=\"evenodd\" fill-opacity=\"1\"/>\n",
       "<polyline clip-path=\"url(#clip940)\" style=\"stroke:#000000; stroke-linecap:round; stroke-linejoin:round; stroke-width:4; stroke-opacity:1; fill:none\" points=\"211.79,198.898 485.7,198.898 485.7,95.2176 211.79,95.2176 211.79,198.898 \"/>\n",
       "<polyline clip-path=\"url(#clip940)\" style=\"stroke:#009af9; stroke-linecap:round; stroke-linejoin:round; stroke-width:4; stroke-opacity:1; fill:none\" points=\"236.399,147.058 384.052,147.058 \"/>\n",
       "<path clip-path=\"url(#clip940)\" d=\"M422.503 166.745 Q420.698 171.375 418.985 172.787 Q417.272 174.199 414.402 174.199 L410.999 174.199 L410.999 170.634 L413.499 170.634 Q415.258 170.634 416.23 169.8 Q417.202 168.967 418.383 165.865 L419.147 163.921 L408.661 138.412 L413.175 138.412 L421.277 158.689 L429.378 138.412 L433.892 138.412 L422.503 166.745 Z\" fill=\"#000000\" fill-rule=\"evenodd\" fill-opacity=\"1\" /><path clip-path=\"url(#clip940)\" d=\"M441.184 160.402 L448.823 160.402 L448.823 134.037 L440.513 135.703 L440.513 131.444 L448.776 129.778 L453.452 129.778 L453.452 160.402 L461.091 160.402 L461.091 164.338 L441.184 164.338 L441.184 160.402 Z\" fill=\"#000000\" fill-rule=\"evenodd\" fill-opacity=\"1\" /></svg>\n"
      ]
     },
     "execution_count": 40,
     "metadata": {},
     "output_type": "execute_result"
    }
   ],
   "source": [
    "plot(u)"
   ]
  },
  {
   "cell_type": "code",
   "execution_count": null,
   "id": "be2f3a78",
   "metadata": {},
   "outputs": [],
   "source": []
  }
 ],
 "metadata": {
  "kernelspec": {
   "display_name": "Julia 1.8.1",
   "language": "julia",
   "name": "julia-1.8"
  },
  "language_info": {
   "file_extension": ".jl",
   "mimetype": "application/julia",
   "name": "julia",
   "version": "1.8.1"
  }
 },
 "nbformat": 4,
 "nbformat_minor": 5
}
