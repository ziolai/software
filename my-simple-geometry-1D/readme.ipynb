{
 "cells": [
  {
   "cell_type": "markdown",
   "id": "bcd56c40",
   "metadata": {},
   "source": [
    "# My Simple Geometry\n",
    "Poisson Equation on unit interval / square / cube domain."
   ]
  },
  {
   "cell_type": "markdown",
   "id": "c9d50259",
   "metadata": {},
   "source": [
    "## Import Libraries "
   ]
  },
  {
   "cell_type": "code",
   "execution_count": 3,
   "id": "bd828960",
   "metadata": {},
   "outputs": [],
   "source": [
    "using LinearAlgebra\n",
    "using Plots"
   ]
  },
  {
   "cell_type": "markdown",
   "id": "1678ae2e",
   "metadata": {},
   "source": [
    "## Section 1: Unit Square Domain with Mesh with three (3) cells\n",
    "Here we assume $0 < x < 1$. Generate mesh with 3 cells using blockMesh. The coordinates of the cell centers are $x_1 = 1/6$, $x_2 = 1/2$ and $x_3 = 5/6$.  \n",
    "\n",
    "### Section 1.1:/ Geometry Definition and Mesh Generation \n",
    "\n",
    "Check mesh using checkMesh: shows 3 hex elements using \n",
    "\n",
    "blocks\n",
    "(\n",
    "  hex (0 1 2 3 4 5 6 7) (3 1 1) edgeGrading (1 1 1 1 2 2 2 2 3 3 3 3)\n",
    ");\n",
    "\n",
    "### Section 2.1/ Coefficient matrix \n",
    "\n",
    "Cell centered finite volume representation with resulting matrix \n",
    "$A = \\begin{pmatrix} 1.5 & -1.5 & 0 \\\\ -1.5 & 3 & -1.5 \\\\ 0 & -1.5 & 1.5 \\end{pmatrix}$\n",
    "\n",
    "Resulting Compressed Sparse Row (CSR) representation \n",
    "\n",
    "$\\text{rows} = \\begin{pmatrix} 0 & 2 & 5 & 7 \\end{pmatrix}$\n",
    "\n",
    "$\\text{cols} = \\begin{pmatrix} 0 & 1 & 0 & 1 & 2 & 1 & 2 \\end{pmatrix}$\n",
    "\n",
    "$\\text{vals} = \\begin{pmatrix} 1.5 & -1.5 & -1.5 & 3 & -1.5 & -1.5 & 1.5 \\end{pmatrix}$\n",
    "\n",
    "### Section 3.1/ Right-Hand Side Vector \n",
    "In case that the source term is constant equal one, then each component of the resulting right-hand side vector is equal to\n",
    "$\n",
    "f_i = \\int_{x_i}^{x_{i+1}} 1 \\, dx = x_{i+1} - x_i \\, . \n",
    "$\n",
    "The resulting coefficient vector becomes \n",
    "${\\mathbf f} = \\begin{pmatrix} 1/3 \\\\ 1/3 \\\\ 1/3 \\end{pmatrix}$"
   ]
  },
  {
   "cell_type": "code",
   "execution_count": 4,
   "id": "581cbf2b",
   "metadata": {},
   "outputs": [
    {
     "data": {
      "text/plain": [
       "3×3 Matrix{Float64}:\n",
       "  1.5  -1.5   0.0\n",
       " -1.5   3.0  -1.5\n",
       "  0.0  -1.5   1.5"
      ]
     },
     "execution_count": 4,
     "metadata": {},
     "output_type": "execute_result"
    }
   ],
   "source": [
    "# Define matrix A \n",
    "A = [1.5 -1.5 0; -1.5 3 -1.5; 0 -1.5 1.5]"
   ]
  },
  {
   "cell_type": "code",
   "execution_count": 5,
   "id": "21304205",
   "metadata": {},
   "outputs": [
    {
     "data": {
      "text/plain": [
       "Eigen{Float64, Float64, Matrix{Float64}, Vector{Float64}}\n",
       "values:\n",
       "3-element Vector{Float64}:\n",
       " 3.552713678800501e-15\n",
       " 1.5000000000000036\n",
       " 4.5\n",
       "vectors:\n",
       "3×3 Matrix{Float64}:\n",
       " 0.57735   0.707107     -0.408248\n",
       " 0.57735  -6.28037e-16   0.816497\n",
       " 0.57735  -0.707107     -0.408248"
      ]
     },
     "execution_count": 5,
     "metadata": {},
     "output_type": "execute_result"
    }
   ],
   "source": [
    "# Compute eigenvalues of A and verify A to be singular \n",
    "eigen(A)"
   ]
  },
  {
   "cell_type": "code",
   "execution_count": 6,
   "id": "39f0d3c4",
   "metadata": {},
   "outputs": [
    {
     "data": {
      "text/plain": [
       "3-element Vector{Float64}:\n",
       " 0.6666666666666666\n",
       " 1.1111111111111112\n",
       " 1.3333333333333333"
      ]
     },
     "execution_count": 6,
     "metadata": {},
     "output_type": "execute_result"
    }
   ],
   "source": [
    "A[1,1] = 2*A[1,1]\n",
    "f = [1/3; 1/3 ; 1/3]\n",
    "u = A \\ f"
   ]
  },
  {
   "cell_type": "code",
   "execution_count": 7,
   "id": "4900f711",
   "metadata": {},
   "outputs": [
    {
     "data": {
      "image/svg+xml": [
       "<?xml version=\"1.0\" encoding=\"utf-8\"?>\n",
       "<svg xmlns=\"http://www.w3.org/2000/svg\" xmlns:xlink=\"http://www.w3.org/1999/xlink\" width=\"600\" height=\"400\" viewBox=\"0 0 2400 1600\">\n",
       "<defs>\n",
       "  <clipPath id=\"clip300\">\n",
       "    <rect x=\"0\" y=\"0\" width=\"2400\" height=\"1600\"/>\n",
       "  </clipPath>\n",
       "</defs>\n",
       "<path clip-path=\"url(#clip300)\" d=\"M0 1600 L2400 1600 L2400 0 L0 0  Z\" fill=\"#ffffff\" fill-rule=\"evenodd\" fill-opacity=\"1\"/>\n",
       "<defs>\n",
       "  <clipPath id=\"clip301\">\n",
       "    <rect x=\"480\" y=\"0\" width=\"1681\" height=\"1600\"/>\n",
       "  </clipPath>\n",
       "</defs>\n",
       "<path clip-path=\"url(#clip300)\" d=\"M219.866 1423.18 L2352.76 1423.18 L2352.76 47.2441 L219.866 47.2441  Z\" fill=\"#ffffff\" fill-rule=\"evenodd\" fill-opacity=\"1\"/>\n",
       "<defs>\n",
       "  <clipPath id=\"clip302\">\n",
       "    <rect x=\"219\" y=\"47\" width=\"2134\" height=\"1377\"/>\n",
       "  </clipPath>\n",
       "</defs>\n",
       "<polyline clip-path=\"url(#clip302)\" style=\"stroke:#000000; stroke-linecap:round; stroke-linejoin:round; stroke-width:2; stroke-opacity:0.1; fill:none\" points=\"280.231,1423.18 280.231,47.2441 \"/>\n",
       "<polyline clip-path=\"url(#clip302)\" style=\"stroke:#000000; stroke-linecap:round; stroke-linejoin:round; stroke-width:2; stroke-opacity:0.1; fill:none\" points=\"763.149,1423.18 763.149,47.2441 \"/>\n",
       "<polyline clip-path=\"url(#clip302)\" style=\"stroke:#000000; stroke-linecap:round; stroke-linejoin:round; stroke-width:2; stroke-opacity:0.1; fill:none\" points=\"1246.07,1423.18 1246.07,47.2441 \"/>\n",
       "<polyline clip-path=\"url(#clip302)\" style=\"stroke:#000000; stroke-linecap:round; stroke-linejoin:round; stroke-width:2; stroke-opacity:0.1; fill:none\" points=\"1728.99,1423.18 1728.99,47.2441 \"/>\n",
       "<polyline clip-path=\"url(#clip302)\" style=\"stroke:#000000; stroke-linecap:round; stroke-linejoin:round; stroke-width:2; stroke-opacity:0.1; fill:none\" points=\"2211.9,1423.18 2211.9,47.2441 \"/>\n",
       "<polyline clip-path=\"url(#clip300)\" style=\"stroke:#000000; stroke-linecap:round; stroke-linejoin:round; stroke-width:4; stroke-opacity:1; fill:none\" points=\"219.866,1423.18 2352.76,1423.18 \"/>\n",
       "<polyline clip-path=\"url(#clip300)\" style=\"stroke:#000000; stroke-linecap:round; stroke-linejoin:round; stroke-width:4; stroke-opacity:1; fill:none\" points=\"280.231,1423.18 280.231,1404.28 \"/>\n",
       "<polyline clip-path=\"url(#clip300)\" style=\"stroke:#000000; stroke-linecap:round; stroke-linejoin:round; stroke-width:4; stroke-opacity:1; fill:none\" points=\"763.149,1423.18 763.149,1404.28 \"/>\n",
       "<polyline clip-path=\"url(#clip300)\" style=\"stroke:#000000; stroke-linecap:round; stroke-linejoin:round; stroke-width:4; stroke-opacity:1; fill:none\" points=\"1246.07,1423.18 1246.07,1404.28 \"/>\n",
       "<polyline clip-path=\"url(#clip300)\" style=\"stroke:#000000; stroke-linecap:round; stroke-linejoin:round; stroke-width:4; stroke-opacity:1; fill:none\" points=\"1728.99,1423.18 1728.99,1404.28 \"/>\n",
       "<polyline clip-path=\"url(#clip300)\" style=\"stroke:#000000; stroke-linecap:round; stroke-linejoin:round; stroke-width:4; stroke-opacity:1; fill:none\" points=\"2211.9,1423.18 2211.9,1404.28 \"/>\n",
       "<path clip-path=\"url(#clip300)\" d=\"M257.615 1454.1 Q254.004 1454.1 252.176 1457.66 Q250.37 1461.2 250.37 1468.33 Q250.37 1475.44 252.176 1479.01 Q254.004 1482.55 257.615 1482.55 Q261.25 1482.55 263.055 1479.01 Q264.884 1475.44 264.884 1468.33 Q264.884 1461.2 263.055 1457.66 Q261.25 1454.1 257.615 1454.1 M257.615 1450.39 Q263.426 1450.39 266.481 1455 Q269.56 1459.58 269.56 1468.33 Q269.56 1477.06 266.481 1481.67 Q263.426 1486.25 257.615 1486.25 Q251.805 1486.25 248.727 1481.67 Q245.671 1477.06 245.671 1468.33 Q245.671 1459.58 248.727 1455 Q251.805 1450.39 257.615 1450.39 Z\" fill=\"#000000\" fill-rule=\"nonzero\" fill-opacity=\"1\" /><path clip-path=\"url(#clip300)\" d=\"M277.777 1479.7 L282.662 1479.7 L282.662 1485.58 L277.777 1485.58 L277.777 1479.7 Z\" fill=\"#000000\" fill-rule=\"nonzero\" fill-opacity=\"1\" /><path clip-path=\"url(#clip300)\" d=\"M302.847 1454.1 Q299.236 1454.1 297.407 1457.66 Q295.601 1461.2 295.601 1468.33 Q295.601 1475.44 297.407 1479.01 Q299.236 1482.55 302.847 1482.55 Q306.481 1482.55 308.286 1479.01 Q310.115 1475.44 310.115 1468.33 Q310.115 1461.2 308.286 1457.66 Q306.481 1454.1 302.847 1454.1 M302.847 1450.39 Q308.657 1450.39 311.712 1455 Q314.791 1459.58 314.791 1468.33 Q314.791 1477.06 311.712 1481.67 Q308.657 1486.25 302.847 1486.25 Q297.037 1486.25 293.958 1481.67 Q290.902 1477.06 290.902 1468.33 Q290.902 1459.58 293.958 1455 Q297.037 1450.39 302.847 1450.39 Z\" fill=\"#000000\" fill-rule=\"nonzero\" fill-opacity=\"1\" /><path clip-path=\"url(#clip300)\" d=\"M741.332 1454.1 Q737.721 1454.1 735.893 1457.66 Q734.087 1461.2 734.087 1468.33 Q734.087 1475.44 735.893 1479.01 Q737.721 1482.55 741.332 1482.55 Q744.967 1482.55 746.772 1479.01 Q748.601 1475.44 748.601 1468.33 Q748.601 1461.2 746.772 1457.66 Q744.967 1454.1 741.332 1454.1 M741.332 1450.39 Q747.143 1450.39 750.198 1455 Q753.277 1459.58 753.277 1468.33 Q753.277 1477.06 750.198 1481.67 Q747.143 1486.25 741.332 1486.25 Q735.522 1486.25 732.444 1481.67 Q729.388 1477.06 729.388 1468.33 Q729.388 1459.58 732.444 1455 Q735.522 1450.39 741.332 1450.39 Z\" fill=\"#000000\" fill-rule=\"nonzero\" fill-opacity=\"1\" /><path clip-path=\"url(#clip300)\" d=\"M761.494 1479.7 L766.379 1479.7 L766.379 1485.58 L761.494 1485.58 L761.494 1479.7 Z\" fill=\"#000000\" fill-rule=\"nonzero\" fill-opacity=\"1\" /><path clip-path=\"url(#clip300)\" d=\"M780.592 1481.64 L796.911 1481.64 L796.911 1485.58 L774.967 1485.58 L774.967 1481.64 Q777.629 1478.89 782.212 1474.26 Q786.818 1469.61 787.999 1468.27 Q790.244 1465.74 791.124 1464.01 Q792.027 1462.25 792.027 1460.56 Q792.027 1457.8 790.082 1456.07 Q788.161 1454.33 785.059 1454.33 Q782.86 1454.33 780.406 1455.09 Q777.976 1455.86 775.198 1457.41 L775.198 1452.69 Q778.022 1451.55 780.476 1450.97 Q782.929 1450.39 784.966 1450.39 Q790.337 1450.39 793.531 1453.08 Q796.726 1455.77 796.726 1460.26 Q796.726 1462.39 795.916 1464.31 Q795.128 1466.2 793.022 1468.8 Q792.443 1469.47 789.341 1472.69 Q786.24 1475.88 780.592 1481.64 Z\" fill=\"#000000\" fill-rule=\"nonzero\" fill-opacity=\"1\" /><path clip-path=\"url(#clip300)\" d=\"M1223.21 1454.1 Q1219.6 1454.1 1217.77 1457.66 Q1215.96 1461.2 1215.96 1468.33 Q1215.96 1475.44 1217.77 1479.01 Q1219.6 1482.55 1223.21 1482.55 Q1226.84 1482.55 1228.65 1479.01 Q1230.48 1475.44 1230.48 1468.33 Q1230.48 1461.2 1228.65 1457.66 Q1226.84 1454.1 1223.21 1454.1 M1223.21 1450.39 Q1229.02 1450.39 1232.07 1455 Q1235.15 1459.58 1235.15 1468.33 Q1235.15 1477.06 1232.07 1481.67 Q1229.02 1486.25 1223.21 1486.25 Q1217.4 1486.25 1214.32 1481.67 Q1211.26 1477.06 1211.26 1468.33 Q1211.26 1459.58 1214.32 1455 Q1217.4 1450.39 1223.21 1450.39 Z\" fill=\"#000000\" fill-rule=\"nonzero\" fill-opacity=\"1\" /><path clip-path=\"url(#clip300)\" d=\"M1243.37 1479.7 L1248.26 1479.7 L1248.26 1485.58 L1243.37 1485.58 L1243.37 1479.7 Z\" fill=\"#000000\" fill-rule=\"nonzero\" fill-opacity=\"1\" /><path clip-path=\"url(#clip300)\" d=\"M1271.29 1455.09 L1259.48 1473.54 L1271.29 1473.54 L1271.29 1455.09 M1270.06 1451.02 L1275.94 1451.02 L1275.94 1473.54 L1280.87 1473.54 L1280.87 1477.43 L1275.94 1477.43 L1275.94 1485.58 L1271.29 1485.58 L1271.29 1477.43 L1255.69 1477.43 L1255.69 1472.92 L1270.06 1451.02 Z\" fill=\"#000000\" fill-rule=\"nonzero\" fill-opacity=\"1\" /><path clip-path=\"url(#clip300)\" d=\"M1706.29 1454.1 Q1702.68 1454.1 1700.85 1457.66 Q1699.04 1461.2 1699.04 1468.33 Q1699.04 1475.44 1700.85 1479.01 Q1702.68 1482.55 1706.29 1482.55 Q1709.92 1482.55 1711.73 1479.01 Q1713.56 1475.44 1713.56 1468.33 Q1713.56 1461.2 1711.73 1457.66 Q1709.92 1454.1 1706.29 1454.1 M1706.29 1450.39 Q1712.1 1450.39 1715.16 1455 Q1718.23 1459.58 1718.23 1468.33 Q1718.23 1477.06 1715.16 1481.67 Q1712.1 1486.25 1706.29 1486.25 Q1700.48 1486.25 1697.4 1481.67 Q1694.35 1477.06 1694.35 1468.33 Q1694.35 1459.58 1697.4 1455 Q1700.48 1450.39 1706.29 1450.39 Z\" fill=\"#000000\" fill-rule=\"nonzero\" fill-opacity=\"1\" /><path clip-path=\"url(#clip300)\" d=\"M1726.45 1479.7 L1731.34 1479.7 L1731.34 1485.58 L1726.45 1485.58 L1726.45 1479.7 Z\" fill=\"#000000\" fill-rule=\"nonzero\" fill-opacity=\"1\" /><path clip-path=\"url(#clip300)\" d=\"M1752.1 1466.44 Q1748.95 1466.44 1747.1 1468.59 Q1745.27 1470.74 1745.27 1474.49 Q1745.27 1478.22 1747.1 1480.39 Q1748.95 1482.55 1752.1 1482.55 Q1755.25 1482.55 1757.08 1480.39 Q1758.93 1478.22 1758.93 1474.49 Q1758.93 1470.74 1757.08 1468.59 Q1755.25 1466.44 1752.1 1466.44 M1761.38 1451.78 L1761.38 1456.04 Q1759.62 1455.21 1757.82 1454.77 Q1756.03 1454.33 1754.28 1454.33 Q1749.65 1454.33 1747.19 1457.45 Q1744.76 1460.58 1744.41 1466.9 Q1745.78 1464.89 1747.84 1463.82 Q1749.9 1462.73 1752.38 1462.73 Q1757.59 1462.73 1760.59 1465.9 Q1763.63 1469.05 1763.63 1474.49 Q1763.63 1479.82 1760.48 1483.03 Q1757.33 1486.25 1752.1 1486.25 Q1746.1 1486.25 1742.93 1481.67 Q1739.76 1477.06 1739.76 1468.33 Q1739.76 1460.14 1743.65 1455.28 Q1747.54 1450.39 1754.09 1450.39 Q1755.85 1450.39 1757.63 1450.74 Q1759.44 1451.09 1761.38 1451.78 Z\" fill=\"#000000\" fill-rule=\"nonzero\" fill-opacity=\"1\" /><path clip-path=\"url(#clip300)\" d=\"M2189.34 1454.1 Q2185.72 1454.1 2183.9 1457.66 Q2182.09 1461.2 2182.09 1468.33 Q2182.09 1475.44 2183.9 1479.01 Q2185.72 1482.55 2189.34 1482.55 Q2192.97 1482.55 2194.78 1479.01 Q2196.6 1475.44 2196.6 1468.33 Q2196.6 1461.2 2194.78 1457.66 Q2192.97 1454.1 2189.34 1454.1 M2189.34 1450.39 Q2195.15 1450.39 2198.2 1455 Q2201.28 1459.58 2201.28 1468.33 Q2201.28 1477.06 2198.2 1481.67 Q2195.15 1486.25 2189.34 1486.25 Q2183.53 1486.25 2180.45 1481.67 Q2177.39 1477.06 2177.39 1468.33 Q2177.39 1459.58 2180.45 1455 Q2183.53 1450.39 2189.34 1450.39 Z\" fill=\"#000000\" fill-rule=\"nonzero\" fill-opacity=\"1\" /><path clip-path=\"url(#clip300)\" d=\"M2209.5 1479.7 L2214.38 1479.7 L2214.38 1485.58 L2209.5 1485.58 L2209.5 1479.7 Z\" fill=\"#000000\" fill-rule=\"nonzero\" fill-opacity=\"1\" /><path clip-path=\"url(#clip300)\" d=\"M2234.57 1469.17 Q2231.23 1469.17 2229.31 1470.95 Q2227.41 1472.73 2227.41 1475.86 Q2227.41 1478.98 2229.31 1480.77 Q2231.23 1482.55 2234.57 1482.55 Q2237.9 1482.55 2239.82 1480.77 Q2241.74 1478.96 2241.74 1475.86 Q2241.74 1472.73 2239.82 1470.95 Q2237.92 1469.17 2234.57 1469.17 M2229.89 1467.18 Q2226.88 1466.44 2225.19 1464.38 Q2223.53 1462.32 2223.53 1459.35 Q2223.53 1455.21 2226.46 1452.8 Q2229.43 1450.39 2234.57 1450.39 Q2239.73 1450.39 2242.67 1452.8 Q2245.61 1455.21 2245.61 1459.35 Q2245.61 1462.32 2243.92 1464.38 Q2242.25 1466.44 2239.27 1467.18 Q2242.65 1467.96 2244.52 1470.26 Q2246.42 1472.55 2246.42 1475.86 Q2246.42 1480.88 2243.34 1483.57 Q2240.28 1486.25 2234.57 1486.25 Q2228.85 1486.25 2225.77 1483.57 Q2222.71 1480.88 2222.71 1475.86 Q2222.71 1472.55 2224.61 1470.26 Q2226.51 1467.96 2229.89 1467.18 M2228.18 1459.79 Q2228.18 1462.48 2229.84 1463.98 Q2231.53 1465.49 2234.57 1465.49 Q2237.58 1465.49 2239.27 1463.98 Q2240.98 1462.48 2240.98 1459.79 Q2240.98 1457.11 2239.27 1455.6 Q2237.58 1454.1 2234.57 1454.1 Q2231.53 1454.1 2229.84 1455.6 Q2228.18 1457.11 2228.18 1459.79 Z\" fill=\"#000000\" fill-rule=\"nonzero\" fill-opacity=\"1\" /><path clip-path=\"url(#clip300)\" d=\"M1302.93 1532.4 L1290.04 1549.74 L1303.59 1568.04 L1296.69 1568.04 L1286.31 1554.04 L1275.93 1568.04 L1269.03 1568.04 L1282.87 1549.39 L1270.21 1532.4 L1277.11 1532.4 L1286.57 1545.1 L1296.02 1532.4 L1302.93 1532.4 Z\" fill=\"#000000\" fill-rule=\"nonzero\" fill-opacity=\"1\" /><polyline clip-path=\"url(#clip302)\" style=\"stroke:#000000; stroke-linecap:round; stroke-linejoin:round; stroke-width:2; stroke-opacity:0.1; fill:none\" points=\"219.866,1384.24 2352.76,1384.24 \"/>\n",
       "<polyline clip-path=\"url(#clip302)\" style=\"stroke:#000000; stroke-linecap:round; stroke-linejoin:round; stroke-width:2; stroke-opacity:0.1; fill:none\" points=\"219.866,1189.53 2352.76,1189.53 \"/>\n",
       "<polyline clip-path=\"url(#clip302)\" style=\"stroke:#000000; stroke-linecap:round; stroke-linejoin:round; stroke-width:2; stroke-opacity:0.1; fill:none\" points=\"219.866,994.822 2352.76,994.822 \"/>\n",
       "<polyline clip-path=\"url(#clip302)\" style=\"stroke:#000000; stroke-linecap:round; stroke-linejoin:round; stroke-width:2; stroke-opacity:0.1; fill:none\" points=\"219.866,800.115 2352.76,800.115 \"/>\n",
       "<polyline clip-path=\"url(#clip302)\" style=\"stroke:#000000; stroke-linecap:round; stroke-linejoin:round; stroke-width:2; stroke-opacity:0.1; fill:none\" points=\"219.866,605.407 2352.76,605.407 \"/>\n",
       "<polyline clip-path=\"url(#clip302)\" style=\"stroke:#000000; stroke-linecap:round; stroke-linejoin:round; stroke-width:2; stroke-opacity:0.1; fill:none\" points=\"219.866,410.699 2352.76,410.699 \"/>\n",
       "<polyline clip-path=\"url(#clip302)\" style=\"stroke:#000000; stroke-linecap:round; stroke-linejoin:round; stroke-width:2; stroke-opacity:0.1; fill:none\" points=\"219.866,215.991 2352.76,215.991 \"/>\n",
       "<polyline clip-path=\"url(#clip300)\" style=\"stroke:#000000; stroke-linecap:round; stroke-linejoin:round; stroke-width:4; stroke-opacity:1; fill:none\" points=\"219.866,1423.18 219.866,47.2441 \"/>\n",
       "<polyline clip-path=\"url(#clip300)\" style=\"stroke:#000000; stroke-linecap:round; stroke-linejoin:round; stroke-width:4; stroke-opacity:1; fill:none\" points=\"219.866,1384.24 238.764,1384.24 \"/>\n",
       "<polyline clip-path=\"url(#clip300)\" style=\"stroke:#000000; stroke-linecap:round; stroke-linejoin:round; stroke-width:4; stroke-opacity:1; fill:none\" points=\"219.866,1189.53 238.764,1189.53 \"/>\n",
       "<polyline clip-path=\"url(#clip300)\" style=\"stroke:#000000; stroke-linecap:round; stroke-linejoin:round; stroke-width:4; stroke-opacity:1; fill:none\" points=\"219.866,994.822 238.764,994.822 \"/>\n",
       "<polyline clip-path=\"url(#clip300)\" style=\"stroke:#000000; stroke-linecap:round; stroke-linejoin:round; stroke-width:4; stroke-opacity:1; fill:none\" points=\"219.866,800.115 238.764,800.115 \"/>\n",
       "<polyline clip-path=\"url(#clip300)\" style=\"stroke:#000000; stroke-linecap:round; stroke-linejoin:round; stroke-width:4; stroke-opacity:1; fill:none\" points=\"219.866,605.407 238.764,605.407 \"/>\n",
       "<polyline clip-path=\"url(#clip300)\" style=\"stroke:#000000; stroke-linecap:round; stroke-linejoin:round; stroke-width:4; stroke-opacity:1; fill:none\" points=\"219.866,410.699 238.764,410.699 \"/>\n",
       "<polyline clip-path=\"url(#clip300)\" style=\"stroke:#000000; stroke-linecap:round; stroke-linejoin:round; stroke-width:4; stroke-opacity:1; fill:none\" points=\"219.866,215.991 238.764,215.991 \"/>\n",
       "<path clip-path=\"url(#clip300)\" d=\"M126.691 1370.04 Q123.08 1370.04 121.251 1373.6 Q119.445 1377.14 119.445 1384.27 Q119.445 1391.38 121.251 1394.94 Q123.08 1398.49 126.691 1398.49 Q130.325 1398.49 132.13 1394.94 Q133.959 1391.38 133.959 1384.27 Q133.959 1377.14 132.13 1373.6 Q130.325 1370.04 126.691 1370.04 M126.691 1366.33 Q132.501 1366.33 135.556 1370.94 Q138.635 1375.52 138.635 1384.27 Q138.635 1393 135.556 1397.61 Q132.501 1402.19 126.691 1402.19 Q120.88 1402.19 117.802 1397.61 Q114.746 1393 114.746 1384.27 Q114.746 1375.52 117.802 1370.94 Q120.88 1366.33 126.691 1366.33 Z\" fill=\"#000000\" fill-rule=\"nonzero\" fill-opacity=\"1\" /><path clip-path=\"url(#clip300)\" d=\"M146.853 1395.64 L151.737 1395.64 L151.737 1401.52 L146.853 1401.52 L146.853 1395.64 Z\" fill=\"#000000\" fill-rule=\"nonzero\" fill-opacity=\"1\" /><path clip-path=\"url(#clip300)\" d=\"M171.922 1370.04 Q168.311 1370.04 166.482 1373.6 Q164.677 1377.14 164.677 1384.27 Q164.677 1391.38 166.482 1394.94 Q168.311 1398.49 171.922 1398.49 Q175.556 1398.49 177.362 1394.94 Q179.19 1391.38 179.19 1384.27 Q179.19 1377.14 177.362 1373.6 Q175.556 1370.04 171.922 1370.04 M171.922 1366.33 Q177.732 1366.33 180.788 1370.94 Q183.866 1375.52 183.866 1384.27 Q183.866 1393 180.788 1397.61 Q177.732 1402.19 171.922 1402.19 Q166.112 1402.19 163.033 1397.61 Q159.978 1393 159.978 1384.27 Q159.978 1375.52 163.033 1370.94 Q166.112 1366.33 171.922 1366.33 Z\" fill=\"#000000\" fill-rule=\"nonzero\" fill-opacity=\"1\" /><path clip-path=\"url(#clip300)\" d=\"M128.288 1175.33 Q124.677 1175.33 122.848 1178.89 Q121.043 1182.44 121.043 1189.57 Q121.043 1196.67 122.848 1200.24 Q124.677 1203.78 128.288 1203.78 Q131.922 1203.78 133.728 1200.24 Q135.556 1196.67 135.556 1189.57 Q135.556 1182.44 133.728 1178.89 Q131.922 1175.33 128.288 1175.33 M128.288 1171.63 Q134.098 1171.63 137.154 1176.23 Q140.232 1180.82 140.232 1189.57 Q140.232 1198.29 137.154 1202.9 Q134.098 1207.48 128.288 1207.48 Q122.478 1207.48 119.399 1202.9 Q116.343 1198.29 116.343 1189.57 Q116.343 1180.82 119.399 1176.23 Q122.478 1171.63 128.288 1171.63 Z\" fill=\"#000000\" fill-rule=\"nonzero\" fill-opacity=\"1\" /><path clip-path=\"url(#clip300)\" d=\"M148.45 1200.93 L153.334 1200.93 L153.334 1206.81 L148.45 1206.81 L148.45 1200.93 Z\" fill=\"#000000\" fill-rule=\"nonzero\" fill-opacity=\"1\" /><path clip-path=\"url(#clip300)\" d=\"M167.547 1202.88 L183.866 1202.88 L183.866 1206.81 L161.922 1206.81 L161.922 1202.88 Q164.584 1200.12 169.167 1195.49 Q173.774 1190.84 174.954 1189.5 Q177.2 1186.97 178.079 1185.24 Q178.982 1183.48 178.982 1181.79 Q178.982 1179.03 177.038 1177.3 Q175.116 1175.56 172.014 1175.56 Q169.815 1175.56 167.362 1176.32 Q164.931 1177.09 162.153 1178.64 L162.153 1173.92 Q164.977 1172.78 167.431 1172.2 Q169.885 1171.63 171.922 1171.63 Q177.292 1171.63 180.487 1174.31 Q183.681 1177 183.681 1181.49 Q183.681 1183.62 182.871 1185.54 Q182.084 1187.44 179.977 1190.03 Q179.399 1190.7 176.297 1193.92 Q173.195 1197.11 167.547 1202.88 Z\" fill=\"#000000\" fill-rule=\"nonzero\" fill-opacity=\"1\" /><path clip-path=\"url(#clip300)\" d=\"M126.205 980.621 Q122.593 980.621 120.765 984.186 Q118.959 987.728 118.959 994.857 Q118.959 1001.96 120.765 1005.53 Q122.593 1009.07 126.205 1009.07 Q129.839 1009.07 131.644 1005.53 Q133.473 1001.96 133.473 994.857 Q133.473 987.728 131.644 984.186 Q129.839 980.621 126.205 980.621 M126.205 976.917 Q132.015 976.917 135.07 981.524 Q138.149 986.107 138.149 994.857 Q138.149 1003.58 135.07 1008.19 Q132.015 1012.77 126.205 1012.77 Q120.394 1012.77 117.316 1008.19 Q114.26 1003.58 114.26 994.857 Q114.26 986.107 117.316 981.524 Q120.394 976.917 126.205 976.917 Z\" fill=\"#000000\" fill-rule=\"nonzero\" fill-opacity=\"1\" /><path clip-path=\"url(#clip300)\" d=\"M146.366 1006.22 L151.251 1006.22 L151.251 1012.1 L146.366 1012.1 L146.366 1006.22 Z\" fill=\"#000000\" fill-rule=\"nonzero\" fill-opacity=\"1\" /><path clip-path=\"url(#clip300)\" d=\"M174.283 981.617 L162.477 1000.07 L174.283 1000.07 L174.283 981.617 M173.056 977.542 L178.936 977.542 L178.936 1000.07 L183.866 1000.07 L183.866 1003.95 L178.936 1003.95 L178.936 1012.1 L174.283 1012.1 L174.283 1003.95 L158.681 1003.95 L158.681 999.441 L173.056 977.542 Z\" fill=\"#000000\" fill-rule=\"nonzero\" fill-opacity=\"1\" /><path clip-path=\"url(#clip300)\" d=\"M126.529 785.913 Q122.918 785.913 121.089 789.478 Q119.283 793.02 119.283 800.149 Q119.283 807.256 121.089 810.821 Q122.918 814.362 126.529 814.362 Q130.163 814.362 131.968 810.821 Q133.797 807.256 133.797 800.149 Q133.797 793.02 131.968 789.478 Q130.163 785.913 126.529 785.913 M126.529 782.21 Q132.339 782.21 135.394 786.816 Q138.473 791.399 138.473 800.149 Q138.473 808.876 135.394 813.483 Q132.339 818.066 126.529 818.066 Q120.718 818.066 117.64 813.483 Q114.584 808.876 114.584 800.149 Q114.584 791.399 117.64 786.816 Q120.718 782.21 126.529 782.21 Z\" fill=\"#000000\" fill-rule=\"nonzero\" fill-opacity=\"1\" /><path clip-path=\"url(#clip300)\" d=\"M146.691 811.515 L151.575 811.515 L151.575 817.395 L146.691 817.395 L146.691 811.515 Z\" fill=\"#000000\" fill-rule=\"nonzero\" fill-opacity=\"1\" /><path clip-path=\"url(#clip300)\" d=\"M172.339 798.251 Q169.19 798.251 167.339 800.404 Q165.51 802.557 165.51 806.307 Q165.51 810.034 167.339 812.209 Q169.19 814.362 172.339 814.362 Q175.487 814.362 177.315 812.209 Q179.167 810.034 179.167 806.307 Q179.167 802.557 177.315 800.404 Q175.487 798.251 172.339 798.251 M181.621 783.598 L181.621 787.858 Q179.862 787.024 178.056 786.585 Q176.274 786.145 174.514 786.145 Q169.885 786.145 167.431 789.27 Q165.001 792.395 164.653 798.714 Q166.019 796.7 168.079 795.635 Q170.139 794.547 172.616 794.547 Q177.825 794.547 180.834 797.719 Q183.866 800.867 183.866 806.307 Q183.866 811.631 180.718 814.848 Q177.57 818.066 172.339 818.066 Q166.343 818.066 163.172 813.483 Q160.001 808.876 160.001 800.149 Q160.001 791.955 163.89 787.094 Q167.778 782.21 174.329 782.21 Q176.089 782.21 177.871 782.557 Q179.676 782.904 181.621 783.598 Z\" fill=\"#000000\" fill-rule=\"nonzero\" fill-opacity=\"1\" /><path clip-path=\"url(#clip300)\" d=\"M126.783 591.205 Q123.172 591.205 121.343 594.77 Q119.538 598.312 119.538 605.441 Q119.538 612.548 121.343 616.113 Q123.172 619.654 126.783 619.654 Q130.417 619.654 132.223 616.113 Q134.052 612.548 134.052 605.441 Q134.052 598.312 132.223 594.77 Q130.417 591.205 126.783 591.205 M126.783 587.502 Q132.593 587.502 135.649 592.108 Q138.728 596.691 138.728 605.441 Q138.728 614.168 135.649 618.775 Q132.593 623.358 126.783 623.358 Q120.973 623.358 117.894 618.775 Q114.839 614.168 114.839 605.441 Q114.839 596.691 117.894 592.108 Q120.973 587.502 126.783 587.502 Z\" fill=\"#000000\" fill-rule=\"nonzero\" fill-opacity=\"1\" /><path clip-path=\"url(#clip300)\" d=\"M146.945 616.807 L151.829 616.807 L151.829 622.687 L146.945 622.687 L146.945 616.807 Z\" fill=\"#000000\" fill-rule=\"nonzero\" fill-opacity=\"1\" /><path clip-path=\"url(#clip300)\" d=\"M172.014 606.275 Q168.681 606.275 166.76 608.057 Q164.862 609.84 164.862 612.965 Q164.862 616.09 166.76 617.872 Q168.681 619.654 172.014 619.654 Q175.348 619.654 177.269 617.872 Q179.19 616.066 179.19 612.965 Q179.19 609.84 177.269 608.057 Q175.371 606.275 172.014 606.275 M167.339 604.284 Q164.329 603.543 162.64 601.483 Q160.973 599.423 160.973 596.46 Q160.973 592.317 163.913 589.909 Q166.876 587.502 172.014 587.502 Q177.176 587.502 180.116 589.909 Q183.056 592.317 183.056 596.46 Q183.056 599.423 181.366 601.483 Q179.7 603.543 176.714 604.284 Q180.093 605.071 181.968 607.363 Q183.866 609.654 183.866 612.965 Q183.866 617.988 180.788 620.673 Q177.732 623.358 172.014 623.358 Q166.297 623.358 163.218 620.673 Q160.163 617.988 160.163 612.965 Q160.163 609.654 162.061 607.363 Q163.959 605.071 167.339 604.284 M165.626 596.9 Q165.626 599.585 167.292 601.09 Q168.982 602.594 172.014 602.594 Q175.024 602.594 176.714 601.09 Q178.426 599.585 178.426 596.9 Q178.426 594.215 176.714 592.71 Q175.024 591.205 172.014 591.205 Q168.982 591.205 167.292 592.71 Q165.626 594.215 165.626 596.9 Z\" fill=\"#000000\" fill-rule=\"nonzero\" fill-opacity=\"1\" /><path clip-path=\"url(#clip300)\" d=\"M117.501 424.044 L125.14 424.044 L125.14 397.678 L116.83 399.345 L116.83 395.085 L125.093 393.419 L129.769 393.419 L129.769 424.044 L137.408 424.044 L137.408 427.979 L117.501 427.979 L117.501 424.044 Z\" fill=\"#000000\" fill-rule=\"nonzero\" fill-opacity=\"1\" /><path clip-path=\"url(#clip300)\" d=\"M146.853 422.099 L151.737 422.099 L151.737 427.979 L146.853 427.979 L146.853 422.099 Z\" fill=\"#000000\" fill-rule=\"nonzero\" fill-opacity=\"1\" /><path clip-path=\"url(#clip300)\" d=\"M171.922 396.498 Q168.311 396.498 166.482 400.062 Q164.677 403.604 164.677 410.734 Q164.677 417.84 166.482 421.405 Q168.311 424.946 171.922 424.946 Q175.556 424.946 177.362 421.405 Q179.19 417.84 179.19 410.734 Q179.19 403.604 177.362 400.062 Q175.556 396.498 171.922 396.498 M171.922 392.794 Q177.732 392.794 180.788 397.4 Q183.866 401.984 183.866 410.734 Q183.866 419.46 180.788 424.067 Q177.732 428.65 171.922 428.65 Q166.112 428.65 163.033 424.067 Q159.978 419.46 159.978 410.734 Q159.978 401.984 163.033 397.4 Q166.112 392.794 171.922 392.794 Z\" fill=\"#000000\" fill-rule=\"nonzero\" fill-opacity=\"1\" /><path clip-path=\"url(#clip300)\" d=\"M119.098 229.336 L126.737 229.336 L126.737 202.97 L118.427 204.637 L118.427 200.378 L126.691 198.711 L131.367 198.711 L131.367 229.336 L139.005 229.336 L139.005 233.271 L119.098 233.271 L119.098 229.336 Z\" fill=\"#000000\" fill-rule=\"nonzero\" fill-opacity=\"1\" /><path clip-path=\"url(#clip300)\" d=\"M148.45 227.391 L153.334 227.391 L153.334 233.271 L148.45 233.271 L148.45 227.391 Z\" fill=\"#000000\" fill-rule=\"nonzero\" fill-opacity=\"1\" /><path clip-path=\"url(#clip300)\" d=\"M167.547 229.336 L183.866 229.336 L183.866 233.271 L161.922 233.271 L161.922 229.336 Q164.584 226.581 169.167 221.952 Q173.774 217.299 174.954 215.956 Q177.2 213.433 178.079 211.697 Q178.982 209.938 178.982 208.248 Q178.982 205.493 177.038 203.757 Q175.116 202.021 172.014 202.021 Q169.815 202.021 167.362 202.785 Q164.931 203.549 162.153 205.1 L162.153 200.378 Q164.977 199.243 167.431 198.665 Q169.885 198.086 171.922 198.086 Q177.292 198.086 180.487 200.771 Q183.681 203.456 183.681 207.947 Q183.681 210.077 182.871 211.998 Q182.084 213.896 179.977 216.489 Q179.399 217.16 176.297 220.377 Q173.195 223.572 167.547 229.336 Z\" fill=\"#000000\" fill-rule=\"nonzero\" fill-opacity=\"1\" /><path clip-path=\"url(#clip300)\" d=\"M49.9359 750.14 L28.3562 750.14 L28.3562 744.283 L49.7131 744.283 Q54.7739 744.283 57.3202 742.31 Q59.8346 740.336 59.8346 736.39 Q59.8346 731.647 56.8109 728.91 Q53.7872 726.141 48.5673 726.141 L28.3562 726.141 L28.3562 720.284 L64.0042 720.284 L64.0042 726.141 L58.5296 726.141 Q61.7762 728.273 63.3676 731.106 Q64.9272 733.907 64.9272 737.631 Q64.9272 743.774 61.1078 746.957 Q57.2883 750.14 49.9359 750.14 M27.4968 735.403 L27.4968 735.403 Z\" fill=\"#000000\" fill-rule=\"nonzero\" fill-opacity=\"1\" /><polyline clip-path=\"url(#clip302)\" style=\"stroke:#009af9; stroke-linecap:round; stroke-linejoin:round; stroke-width:4; stroke-opacity:1; fill:none\" points=\"280.231,1384.24 682.663,735.212 1487.53,302.528 2292.39,86.1857 \"/>\n",
       "<path clip-path=\"url(#clip300)\" d=\"M290.963 196.789 L556.682 196.789 L556.682 93.1086 L290.963 93.1086  Z\" fill=\"#ffffff\" fill-rule=\"evenodd\" fill-opacity=\"1\"/>\n",
       "<polyline clip-path=\"url(#clip300)\" style=\"stroke:#000000; stroke-linecap:round; stroke-linejoin:round; stroke-width:4; stroke-opacity:1; fill:none\" points=\"290.963,196.789 556.682,196.789 556.682,93.1086 290.963,93.1086 290.963,196.789 \"/>\n",
       "<polyline clip-path=\"url(#clip300)\" style=\"stroke:#009af9; stroke-linecap:round; stroke-linejoin:round; stroke-width:4; stroke-opacity:1; fill:none\" points=\"314.661,144.949 456.854,144.949 \"/>\n",
       "<path clip-path=\"url(#clip300)\" d=\"M494.395 164.636 Q492.59 169.266 490.877 170.678 Q489.164 172.09 486.293 172.09 L482.891 172.09 L482.891 168.525 L485.391 168.525 Q487.15 168.525 488.122 167.692 Q489.094 166.858 490.275 163.756 L491.039 161.812 L480.553 136.303 L485.067 136.303 L493.168 156.581 L501.27 136.303 L505.784 136.303 L494.395 164.636 Z\" fill=\"#000000\" fill-rule=\"nonzero\" fill-opacity=\"1\" /><path clip-path=\"url(#clip300)\" d=\"M513.076 158.293 L520.715 158.293 L520.715 131.928 L512.404 133.595 L512.404 129.335 L520.668 127.669 L525.344 127.669 L525.344 158.293 L532.983 158.293 L532.983 162.229 L513.076 162.229 L513.076 158.293 Z\" fill=\"#000000\" fill-rule=\"nonzero\" fill-opacity=\"1\" /></svg>\n"
      ]
     },
     "execution_count": 7,
     "metadata": {},
     "output_type": "execute_result"
    }
   ],
   "source": [
    "u_with_boundary = [0; u]\n",
    "x = [0;1/6;1/2;5/6]\n",
    "plot(x,u_with_boundary,xlabel=\"x\", ylabel=\"u\")"
   ]
  },
  {
   "cell_type": "markdown",
   "id": "4752674d",
   "metadata": {},
   "source": [
    "## Section 2: Unit Square Domain with Mesh with four (4) cells \n",
    "Here we assume again $0 < x < 1$. Generate mesh using blockMesh with 4 cells ($ncells = 4$) with 3 internal faces ($nfaces = 3$). The coordinates of the cell centers are $x_1 = 1/8$, $x_2 = 3/8$, $x_3 = 5/8$ and $x_4 = 7/8$.\n",
    "\n",
    "### Section 1.2:/ Geometry Definition and Mesh Generation\n",
    "\n",
    "Check mesh using checkMesh: shows 4 hex elements using \n",
    "\n",
    "blocks\n",
    "(\n",
    "  hex (0 1 2 3 4 5 6 7) (4 1 1) edgeGrading (1 1 1 1 2 2 2 2 3 3 3 3)\n",
    ");\n",
    "\n",
    "### Section 2.2/ Coefficient matrix\n",
    "Cell centered finite volume representation with resulting matrix of size \n",
    "$ncells \\times ncells = 4 \\times 4$ and $nfaces$ non-zero elements in the upper and lower triangle:  \n",
    "$A = \\begin{pmatrix} 2 & -2 & 0  & 0 \\\\ \n",
    "                    -2 &  4 & -2 & 0 \\\\ \n",
    "                     0 & -2 & 4  & -2 \\\\\n",
    "                     0 &  0 & -2 & 2 \\end{pmatrix}$\n",
    "\n",
    "Resulting Compressed Sparse Row (CSR) representation \n",
    "\n",
    "$\\text{rows} = \\begin{pmatrix} 0 & 2 & 5 & 8 & 10 \\end{pmatrix}$\n",
    "\n",
    "$\\text{cols} = \\begin{pmatrix} 0 & 1 & 0 & 1 & 2 & 1 & 2 & 3 & 2 & 3 \\end{pmatrix}$\n",
    "\n",
    "$\\text{vals} = \\begin{pmatrix} 2 & -2 & -2 & 4 & -2 & -2 & 4 & -2 & -2 & 2 \\end{pmatrix}$\n",
    "\n",
    "### Section 3.2/ Coefficient matrix\n",
    "\n",
    "The resulting coefficient vector becomes \n",
    "${\\mathbf f} = \\begin{pmatrix} 1/4 \\\\ 1/4 \\\\ 1/4 \\\\ 1/4 \\end{pmatrix}$"
   ]
  },
  {
   "cell_type": "code",
   "execution_count": 19,
   "id": "5c31082a",
   "metadata": {},
   "outputs": [
    {
     "data": {
      "text/plain": [
       "4×4 Matrix{Int64}:\n",
       "  2  -2   0   0\n",
       " -2   4  -2   0\n",
       "  0  -2   4  -2\n",
       "  0   0  -2   2"
      ]
     },
     "execution_count": 19,
     "metadata": {},
     "output_type": "execute_result"
    }
   ],
   "source": [
    "# Define matrix A \n",
    "A = [2 -2 0 0; -2 4 -2 0; 0 -2 4 -2; 0 0 -2 2]"
   ]
  },
  {
   "cell_type": "code",
   "execution_count": 20,
   "id": "72769c3d",
   "metadata": {},
   "outputs": [
    {
     "data": {
      "text/plain": [
       "Eigen{Float64, Float64, Matrix{Float64}, Vector{Float64}}\n",
       "values:\n",
       "4-element Vector{Float64}:\n",
       " 0.0\n",
       " 1.1715728752538084\n",
       " 3.9999999999999987\n",
       " 6.828427124746179\n",
       "vectors:\n",
       "4×4 Matrix{Float64}:\n",
       " 0.5   0.653281  -0.5   0.270598\n",
       " 0.5   0.270598   0.5  -0.653281\n",
       " 0.5  -0.270598   0.5   0.653281\n",
       " 0.5  -0.653281  -0.5  -0.270598"
      ]
     },
     "execution_count": 20,
     "metadata": {},
     "output_type": "execute_result"
    }
   ],
   "source": [
    "# Compute eigenvalues of A and verify A to be singular \n",
    "eigen(A)"
   ]
  },
  {
   "cell_type": "code",
   "execution_count": 21,
   "id": "ad047b05",
   "metadata": {},
   "outputs": [
    {
     "data": {
      "text/plain": [
       "4-element Vector{Float64}:\n",
       " 1.9999999999999993\n",
       " 3.4999999999999987\n",
       " 4.499999999999998\n",
       " 4.999999999999998"
      ]
     },
     "execution_count": 21,
     "metadata": {},
     "output_type": "execute_result"
    }
   ],
   "source": [
    "A[1,1] = 2*A[1,1]\n",
    "f = [1; 1 ; 1; 1]\n",
    "u = A \\ f"
   ]
  },
  {
   "cell_type": "code",
   "execution_count": 23,
   "id": "857c4ad6",
   "metadata": {},
   "outputs": [
    {
     "data": {
      "image/svg+xml": [
       "<?xml version=\"1.0\" encoding=\"utf-8\"?>\n",
       "<svg xmlns=\"http://www.w3.org/2000/svg\" xmlns:xlink=\"http://www.w3.org/1999/xlink\" width=\"600\" height=\"400\" viewBox=\"0 0 2400 1600\">\n",
       "<defs>\n",
       "  <clipPath id=\"clip860\">\n",
       "    <rect x=\"0\" y=\"0\" width=\"2400\" height=\"1600\"/>\n",
       "  </clipPath>\n",
       "</defs>\n",
       "<path clip-path=\"url(#clip860)\" d=\"M0 1600 L2400 1600 L2400 0 L0 0  Z\" fill=\"#ffffff\" fill-rule=\"evenodd\" fill-opacity=\"1\"/>\n",
       "<defs>\n",
       "  <clipPath id=\"clip861\">\n",
       "    <rect x=\"480\" y=\"0\" width=\"1681\" height=\"1600\"/>\n",
       "  </clipPath>\n",
       "</defs>\n",
       "<path clip-path=\"url(#clip860)\" d=\"M175.445 1423.18 L2352.76 1423.18 L2352.76 47.2441 L175.445 47.2441  Z\" fill=\"#ffffff\" fill-rule=\"evenodd\" fill-opacity=\"1\"/>\n",
       "<defs>\n",
       "  <clipPath id=\"clip862\">\n",
       "    <rect x=\"175\" y=\"47\" width=\"2178\" height=\"1377\"/>\n",
       "  </clipPath>\n",
       "</defs>\n",
       "<polyline clip-path=\"url(#clip862)\" style=\"stroke:#000000; stroke-linecap:round; stroke-linejoin:round; stroke-width:2; stroke-opacity:0.1; fill:none\" points=\"237.067,1423.18 237.067,47.2441 \"/>\n",
       "<polyline clip-path=\"url(#clip862)\" style=\"stroke:#000000; stroke-linecap:round; stroke-linejoin:round; stroke-width:2; stroke-opacity:0.1; fill:none\" points=\"706.568,1423.18 706.568,47.2441 \"/>\n",
       "<polyline clip-path=\"url(#clip862)\" style=\"stroke:#000000; stroke-linecap:round; stroke-linejoin:round; stroke-width:2; stroke-opacity:0.1; fill:none\" points=\"1176.07,1423.18 1176.07,47.2441 \"/>\n",
       "<polyline clip-path=\"url(#clip862)\" style=\"stroke:#000000; stroke-linecap:round; stroke-linejoin:round; stroke-width:2; stroke-opacity:0.1; fill:none\" points=\"1645.57,1423.18 1645.57,47.2441 \"/>\n",
       "<polyline clip-path=\"url(#clip862)\" style=\"stroke:#000000; stroke-linecap:round; stroke-linejoin:round; stroke-width:2; stroke-opacity:0.1; fill:none\" points=\"2115.07,1423.18 2115.07,47.2441 \"/>\n",
       "<polyline clip-path=\"url(#clip860)\" style=\"stroke:#000000; stroke-linecap:round; stroke-linejoin:round; stroke-width:4; stroke-opacity:1; fill:none\" points=\"175.445,1423.18 2352.76,1423.18 \"/>\n",
       "<polyline clip-path=\"url(#clip860)\" style=\"stroke:#000000; stroke-linecap:round; stroke-linejoin:round; stroke-width:4; stroke-opacity:1; fill:none\" points=\"237.067,1423.18 237.067,1404.28 \"/>\n",
       "<polyline clip-path=\"url(#clip860)\" style=\"stroke:#000000; stroke-linecap:round; stroke-linejoin:round; stroke-width:4; stroke-opacity:1; fill:none\" points=\"706.568,1423.18 706.568,1404.28 \"/>\n",
       "<polyline clip-path=\"url(#clip860)\" style=\"stroke:#000000; stroke-linecap:round; stroke-linejoin:round; stroke-width:4; stroke-opacity:1; fill:none\" points=\"1176.07,1423.18 1176.07,1404.28 \"/>\n",
       "<polyline clip-path=\"url(#clip860)\" style=\"stroke:#000000; stroke-linecap:round; stroke-linejoin:round; stroke-width:4; stroke-opacity:1; fill:none\" points=\"1645.57,1423.18 1645.57,1404.28 \"/>\n",
       "<polyline clip-path=\"url(#clip860)\" style=\"stroke:#000000; stroke-linecap:round; stroke-linejoin:round; stroke-width:4; stroke-opacity:1; fill:none\" points=\"2115.07,1423.18 2115.07,1404.28 \"/>\n",
       "<path clip-path=\"url(#clip860)\" d=\"M214.452 1454.1 Q210.84 1454.1 209.012 1457.66 Q207.206 1461.2 207.206 1468.33 Q207.206 1475.44 209.012 1479.01 Q210.84 1482.55 214.452 1482.55 Q218.086 1482.55 219.891 1479.01 Q221.72 1475.44 221.72 1468.33 Q221.72 1461.2 219.891 1457.66 Q218.086 1454.1 214.452 1454.1 M214.452 1450.39 Q220.262 1450.39 223.317 1455 Q226.396 1459.58 226.396 1468.33 Q226.396 1477.06 223.317 1481.67 Q220.262 1486.25 214.452 1486.25 Q208.641 1486.25 205.563 1481.67 Q202.507 1477.06 202.507 1468.33 Q202.507 1459.58 205.563 1455 Q208.641 1450.39 214.452 1450.39 Z\" fill=\"#000000\" fill-rule=\"evenodd\" fill-opacity=\"1\" /><path clip-path=\"url(#clip860)\" d=\"M234.614 1479.7 L239.498 1479.7 L239.498 1485.58 L234.614 1485.58 L234.614 1479.7 Z\" fill=\"#000000\" fill-rule=\"evenodd\" fill-opacity=\"1\" /><path clip-path=\"url(#clip860)\" d=\"M259.683 1454.1 Q256.072 1454.1 254.243 1457.66 Q252.437 1461.2 252.437 1468.33 Q252.437 1475.44 254.243 1479.01 Q256.072 1482.55 259.683 1482.55 Q263.317 1482.55 265.123 1479.01 Q266.951 1475.44 266.951 1468.33 Q266.951 1461.2 265.123 1457.66 Q263.317 1454.1 259.683 1454.1 M259.683 1450.39 Q265.493 1450.39 268.549 1455 Q271.627 1459.58 271.627 1468.33 Q271.627 1477.06 268.549 1481.67 Q265.493 1486.25 259.683 1486.25 Q253.873 1486.25 250.794 1481.67 Q247.738 1477.06 247.738 1468.33 Q247.738 1459.58 250.794 1455 Q253.873 1450.39 259.683 1450.39 Z\" fill=\"#000000\" fill-rule=\"evenodd\" fill-opacity=\"1\" /><path clip-path=\"url(#clip860)\" d=\"M684.751 1454.1 Q681.14 1454.1 679.311 1457.66 Q677.506 1461.2 677.506 1468.33 Q677.506 1475.44 679.311 1479.01 Q681.14 1482.55 684.751 1482.55 Q688.385 1482.55 690.191 1479.01 Q692.02 1475.44 692.02 1468.33 Q692.02 1461.2 690.191 1457.66 Q688.385 1454.1 684.751 1454.1 M684.751 1450.39 Q690.561 1450.39 693.617 1455 Q696.696 1459.58 696.696 1468.33 Q696.696 1477.06 693.617 1481.67 Q690.561 1486.25 684.751 1486.25 Q678.941 1486.25 675.862 1481.67 Q672.807 1477.06 672.807 1468.33 Q672.807 1459.58 675.862 1455 Q678.941 1450.39 684.751 1450.39 Z\" fill=\"#000000\" fill-rule=\"evenodd\" fill-opacity=\"1\" /><path clip-path=\"url(#clip860)\" d=\"M704.913 1479.7 L709.797 1479.7 L709.797 1485.58 L704.913 1485.58 L704.913 1479.7 Z\" fill=\"#000000\" fill-rule=\"evenodd\" fill-opacity=\"1\" /><path clip-path=\"url(#clip860)\" d=\"M724.01 1481.64 L740.33 1481.64 L740.33 1485.58 L718.385 1485.58 L718.385 1481.64 Q721.047 1478.89 725.631 1474.26 Q730.237 1469.61 731.418 1468.27 Q733.663 1465.74 734.543 1464.01 Q735.445 1462.25 735.445 1460.56 Q735.445 1457.8 733.501 1456.07 Q731.58 1454.33 728.478 1454.33 Q726.279 1454.33 723.825 1455.09 Q721.394 1455.86 718.617 1457.41 L718.617 1452.69 Q721.441 1451.55 723.894 1450.97 Q726.348 1450.39 728.385 1450.39 Q733.756 1450.39 736.95 1453.08 Q740.144 1455.77 740.144 1460.26 Q740.144 1462.39 739.334 1464.31 Q738.547 1466.2 736.441 1468.8 Q735.862 1469.47 732.76 1472.69 Q729.658 1475.88 724.01 1481.64 Z\" fill=\"#000000\" fill-rule=\"evenodd\" fill-opacity=\"1\" /><path clip-path=\"url(#clip860)\" d=\"M1153.21 1454.1 Q1149.6 1454.1 1147.77 1457.66 Q1145.97 1461.2 1145.97 1468.33 Q1145.97 1475.44 1147.77 1479.01 Q1149.6 1482.55 1153.21 1482.55 Q1156.84 1482.55 1158.65 1479.01 Q1160.48 1475.44 1160.48 1468.33 Q1160.48 1461.2 1158.65 1457.66 Q1156.84 1454.1 1153.21 1454.1 M1153.21 1450.39 Q1159.02 1450.39 1162.08 1455 Q1165.15 1459.58 1165.15 1468.33 Q1165.15 1477.06 1162.08 1481.67 Q1159.02 1486.25 1153.21 1486.25 Q1147.4 1486.25 1144.32 1481.67 Q1141.27 1477.06 1141.27 1468.33 Q1141.27 1459.58 1144.32 1455 Q1147.4 1450.39 1153.21 1450.39 Z\" fill=\"#000000\" fill-rule=\"evenodd\" fill-opacity=\"1\" /><path clip-path=\"url(#clip860)\" d=\"M1173.37 1479.7 L1178.26 1479.7 L1178.26 1485.58 L1173.37 1485.58 L1173.37 1479.7 Z\" fill=\"#000000\" fill-rule=\"evenodd\" fill-opacity=\"1\" /><path clip-path=\"url(#clip860)\" d=\"M1201.29 1455.09 L1189.48 1473.54 L1201.29 1473.54 L1201.29 1455.09 M1200.06 1451.02 L1205.94 1451.02 L1205.94 1473.54 L1210.87 1473.54 L1210.87 1477.43 L1205.94 1477.43 L1205.94 1485.58 L1201.29 1485.58 L1201.29 1477.43 L1185.69 1477.43 L1185.69 1472.92 L1200.06 1451.02 Z\" fill=\"#000000\" fill-rule=\"evenodd\" fill-opacity=\"1\" /><path clip-path=\"url(#clip860)\" d=\"M1622.87 1454.1 Q1619.26 1454.1 1617.43 1457.66 Q1615.63 1461.2 1615.63 1468.33 Q1615.63 1475.44 1617.43 1479.01 Q1619.26 1482.55 1622.87 1482.55 Q1626.51 1482.55 1628.31 1479.01 Q1630.14 1475.44 1630.14 1468.33 Q1630.14 1461.2 1628.31 1457.66 Q1626.51 1454.1 1622.87 1454.1 M1622.87 1450.39 Q1628.68 1450.39 1631.74 1455 Q1634.82 1459.58 1634.82 1468.33 Q1634.82 1477.06 1631.74 1481.67 Q1628.68 1486.25 1622.87 1486.25 Q1617.06 1486.25 1613.98 1481.67 Q1610.93 1477.06 1610.93 1468.33 Q1610.93 1459.58 1613.98 1455 Q1617.06 1450.39 1622.87 1450.39 Z\" fill=\"#000000\" fill-rule=\"evenodd\" fill-opacity=\"1\" /><path clip-path=\"url(#clip860)\" d=\"M1643.04 1479.7 L1647.92 1479.7 L1647.92 1485.58 L1643.04 1485.58 L1643.04 1479.7 Z\" fill=\"#000000\" fill-rule=\"evenodd\" fill-opacity=\"1\" /><path clip-path=\"url(#clip860)\" d=\"M1668.68 1466.44 Q1665.54 1466.44 1663.68 1468.59 Q1661.85 1470.74 1661.85 1474.49 Q1661.85 1478.22 1663.68 1480.39 Q1665.54 1482.55 1668.68 1482.55 Q1671.83 1482.55 1673.66 1480.39 Q1675.51 1478.22 1675.51 1474.49 Q1675.51 1470.74 1673.66 1468.59 Q1671.83 1466.44 1668.68 1466.44 M1677.97 1451.78 L1677.97 1456.04 Q1676.21 1455.21 1674.4 1454.77 Q1672.62 1454.33 1670.86 1454.33 Q1666.23 1454.33 1663.78 1457.45 Q1661.35 1460.58 1661 1466.9 Q1662.36 1464.89 1664.42 1463.82 Q1666.48 1462.73 1668.96 1462.73 Q1674.17 1462.73 1677.18 1465.9 Q1680.21 1469.05 1680.21 1474.49 Q1680.21 1479.82 1677.06 1483.03 Q1673.91 1486.25 1668.68 1486.25 Q1662.69 1486.25 1659.52 1481.67 Q1656.35 1477.06 1656.35 1468.33 Q1656.35 1460.14 1660.23 1455.28 Q1664.12 1450.39 1670.67 1450.39 Q1672.43 1450.39 1674.22 1450.74 Q1676.02 1451.09 1677.97 1451.78 Z\" fill=\"#000000\" fill-rule=\"evenodd\" fill-opacity=\"1\" /><path clip-path=\"url(#clip860)\" d=\"M2092.5 1454.1 Q2088.89 1454.1 2087.06 1457.66 Q2085.26 1461.2 2085.26 1468.33 Q2085.26 1475.44 2087.06 1479.01 Q2088.89 1482.55 2092.5 1482.55 Q2096.14 1482.55 2097.94 1479.01 Q2099.77 1475.44 2099.77 1468.33 Q2099.77 1461.2 2097.94 1457.66 Q2096.14 1454.1 2092.5 1454.1 M2092.5 1450.39 Q2098.31 1450.39 2101.37 1455 Q2104.45 1459.58 2104.45 1468.33 Q2104.45 1477.06 2101.37 1481.67 Q2098.31 1486.25 2092.5 1486.25 Q2086.69 1486.25 2083.61 1481.67 Q2080.56 1477.06 2080.56 1468.33 Q2080.56 1459.58 2083.61 1455 Q2086.69 1450.39 2092.5 1450.39 Z\" fill=\"#000000\" fill-rule=\"evenodd\" fill-opacity=\"1\" /><path clip-path=\"url(#clip860)\" d=\"M2112.66 1479.7 L2117.55 1479.7 L2117.55 1485.58 L2112.66 1485.58 L2112.66 1479.7 Z\" fill=\"#000000\" fill-rule=\"evenodd\" fill-opacity=\"1\" /><path clip-path=\"url(#clip860)\" d=\"M2137.73 1469.17 Q2134.4 1469.17 2132.48 1470.95 Q2130.58 1472.73 2130.58 1475.86 Q2130.58 1478.98 2132.48 1480.77 Q2134.4 1482.55 2137.73 1482.55 Q2141.07 1482.55 2142.99 1480.77 Q2144.91 1478.96 2144.91 1475.86 Q2144.91 1472.73 2142.99 1470.95 Q2141.09 1469.17 2137.73 1469.17 M2133.06 1467.18 Q2130.05 1466.44 2128.36 1464.38 Q2126.69 1462.32 2126.69 1459.35 Q2126.69 1455.21 2129.63 1452.8 Q2132.59 1450.39 2137.73 1450.39 Q2142.89 1450.39 2145.83 1452.8 Q2148.77 1455.21 2148.77 1459.35 Q2148.77 1462.32 2147.08 1464.38 Q2145.42 1466.44 2142.43 1467.18 Q2145.81 1467.96 2147.69 1470.26 Q2149.58 1472.55 2149.58 1475.86 Q2149.58 1480.88 2146.51 1483.57 Q2143.45 1486.25 2137.73 1486.25 Q2132.02 1486.25 2128.94 1483.57 Q2125.88 1480.88 2125.88 1475.86 Q2125.88 1472.55 2127.78 1470.26 Q2129.68 1467.96 2133.06 1467.18 M2131.34 1459.79 Q2131.34 1462.48 2133.01 1463.98 Q2134.7 1465.49 2137.73 1465.49 Q2140.74 1465.49 2142.43 1463.98 Q2144.14 1462.48 2144.14 1459.79 Q2144.14 1457.11 2142.43 1455.6 Q2140.74 1454.1 2137.73 1454.1 Q2134.7 1454.1 2133.01 1455.6 Q2131.34 1457.11 2131.34 1459.79 Z\" fill=\"#000000\" fill-rule=\"evenodd\" fill-opacity=\"1\" /><path clip-path=\"url(#clip860)\" d=\"M1280.72 1532.4 L1267.82 1549.74 L1281.38 1568.04 L1274.48 1568.04 L1264.1 1554.04 L1253.72 1568.04 L1246.82 1568.04 L1260.66 1549.39 L1248 1532.4 L1254.9 1532.4 L1264.36 1545.1 L1273.81 1532.4 L1280.72 1532.4 Z\" fill=\"#000000\" fill-rule=\"evenodd\" fill-opacity=\"1\" /><polyline clip-path=\"url(#clip862)\" style=\"stroke:#000000; stroke-linecap:round; stroke-linejoin:round; stroke-width:2; stroke-opacity:0.1; fill:none\" points=\"175.445,1384.24 2352.76,1384.24 \"/>\n",
       "<polyline clip-path=\"url(#clip862)\" style=\"stroke:#000000; stroke-linecap:round; stroke-linejoin:round; stroke-width:2; stroke-opacity:0.1; fill:none\" points=\"175.445,1124.63 2352.76,1124.63 \"/>\n",
       "<polyline clip-path=\"url(#clip862)\" style=\"stroke:#000000; stroke-linecap:round; stroke-linejoin:round; stroke-width:2; stroke-opacity:0.1; fill:none\" points=\"175.445,865.017 2352.76,865.017 \"/>\n",
       "<polyline clip-path=\"url(#clip862)\" style=\"stroke:#000000; stroke-linecap:round; stroke-linejoin:round; stroke-width:2; stroke-opacity:0.1; fill:none\" points=\"175.445,605.407 2352.76,605.407 \"/>\n",
       "<polyline clip-path=\"url(#clip862)\" style=\"stroke:#000000; stroke-linecap:round; stroke-linejoin:round; stroke-width:2; stroke-opacity:0.1; fill:none\" points=\"175.445,345.796 2352.76,345.796 \"/>\n",
       "<polyline clip-path=\"url(#clip862)\" style=\"stroke:#000000; stroke-linecap:round; stroke-linejoin:round; stroke-width:2; stroke-opacity:0.1; fill:none\" points=\"175.445,86.1857 2352.76,86.1857 \"/>\n",
       "<polyline clip-path=\"url(#clip860)\" style=\"stroke:#000000; stroke-linecap:round; stroke-linejoin:round; stroke-width:4; stroke-opacity:1; fill:none\" points=\"175.445,1423.18 175.445,47.2441 \"/>\n",
       "<polyline clip-path=\"url(#clip860)\" style=\"stroke:#000000; stroke-linecap:round; stroke-linejoin:round; stroke-width:4; stroke-opacity:1; fill:none\" points=\"175.445,1384.24 194.343,1384.24 \"/>\n",
       "<polyline clip-path=\"url(#clip860)\" style=\"stroke:#000000; stroke-linecap:round; stroke-linejoin:round; stroke-width:4; stroke-opacity:1; fill:none\" points=\"175.445,1124.63 194.343,1124.63 \"/>\n",
       "<polyline clip-path=\"url(#clip860)\" style=\"stroke:#000000; stroke-linecap:round; stroke-linejoin:round; stroke-width:4; stroke-opacity:1; fill:none\" points=\"175.445,865.017 194.343,865.017 \"/>\n",
       "<polyline clip-path=\"url(#clip860)\" style=\"stroke:#000000; stroke-linecap:round; stroke-linejoin:round; stroke-width:4; stroke-opacity:1; fill:none\" points=\"175.445,605.407 194.343,605.407 \"/>\n",
       "<polyline clip-path=\"url(#clip860)\" style=\"stroke:#000000; stroke-linecap:round; stroke-linejoin:round; stroke-width:4; stroke-opacity:1; fill:none\" points=\"175.445,345.796 194.343,345.796 \"/>\n",
       "<polyline clip-path=\"url(#clip860)\" style=\"stroke:#000000; stroke-linecap:round; stroke-linejoin:round; stroke-width:4; stroke-opacity:1; fill:none\" points=\"175.445,86.1857 194.343,86.1857 \"/>\n",
       "<path clip-path=\"url(#clip860)\" d=\"M127.501 1370.04 Q123.89 1370.04 122.061 1373.6 Q120.255 1377.14 120.255 1384.27 Q120.255 1391.38 122.061 1394.94 Q123.89 1398.49 127.501 1398.49 Q131.135 1398.49 132.941 1394.94 Q134.769 1391.38 134.769 1384.27 Q134.769 1377.14 132.941 1373.6 Q131.135 1370.04 127.501 1370.04 M127.501 1366.33 Q133.311 1366.33 136.367 1370.94 Q139.445 1375.52 139.445 1384.27 Q139.445 1393 136.367 1397.61 Q133.311 1402.19 127.501 1402.19 Q121.691 1402.19 118.612 1397.61 Q115.556 1393 115.556 1384.27 Q115.556 1375.52 118.612 1370.94 Q121.691 1366.33 127.501 1366.33 Z\" fill=\"#000000\" fill-rule=\"evenodd\" fill-opacity=\"1\" /><path clip-path=\"url(#clip860)\" d=\"M119.538 1137.97 L127.177 1137.97 L127.177 1111.61 L118.867 1113.27 L118.867 1109.01 L127.13 1107.35 L131.806 1107.35 L131.806 1137.97 L139.445 1137.97 L139.445 1141.91 L119.538 1141.91 L119.538 1137.97 Z\" fill=\"#000000\" fill-rule=\"evenodd\" fill-opacity=\"1\" /><path clip-path=\"url(#clip860)\" d=\"M123.126 878.362 L139.445 878.362 L139.445 882.297 L117.501 882.297 L117.501 878.362 Q120.163 875.607 124.746 870.978 Q129.353 866.325 130.533 864.983 Q132.779 862.459 133.658 860.723 Q134.561 858.964 134.561 857.274 Q134.561 854.52 132.617 852.783 Q130.695 851.047 127.593 851.047 Q125.394 851.047 122.941 851.811 Q120.51 852.575 117.732 854.126 L117.732 849.404 Q120.556 848.27 123.01 847.691 Q125.464 847.112 127.501 847.112 Q132.871 847.112 136.066 849.797 Q139.26 852.483 139.26 856.973 Q139.26 859.103 138.45 861.024 Q137.663 862.922 135.556 865.515 Q134.978 866.186 131.876 869.404 Q128.774 872.598 123.126 878.362 Z\" fill=\"#000000\" fill-rule=\"evenodd\" fill-opacity=\"1\" /><path clip-path=\"url(#clip860)\" d=\"M132.316 604.053 Q135.672 604.77 137.547 607.039 Q139.445 609.307 139.445 612.64 Q139.445 617.756 135.927 620.557 Q132.408 623.358 125.927 623.358 Q123.751 623.358 121.436 622.918 Q119.144 622.502 116.691 621.645 L116.691 617.131 Q118.635 618.265 120.95 618.844 Q123.265 619.423 125.788 619.423 Q130.186 619.423 132.478 617.687 Q134.792 615.951 134.792 612.64 Q134.792 609.585 132.64 607.872 Q130.51 606.136 126.691 606.136 L122.663 606.136 L122.663 602.293 L126.876 602.293 Q130.325 602.293 132.154 600.928 Q133.982 599.539 133.982 596.946 Q133.982 594.284 132.084 592.872 Q130.209 591.437 126.691 591.437 Q124.769 591.437 122.57 591.854 Q120.371 592.27 117.732 593.15 L117.732 588.983 Q120.394 588.242 122.709 587.872 Q125.047 587.502 127.107 587.502 Q132.431 587.502 135.533 589.932 Q138.635 592.34 138.635 596.46 Q138.635 599.33 136.992 601.321 Q135.348 603.289 132.316 604.053 Z\" fill=\"#000000\" fill-rule=\"evenodd\" fill-opacity=\"1\" /><path clip-path=\"url(#clip860)\" d=\"M129.862 332.59 L118.056 351.039 L129.862 351.039 L129.862 332.59 M128.635 328.516 L134.515 328.516 L134.515 351.039 L139.445 351.039 L139.445 354.928 L134.515 354.928 L134.515 363.076 L129.862 363.076 L129.862 354.928 L114.26 354.928 L114.26 350.414 L128.635 328.516 Z\" fill=\"#000000\" fill-rule=\"evenodd\" fill-opacity=\"1\" /><path clip-path=\"url(#clip860)\" d=\"M118.543 68.9057 L136.899 68.9057 L136.899 72.8408 L122.825 72.8408 L122.825 81.313 Q123.843 80.9658 124.862 80.8038 Q125.88 80.6186 126.899 80.6186 Q132.686 80.6186 136.066 83.7899 Q139.445 86.9611 139.445 92.3778 Q139.445 97.9564 135.973 101.058 Q132.501 104.137 126.181 104.137 Q124.005 104.137 121.737 103.767 Q119.492 103.396 117.084 102.655 L117.084 97.9564 Q119.168 99.0907 121.39 99.6462 Q123.612 100.202 126.089 100.202 Q130.093 100.202 132.431 98.0953 Q134.769 95.9889 134.769 92.3778 Q134.769 88.7667 132.431 86.6602 Q130.093 84.5537 126.089 84.5537 Q124.214 84.5537 122.339 84.9704 Q120.487 85.3871 118.543 86.2667 L118.543 68.9057 Z\" fill=\"#000000\" fill-rule=\"evenodd\" fill-opacity=\"1\" /><path clip-path=\"url(#clip860)\" d=\"M49.9359 750.14 L28.3562 750.14 L28.3562 744.283 L49.7131 744.283 Q54.7739 744.283 57.3202 742.31 Q59.8346 740.336 59.8346 736.39 Q59.8346 731.647 56.8109 728.91 Q53.7872 726.141 48.5673 726.141 L28.3562 726.141 L28.3562 720.284 L64.0042 720.284 L64.0042 726.141 L58.5296 726.141 Q61.7762 728.273 63.3676 731.106 Q64.9272 733.907 64.9272 737.631 Q64.9272 743.774 61.1078 746.957 Q57.2883 750.14 49.9359 750.14 M27.4968 735.403 L27.4968 735.403 Z\" fill=\"#000000\" fill-rule=\"evenodd\" fill-opacity=\"1\" /><polyline clip-path=\"url(#clip862)\" style=\"stroke:#009af9; stroke-linecap:round; stroke-linejoin:round; stroke-width:4; stroke-opacity:1; fill:none\" points=\"237.067,1384.24 530.505,865.017 1117.38,475.601 1704.26,215.991 2291.13,86.1857 \"/>\n",
       "<path clip-path=\"url(#clip860)\" d=\"M248.022 196.789 L518.184 196.789 L518.184 93.1086 L248.022 93.1086  Z\" fill=\"#ffffff\" fill-rule=\"evenodd\" fill-opacity=\"1\"/>\n",
       "<polyline clip-path=\"url(#clip860)\" style=\"stroke:#000000; stroke-linecap:round; stroke-linejoin:round; stroke-width:4; stroke-opacity:1; fill:none\" points=\"248.022,196.789 518.184,196.789 518.184,93.1086 248.022,93.1086 248.022,196.789 \"/>\n",
       "<polyline clip-path=\"url(#clip860)\" style=\"stroke:#009af9; stroke-linecap:round; stroke-linejoin:round; stroke-width:4; stroke-opacity:1; fill:none\" points=\"272.215,144.949 417.369,144.949 \"/>\n",
       "<path clip-path=\"url(#clip860)\" d=\"M455.403 164.636 Q453.598 169.266 451.885 170.678 Q450.172 172.09 447.302 172.09 L443.899 172.09 L443.899 168.525 L446.399 168.525 Q448.158 168.525 449.13 167.692 Q450.103 166.858 451.283 163.756 L452.047 161.812 L441.561 136.303 L446.075 136.303 L454.177 156.581 L462.278 136.303 L466.792 136.303 L455.403 164.636 Z\" fill=\"#000000\" fill-rule=\"evenodd\" fill-opacity=\"1\" /><path clip-path=\"url(#clip860)\" d=\"M474.084 158.293 L481.723 158.293 L481.723 131.928 L473.413 133.595 L473.413 129.335 L481.676 127.669 L486.352 127.669 L486.352 158.293 L493.991 158.293 L493.991 162.229 L474.084 162.229 L474.084 158.293 Z\" fill=\"#000000\" fill-rule=\"evenodd\" fill-opacity=\"1\" /></svg>\n"
      ]
     },
     "execution_count": 23,
     "metadata": {},
     "output_type": "execute_result"
    }
   ],
   "source": [
    "u_with_boundary = [0; u]\n",
    "x = [0;1/8;3/8;5/8;7/8]\n",
    "plot(x,u_with_boundary,xlabel=\"x\", ylabel=\"u\")"
   ]
  },
  {
   "cell_type": "markdown",
   "id": "12e3d684",
   "metadata": {},
   "source": [
    "## Section 3:/ Unit Square Domain with Mesh with more cells"
   ]
  },
  {
   "cell_type": "code",
   "execution_count": 38,
   "id": "73a9d881",
   "metadata": {},
   "outputs": [
    {
     "data": {
      "text/plain": [
       "16×16 Tridiagonal{Float64, Vector{Float64}}:\n",
       " 16.0  -8.0    ⋅     ⋅     ⋅     ⋅   …    ⋅     ⋅     ⋅     ⋅     ⋅     ⋅ \n",
       " -8.0  16.0  -8.0    ⋅     ⋅     ⋅        ⋅     ⋅     ⋅     ⋅     ⋅     ⋅ \n",
       "   ⋅   -8.0  16.0  -8.0    ⋅     ⋅        ⋅     ⋅     ⋅     ⋅     ⋅     ⋅ \n",
       "   ⋅     ⋅   -8.0  16.0  -8.0    ⋅        ⋅     ⋅     ⋅     ⋅     ⋅     ⋅ \n",
       "   ⋅     ⋅     ⋅   -8.0  16.0  -8.0       ⋅     ⋅     ⋅     ⋅     ⋅     ⋅ \n",
       "   ⋅     ⋅     ⋅     ⋅   -8.0  16.0  …    ⋅     ⋅     ⋅     ⋅     ⋅     ⋅ \n",
       "   ⋅     ⋅     ⋅     ⋅     ⋅   -8.0       ⋅     ⋅     ⋅     ⋅     ⋅     ⋅ \n",
       "   ⋅     ⋅     ⋅     ⋅     ⋅     ⋅        ⋅     ⋅     ⋅     ⋅     ⋅     ⋅ \n",
       "   ⋅     ⋅     ⋅     ⋅     ⋅     ⋅        ⋅     ⋅     ⋅     ⋅     ⋅     ⋅ \n",
       "   ⋅     ⋅     ⋅     ⋅     ⋅     ⋅      -8.0    ⋅     ⋅     ⋅     ⋅     ⋅ \n",
       "   ⋅     ⋅     ⋅     ⋅     ⋅     ⋅   …  16.0  -8.0    ⋅     ⋅     ⋅     ⋅ \n",
       "   ⋅     ⋅     ⋅     ⋅     ⋅     ⋅      -8.0  16.0  -8.0    ⋅     ⋅     ⋅ \n",
       "   ⋅     ⋅     ⋅     ⋅     ⋅     ⋅        ⋅   -8.0  16.0  -8.0    ⋅     ⋅ \n",
       "   ⋅     ⋅     ⋅     ⋅     ⋅     ⋅        ⋅     ⋅   -8.0  16.0  -8.0    ⋅ \n",
       "   ⋅     ⋅     ⋅     ⋅     ⋅     ⋅        ⋅     ⋅     ⋅   -8.0  16.0  -8.0\n",
       "   ⋅     ⋅     ⋅     ⋅     ⋅     ⋅   …    ⋅     ⋅     ⋅     ⋅   -8.0   8.0"
      ]
     },
     "metadata": {},
     "output_type": "display_data"
    }
   ],
   "source": [
    "N = 16; # number of cells\n",
    "h = 1/N; # cell width \n",
    "\n",
    "#..construct the coefficient matrix \n",
    "e = ones(N);  \n",
    "A = Tridiagonal(-e[2:end], 2*e, -e[2:end]); \n",
    "A = (1/(2*h))*A; \n",
    "\n",
    "#..handle the boundary conditions in last row of the matrix \n",
    "A[end,end]=A[end,end]/2;     \n",
    "display(A)"
   ]
  },
  {
   "cell_type": "code",
   "execution_count": 39,
   "id": "bb902541",
   "metadata": {},
   "outputs": [],
   "source": [
    "# Set the right-hand side vector \n",
    "f = ones(N); \n",
    "# Solve the linear system for u \n",
    "u = A \\ f; "
   ]
  },
  {
   "cell_type": "code",
   "execution_count": 40,
   "id": "ebd558ca",
   "metadata": {},
   "outputs": [
    {
     "data": {
      "image/svg+xml": [
       "<?xml version=\"1.0\" encoding=\"utf-8\"?>\n",
       "<svg xmlns=\"http://www.w3.org/2000/svg\" xmlns:xlink=\"http://www.w3.org/1999/xlink\" width=\"600\" height=\"400\" viewBox=\"0 0 2400 1600\">\n",
       "<defs>\n",
       "  <clipPath id=\"clip940\">\n",
       "    <rect x=\"0\" y=\"0\" width=\"2400\" height=\"1600\"/>\n",
       "  </clipPath>\n",
       "</defs>\n",
       "<path clip-path=\"url(#clip940)\" d=\"M0 1600 L2400 1600 L2400 0 L0 0  Z\" fill=\"#ffffff\" fill-rule=\"evenodd\" fill-opacity=\"1\"/>\n",
       "<defs>\n",
       "  <clipPath id=\"clip941\">\n",
       "    <rect x=\"480\" y=\"0\" width=\"1681\" height=\"1600\"/>\n",
       "  </clipPath>\n",
       "</defs>\n",
       "<path clip-path=\"url(#clip940)\" d=\"M137.964 1486.45 L2352.76 1486.45 L2352.76 47.2441 L137.964 47.2441  Z\" fill=\"#ffffff\" fill-rule=\"evenodd\" fill-opacity=\"1\"/>\n",
       "<defs>\n",
       "  <clipPath id=\"clip942\">\n",
       "    <rect x=\"137\" y=\"47\" width=\"2216\" height=\"1440\"/>\n",
       "  </clipPath>\n",
       "</defs>\n",
       "<polyline clip-path=\"url(#clip942)\" style=\"stroke:#000000; stroke-linecap:round; stroke-linejoin:round; stroke-width:2; stroke-opacity:0.1; fill:none\" points=\"479.237,1486.45 479.237,47.2441 \"/>\n",
       "<polyline clip-path=\"url(#clip942)\" style=\"stroke:#000000; stroke-linecap:round; stroke-linejoin:round; stroke-width:2; stroke-opacity:0.1; fill:none\" points=\"897.122,1486.45 897.122,47.2441 \"/>\n",
       "<polyline clip-path=\"url(#clip942)\" style=\"stroke:#000000; stroke-linecap:round; stroke-linejoin:round; stroke-width:2; stroke-opacity:0.1; fill:none\" points=\"1315.01,1486.45 1315.01,47.2441 \"/>\n",
       "<polyline clip-path=\"url(#clip942)\" style=\"stroke:#000000; stroke-linecap:round; stroke-linejoin:round; stroke-width:2; stroke-opacity:0.1; fill:none\" points=\"1732.89,1486.45 1732.89,47.2441 \"/>\n",
       "<polyline clip-path=\"url(#clip942)\" style=\"stroke:#000000; stroke-linecap:round; stroke-linejoin:round; stroke-width:2; stroke-opacity:0.1; fill:none\" points=\"2150.78,1486.45 2150.78,47.2441 \"/>\n",
       "<polyline clip-path=\"url(#clip940)\" style=\"stroke:#000000; stroke-linecap:round; stroke-linejoin:round; stroke-width:4; stroke-opacity:1; fill:none\" points=\"137.964,1486.45 2352.76,1486.45 \"/>\n",
       "<polyline clip-path=\"url(#clip940)\" style=\"stroke:#000000; stroke-linecap:round; stroke-linejoin:round; stroke-width:4; stroke-opacity:1; fill:none\" points=\"479.237,1486.45 479.237,1467.55 \"/>\n",
       "<polyline clip-path=\"url(#clip940)\" style=\"stroke:#000000; stroke-linecap:round; stroke-linejoin:round; stroke-width:4; stroke-opacity:1; fill:none\" points=\"897.122,1486.45 897.122,1467.55 \"/>\n",
       "<polyline clip-path=\"url(#clip940)\" style=\"stroke:#000000; stroke-linecap:round; stroke-linejoin:round; stroke-width:4; stroke-opacity:1; fill:none\" points=\"1315.01,1486.45 1315.01,1467.55 \"/>\n",
       "<polyline clip-path=\"url(#clip940)\" style=\"stroke:#000000; stroke-linecap:round; stroke-linejoin:round; stroke-width:4; stroke-opacity:1; fill:none\" points=\"1732.89,1486.45 1732.89,1467.55 \"/>\n",
       "<polyline clip-path=\"url(#clip940)\" style=\"stroke:#000000; stroke-linecap:round; stroke-linejoin:round; stroke-width:4; stroke-opacity:1; fill:none\" points=\"2150.78,1486.45 2150.78,1467.55 \"/>\n",
       "<path clip-path=\"url(#clip940)\" d=\"M483.485 1530.21 Q486.841 1530.93 488.716 1533.2 Q490.614 1535.47 490.614 1538.8 Q490.614 1543.92 487.096 1546.72 Q483.577 1549.52 477.096 1549.52 Q474.92 1549.52 472.605 1549.08 Q470.313 1548.66 467.86 1547.81 L467.86 1543.29 Q469.804 1544.43 472.119 1545.01 Q474.434 1545.58 476.957 1545.58 Q481.355 1545.58 483.647 1543.85 Q485.962 1542.11 485.962 1538.8 Q485.962 1535.75 483.809 1534.03 Q481.679 1532.3 477.86 1532.3 L473.832 1532.3 L473.832 1528.45 L478.045 1528.45 Q481.494 1528.45 483.323 1527.09 Q485.151 1525.7 485.151 1523.11 Q485.151 1520.45 483.253 1519.03 Q481.378 1517.6 477.86 1517.6 Q475.938 1517.6 473.739 1518.01 Q471.54 1518.43 468.901 1519.31 L468.901 1515.14 Q471.563 1514.4 473.878 1514.03 Q476.216 1513.66 478.276 1513.66 Q483.6 1513.66 486.702 1516.09 Q489.804 1518.5 489.804 1522.62 Q489.804 1525.49 488.161 1527.48 Q486.517 1529.45 483.485 1530.21 Z\" fill=\"#000000\" fill-rule=\"evenodd\" fill-opacity=\"1\" /><path clip-path=\"url(#clip940)\" d=\"M897.527 1529.7 Q894.379 1529.7 892.527 1531.86 Q890.699 1534.01 890.699 1537.76 Q890.699 1541.49 892.527 1543.66 Q894.379 1545.82 897.527 1545.82 Q900.676 1545.82 902.504 1543.66 Q904.356 1541.49 904.356 1537.76 Q904.356 1534.01 902.504 1531.86 Q900.676 1529.7 897.527 1529.7 M906.81 1515.05 L906.81 1519.31 Q905.05 1518.48 903.245 1518.04 Q901.463 1517.6 899.703 1517.6 Q895.074 1517.6 892.62 1520.72 Q890.189 1523.85 889.842 1530.17 Q891.208 1528.15 893.268 1527.09 Q895.328 1526 897.805 1526 Q903.013 1526 906.023 1529.17 Q909.055 1532.32 909.055 1537.76 Q909.055 1543.08 905.907 1546.3 Q902.759 1549.52 897.527 1549.52 Q891.532 1549.52 888.361 1544.94 Q885.189 1540.33 885.189 1531.6 Q885.189 1523.41 889.078 1518.55 Q892.967 1513.66 899.518 1513.66 Q901.277 1513.66 903.06 1514.01 Q904.865 1514.36 906.81 1515.05 Z\" fill=\"#000000\" fill-rule=\"evenodd\" fill-opacity=\"1\" /><path clip-path=\"url(#clip940)\" d=\"M1305.31 1548.13 L1305.31 1543.87 Q1307.07 1544.7 1308.87 1545.14 Q1310.68 1545.58 1312.41 1545.58 Q1317.04 1545.58 1319.48 1542.48 Q1321.93 1539.36 1322.28 1533.01 Q1320.93 1535.01 1318.87 1536.07 Q1316.81 1537.13 1314.31 1537.13 Q1309.13 1537.13 1306.1 1534.01 Q1303.09 1530.86 1303.09 1525.42 Q1303.09 1520.1 1306.23 1516.88 Q1309.38 1513.66 1314.61 1513.66 Q1320.61 1513.66 1323.76 1518.27 Q1326.93 1522.85 1326.93 1531.6 Q1326.93 1539.77 1323.04 1544.66 Q1319.17 1549.52 1312.62 1549.52 Q1310.86 1549.52 1309.06 1549.17 Q1307.25 1548.82 1305.31 1548.13 M1314.61 1533.48 Q1317.76 1533.48 1319.59 1531.32 Q1321.44 1529.17 1321.44 1525.42 Q1321.44 1521.7 1319.59 1519.54 Q1317.76 1517.37 1314.61 1517.37 Q1311.47 1517.37 1309.61 1519.54 Q1307.79 1521.7 1307.79 1525.42 Q1307.79 1529.17 1309.61 1531.32 Q1311.47 1533.48 1314.61 1533.48 Z\" fill=\"#000000\" fill-rule=\"evenodd\" fill-opacity=\"1\" /><path clip-path=\"url(#clip940)\" d=\"M1708.38 1544.91 L1716.02 1544.91 L1716.02 1518.55 L1707.71 1520.21 L1707.71 1515.95 L1715.97 1514.29 L1720.65 1514.29 L1720.65 1544.91 L1728.29 1544.91 L1728.29 1548.85 L1708.38 1548.85 L1708.38 1544.91 Z\" fill=\"#000000\" fill-rule=\"evenodd\" fill-opacity=\"1\" /><path clip-path=\"url(#clip940)\" d=\"M1741.76 1544.91 L1758.08 1544.91 L1758.08 1548.85 L1736.13 1548.85 L1736.13 1544.91 Q1738.8 1542.16 1743.38 1537.53 Q1747.99 1532.88 1749.17 1531.53 Q1751.41 1529.01 1752.29 1527.27 Q1753.19 1525.51 1753.19 1523.82 Q1753.19 1521.07 1751.25 1519.33 Q1749.33 1517.6 1746.23 1517.6 Q1744.03 1517.6 1741.57 1518.36 Q1739.14 1519.13 1736.36 1520.68 L1736.36 1515.95 Q1739.19 1514.82 1741.64 1514.24 Q1744.1 1513.66 1746.13 1513.66 Q1751.5 1513.66 1754.7 1516.35 Q1757.89 1519.03 1757.89 1523.52 Q1757.89 1525.65 1757.08 1527.57 Q1756.3 1529.47 1754.19 1532.07 Q1753.61 1532.74 1750.51 1535.95 Q1747.41 1539.15 1741.76 1544.91 Z\" fill=\"#000000\" fill-rule=\"evenodd\" fill-opacity=\"1\" /><path clip-path=\"url(#clip940)\" d=\"M2125.96 1544.91 L2133.6 1544.91 L2133.6 1518.55 L2125.29 1520.21 L2125.29 1515.95 L2133.56 1514.29 L2138.23 1514.29 L2138.23 1544.91 L2145.87 1544.91 L2145.87 1548.85 L2125.96 1548.85 L2125.96 1544.91 Z\" fill=\"#000000\" fill-rule=\"evenodd\" fill-opacity=\"1\" /><path clip-path=\"url(#clip940)\" d=\"M2155.36 1514.29 L2173.72 1514.29 L2173.72 1518.22 L2159.64 1518.22 L2159.64 1526.7 Q2160.66 1526.35 2161.68 1526.19 Q2162.7 1526 2163.72 1526 Q2169.5 1526 2172.88 1529.17 Q2176.26 1532.34 2176.26 1537.76 Q2176.26 1543.34 2172.79 1546.44 Q2169.32 1549.52 2163 1549.52 Q2160.82 1549.52 2158.56 1549.15 Q2156.31 1548.78 2153.9 1548.04 L2153.9 1543.34 Q2155.99 1544.47 2158.21 1545.03 Q2160.43 1545.58 2162.91 1545.58 Q2166.91 1545.58 2169.25 1543.48 Q2171.59 1541.37 2171.59 1537.76 Q2171.59 1534.15 2169.25 1532.04 Q2166.91 1529.94 2162.91 1529.94 Q2161.03 1529.94 2159.16 1530.35 Q2157.31 1530.77 2155.36 1531.65 L2155.36 1514.29 Z\" fill=\"#000000\" fill-rule=\"evenodd\" fill-opacity=\"1\" /><polyline clip-path=\"url(#clip942)\" style=\"stroke:#000000; stroke-linecap:round; stroke-linejoin:round; stroke-width:2; stroke-opacity:0.1; fill:none\" points=\"137.964,1355.2 2352.76,1355.2 \"/>\n",
       "<polyline clip-path=\"url(#clip942)\" style=\"stroke:#000000; stroke-linecap:round; stroke-linejoin:round; stroke-width:2; stroke-opacity:0.1; fill:none\" points=\"137.964,1083.65 2352.76,1083.65 \"/>\n",
       "<polyline clip-path=\"url(#clip942)\" style=\"stroke:#000000; stroke-linecap:round; stroke-linejoin:round; stroke-width:2; stroke-opacity:0.1; fill:none\" points=\"137.964,812.104 2352.76,812.104 \"/>\n",
       "<polyline clip-path=\"url(#clip942)\" style=\"stroke:#000000; stroke-linecap:round; stroke-linejoin:round; stroke-width:2; stroke-opacity:0.1; fill:none\" points=\"137.964,540.556 2352.76,540.556 \"/>\n",
       "<polyline clip-path=\"url(#clip942)\" style=\"stroke:#000000; stroke-linecap:round; stroke-linejoin:round; stroke-width:2; stroke-opacity:0.1; fill:none\" points=\"137.964,269.008 2352.76,269.008 \"/>\n",
       "<polyline clip-path=\"url(#clip940)\" style=\"stroke:#000000; stroke-linecap:round; stroke-linejoin:round; stroke-width:4; stroke-opacity:1; fill:none\" points=\"137.964,1486.45 137.964,47.2441 \"/>\n",
       "<polyline clip-path=\"url(#clip940)\" style=\"stroke:#000000; stroke-linecap:round; stroke-linejoin:round; stroke-width:4; stroke-opacity:1; fill:none\" points=\"137.964,1355.2 156.862,1355.2 \"/>\n",
       "<polyline clip-path=\"url(#clip940)\" style=\"stroke:#000000; stroke-linecap:round; stroke-linejoin:round; stroke-width:4; stroke-opacity:1; fill:none\" points=\"137.964,1083.65 156.862,1083.65 \"/>\n",
       "<polyline clip-path=\"url(#clip940)\" style=\"stroke:#000000; stroke-linecap:round; stroke-linejoin:round; stroke-width:4; stroke-opacity:1; fill:none\" points=\"137.964,812.104 156.862,812.104 \"/>\n",
       "<polyline clip-path=\"url(#clip940)\" style=\"stroke:#000000; stroke-linecap:round; stroke-linejoin:round; stroke-width:4; stroke-opacity:1; fill:none\" points=\"137.964,540.556 156.862,540.556 \"/>\n",
       "<polyline clip-path=\"url(#clip940)\" style=\"stroke:#000000; stroke-linecap:round; stroke-linejoin:round; stroke-width:4; stroke-opacity:1; fill:none\" points=\"137.964,269.008 156.862,269.008 \"/>\n",
       "<path clip-path=\"url(#clip940)\" d=\"M94.8345 1353.85 Q98.1909 1354.56 100.066 1356.83 Q101.964 1359.1 101.964 1362.43 Q101.964 1367.55 98.4456 1370.35 Q94.9271 1373.15 88.4456 1373.15 Q86.2697 1373.15 83.9549 1372.71 Q81.6633 1372.29 79.2096 1371.44 L79.2096 1366.92 Q81.154 1368.06 83.4688 1368.64 Q85.7836 1369.22 88.3067 1369.22 Q92.7049 1369.22 94.9965 1367.48 Q97.3113 1365.74 97.3113 1362.43 Q97.3113 1359.38 95.1586 1357.66 Q93.0289 1355.93 89.2095 1355.93 L85.1818 1355.93 L85.1818 1352.09 L89.3947 1352.09 Q92.8438 1352.09 94.6724 1350.72 Q96.5011 1349.33 96.5011 1346.74 Q96.5011 1344.08 94.603 1342.67 Q92.728 1341.23 89.2095 1341.23 Q87.2882 1341.23 85.0892 1341.65 Q82.8901 1342.06 80.2512 1342.94 L80.2512 1338.78 Q82.9133 1338.04 85.2281 1337.67 Q87.566 1337.29 89.6262 1337.29 Q94.9502 1337.29 98.0521 1339.73 Q101.154 1342.13 101.154 1346.25 Q101.154 1349.12 99.5104 1351.11 Q97.8669 1353.08 94.8345 1353.85 Z\" fill=\"#000000\" fill-rule=\"evenodd\" fill-opacity=\"1\" /><path clip-path=\"url(#clip940)\" d=\"M90.4364 1081.79 Q87.2882 1081.79 85.4364 1083.94 Q83.6077 1086.09 83.6077 1089.84 Q83.6077 1093.57 85.4364 1095.75 Q87.2882 1097.9 90.4364 1097.9 Q93.5845 1097.9 95.4132 1095.75 Q97.265 1093.57 97.265 1089.84 Q97.265 1086.09 95.4132 1083.94 Q93.5845 1081.79 90.4364 1081.79 M99.7187 1067.14 L99.7187 1071.39 Q97.9595 1070.56 96.1539 1070.12 Q94.3715 1069.68 92.6123 1069.68 Q87.9827 1069.68 85.529 1072.81 Q83.0984 1075.93 82.7512 1082.25 Q84.1169 1080.24 86.1771 1079.17 Q88.2373 1078.08 90.7141 1078.08 Q95.9224 1078.08 98.9317 1081.26 Q101.964 1084.4 101.964 1089.84 Q101.964 1095.17 98.8159 1098.39 Q95.6678 1101.6 90.4364 1101.6 Q84.441 1101.6 81.2697 1097.02 Q78.0985 1092.41 78.0985 1083.69 Q78.0985 1075.49 81.9873 1070.63 Q85.8762 1065.75 92.4271 1065.75 Q94.1863 1065.75 95.9687 1066.09 Q97.7743 1066.44 99.7187 1067.14 Z\" fill=\"#000000\" fill-rule=\"evenodd\" fill-opacity=\"1\" /><path clip-path=\"url(#clip940)\" d=\"M80.3438 828.666 L80.3438 824.407 Q82.1031 825.24 83.9086 825.68 Q85.7142 826.12 87.4503 826.12 Q92.0799 826.12 94.5104 823.018 Q96.9641 819.893 97.3113 813.551 Q95.9687 815.541 93.9086 816.606 Q91.8484 817.671 89.3484 817.671 Q84.1632 817.671 81.1309 814.546 Q78.1216 811.398 78.1216 805.958 Q78.1216 800.634 81.2697 797.417 Q84.4179 794.199 89.6493 794.199 Q95.6447 794.199 98.7928 798.805 Q101.964 803.389 101.964 812.139 Q101.964 820.31 98.0752 825.194 Q94.2095 830.055 87.6586 830.055 Q85.8993 830.055 84.0938 829.708 Q82.2883 829.361 80.3438 828.666 M89.6493 814.014 Q92.7975 814.014 94.6262 811.861 Q96.478 809.708 96.478 805.958 Q96.478 802.231 94.6262 800.079 Q92.7975 797.903 89.6493 797.903 Q86.5012 797.903 84.6494 800.079 Q82.8207 802.231 82.8207 805.958 Q82.8207 809.708 84.6494 811.861 Q86.5012 814.014 89.6493 814.014 Z\" fill=\"#000000\" fill-rule=\"evenodd\" fill-opacity=\"1\" /><path clip-path=\"url(#clip940)\" d=\"M52.2653 553.901 L59.9041 553.901 L59.9041 527.535 L51.594 529.202 L51.594 524.943 L59.8578 523.276 L64.5337 523.276 L64.5337 553.901 L72.1726 553.901 L72.1726 557.836 L52.2653 557.836 L52.2653 553.901 Z\" fill=\"#000000\" fill-rule=\"evenodd\" fill-opacity=\"1\" /><path clip-path=\"url(#clip940)\" d=\"M85.6447 553.901 L101.964 553.901 L101.964 557.836 L80.0197 557.836 L80.0197 553.901 Q82.6818 551.146 87.2651 546.517 Q91.8715 541.864 93.0521 540.521 Q95.2974 537.998 96.1771 536.262 Q97.0798 534.503 97.0798 532.813 Q97.0798 530.058 95.1354 528.322 Q93.2141 526.586 90.1123 526.586 Q87.9132 526.586 85.4595 527.35 Q83.029 528.114 80.2512 529.665 L80.2512 524.943 Q83.0753 523.808 85.529 523.23 Q87.9827 522.651 90.0197 522.651 Q95.39 522.651 98.5845 525.336 Q101.779 528.021 101.779 532.512 Q101.779 534.642 100.969 536.563 Q100.182 538.461 98.0752 541.054 Q97.4965 541.725 94.3947 544.943 Q91.2928 548.137 85.6447 553.901 Z\" fill=\"#000000\" fill-rule=\"evenodd\" fill-opacity=\"1\" /><path clip-path=\"url(#clip940)\" d=\"M51.6634 282.353 L59.3023 282.353 L59.3023 255.987 L50.9921 257.654 L50.9921 253.395 L59.256 251.728 L63.9319 251.728 L63.9319 282.353 L71.5707 282.353 L71.5707 286.288 L51.6634 286.288 L51.6634 282.353 Z\" fill=\"#000000\" fill-rule=\"evenodd\" fill-opacity=\"1\" /><path clip-path=\"url(#clip940)\" d=\"M81.0614 251.728 L99.4178 251.728 L99.4178 255.663 L85.3438 255.663 L85.3438 264.136 Q86.3623 263.788 87.3808 263.626 Q88.3993 263.441 89.4178 263.441 Q95.2049 263.441 98.5845 266.612 Q101.964 269.784 101.964 275.2 Q101.964 280.779 98.4919 283.881 Q95.0197 286.959 88.7003 286.959 Q86.5243 286.959 84.2558 286.589 Q82.0105 286.219 79.6031 285.478 L79.6031 280.779 Q81.6864 281.913 83.9086 282.469 Q86.1308 283.024 88.6077 283.024 Q92.6123 283.024 94.9502 280.918 Q97.2882 278.811 97.2882 275.2 Q97.2882 271.589 94.9502 269.483 Q92.6123 267.376 88.6077 267.376 Q86.7327 267.376 84.8577 267.793 Q83.0058 268.21 81.0614 269.089 L81.0614 251.728 Z\" fill=\"#000000\" fill-rule=\"evenodd\" fill-opacity=\"1\" /><polyline clip-path=\"url(#clip942)\" style=\"stroke:#009af9; stroke-linecap:round; stroke-linejoin:round; stroke-width:4; stroke-opacity:1; fill:none\" points=\"200.647,1445.72 339.942,1276 479.237,1117.6 618.532,970.507 757.827,834.733 897.122,710.274 1036.42,597.129 1175.71,495.298 1315.01,404.782 1454.3,325.581 1593.6,257.694 1732.89,201.121 1872.19,155.863 2011.48,121.92 2150.78,99.2908 2290.07,87.9763 \"/>\n",
       "<path clip-path=\"url(#clip940)\" d=\"M211.79 198.898 L485.7 198.898 L485.7 95.2176 L211.79 95.2176  Z\" fill=\"#ffffff\" fill-rule=\"evenodd\" fill-opacity=\"1\"/>\n",
       "<polyline clip-path=\"url(#clip940)\" style=\"stroke:#000000; stroke-linecap:round; stroke-linejoin:round; stroke-width:4; stroke-opacity:1; fill:none\" points=\"211.79,198.898 485.7,198.898 485.7,95.2176 211.79,95.2176 211.79,198.898 \"/>\n",
       "<polyline clip-path=\"url(#clip940)\" style=\"stroke:#009af9; stroke-linecap:round; stroke-linejoin:round; stroke-width:4; stroke-opacity:1; fill:none\" points=\"236.399,147.058 384.052,147.058 \"/>\n",
       "<path clip-path=\"url(#clip940)\" d=\"M422.503 166.745 Q420.698 171.375 418.985 172.787 Q417.272 174.199 414.402 174.199 L410.999 174.199 L410.999 170.634 L413.499 170.634 Q415.258 170.634 416.23 169.8 Q417.202 168.967 418.383 165.865 L419.147 163.921 L408.661 138.412 L413.175 138.412 L421.277 158.689 L429.378 138.412 L433.892 138.412 L422.503 166.745 Z\" fill=\"#000000\" fill-rule=\"evenodd\" fill-opacity=\"1\" /><path clip-path=\"url(#clip940)\" d=\"M441.184 160.402 L448.823 160.402 L448.823 134.037 L440.513 135.703 L440.513 131.444 L448.776 129.778 L453.452 129.778 L453.452 160.402 L461.091 160.402 L461.091 164.338 L441.184 164.338 L441.184 160.402 Z\" fill=\"#000000\" fill-rule=\"evenodd\" fill-opacity=\"1\" /></svg>\n"
      ]
     },
     "execution_count": 40,
     "metadata": {},
     "output_type": "execute_result"
    }
   ],
   "source": [
    "plot(u)"
   ]
  },
  {
   "cell_type": "code",
   "execution_count": null,
   "id": "be2f3a78",
   "metadata": {},
   "outputs": [],
   "source": []
  }
 ],
 "metadata": {
  "kernelspec": {
   "display_name": "Julia 1.8.1",
   "language": "julia",
   "name": "julia-1.8"
  },
  "language_info": {
   "file_extension": ".jl",
   "mimetype": "application/julia",
   "name": "julia",
   "version": "1.8.1"
  }
 },
 "nbformat": 4,
 "nbformat_minor": 5
}
