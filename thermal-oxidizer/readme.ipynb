{
 "cells": [
  {
   "cell_type": "markdown",
   "id": "14fca09c",
   "metadata": {},
   "source": [
    "# Thermal Oxidizer of Acid Gasses CFD Model"
   ]
  },
  {
   "cell_type": "markdown",
   "id": "ed40293b",
   "metadata": {},
   "source": [
    "## Section 1: Introduction \n",
    "Here goes \n",
    "1. an introduction of the device: thermal processing of [hydrogen sulfide](https://en.wikipedia.org/wiki/Hydrogen_sulfide) (an example of an acid gas) in typical [treatment plants](https://f.hubspotusercontent10.net/hubfs/7724363/Zeeco-En_June_2020/pdf/Gas-Processing-Apps-TO-RGB.pdf); \n",
    "2. the need to simulate the acid gas removal process in order to optimize fuel efficiency, fuel versatility and throughput; \n",
    "3. embedding into previous literature on OpenFoam for chemical reactors and combustion systems; \n",
    "4. summary of the results obtained; "
   ]
  },
  {
   "cell_type": "markdown",
   "id": "efe9f79e",
   "metadata": {},
   "source": [
    "## Section 2: Geometry and Mesh\n",
    "\n",
    "See [notebook](./notebooks/geometry-mesh.ipynb)."
   ]
  },
  {
   "cell_type": "markdown",
   "id": "2cff620d",
   "metadata": {},
   "source": [
    "## Section 4: Tutorial Models We Looked Into \n",
    "\n",
    "<b>compressible/rhoPimpleFoam/RAS/angledDuct</b> and <b>compressible/rhoPimpleFoam/RAS/angledDuctLTS</b>\n",
    "1. why is the mixingLength of the inlet set to 0.005 = 5e-3 ? \n",
    "2. why is value on inlet patches set to internalField value? What is the importance of this setting?  "
   ]
  },
  {
   "cell_type": "markdown",
   "id": "f0577e4d",
   "metadata": {},
   "source": [
    "## Section 5: Alternative Choices for Model Setup \n",
    "1. Set internalField for U, k, epsilon and nut equal to zero;\n",
    "2. Should relaxation factors be adapated;  \n",
    "3. Should discretization schemes be adapted? Copy those from Pitz-Daily? Use the banana method to recover all avialable methods. Do settings change going from simpleFoam to rhoSimpleFoam? "
   ]
  },
  {
   "cell_type": "markdown",
   "id": "b8672ab6",
   "metadata": {},
   "source": [
    "## Section 5: Incompressible s/pimpleFoam Models \n",
    "\n",
    "See [notebook](./notebooks/incompressible-simplefoam-models.ipynb)."
   ]
  },
  {
   "cell_type": "markdown",
   "id": "e589c7e5",
   "metadata": {},
   "source": [
    "## Section 6: Temperature-Dependent rhoS/PimpleFoam Models \n",
    "\n",
    "See [notebook](./notebooks/temperature-rhosimplefoam-models.ipynb)."
   ]
  },
  {
   "cell_type": "markdown",
   "id": "447ddbd0",
   "metadata": {},
   "source": [
    "## Section 7: reactingFoam Computations with Combustion Switched Off"
   ]
  },
  {
   "cell_type": "markdown",
   "id": "a8c480dd",
   "metadata": {},
   "source": [
    "## Section 8: reactingFoam Computations with Combustion Switched On "
   ]
  },
  {
   "cell_type": "code",
   "execution_count": null,
   "id": "70c476a3",
   "metadata": {},
   "outputs": [],
   "source": []
  }
 ],
 "metadata": {
  "kernelspec": {
   "display_name": "Julia 1.8.1",
   "language": "julia",
   "name": "julia-1.8"
  },
  "language_info": {
   "file_extension": ".jl",
   "mimetype": "application/julia",
   "name": "julia",
   "version": "1.8.1"
  }
 },
 "nbformat": 4,
 "nbformat_minor": 5
}
