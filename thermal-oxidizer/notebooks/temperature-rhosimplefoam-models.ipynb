{
 "cells": [
  {
   "cell_type": "markdown",
   "id": "f7daa041",
   "metadata": {},
   "source": [
    "# Temperature Dependent rhoS/PimpleFoam Models "
   ]
  },
  {
   "cell_type": "markdown",
   "id": "34d852ab",
   "metadata": {},
   "source": [
    "## Section 1: Introduction "
   ]
  },
  {
   "cell_type": "markdown",
   "id": "92245afd",
   "metadata": {},
   "source": [
    "## Section 2: rhoSimpleFoam Simulations\n",
    "\n",
    "### 0-folder \n",
    "\n",
    "### constant-folder \n",
    "\n",
    "1. solve for energy or enthalpy? \n",
    "2. constant/thermophysicalProperties: what values to set? \n",
    "\n",
    "mixture\n",
    "{\n",
    "    specie\n",
    "    {\n",
    "        molWeight   28.9;\n",
    "    }\n",
    "    thermodynamics\n",
    "    {\n",
    "        Cp          1007;\n",
    "        Hf          0;\n",
    "    }\n",
    "    transport\n",
    "    {\n",
    "        As          1.4792e-06;\n",
    "        Ts          116;\n",
    "    }\n",
    "}\n",
    "\n",
    "### system-folder \n",
    "\n",
    "1. setFieldsDict: how to set? for which fields? \n",
    "\n",
    "<div>\n",
    "<img src=\"../figures/rhoSimpleFoam_resconv_base_case.png\" width=500/>\n",
    "<center> Figure-1: rhoSimpleFoam residual norm convergence history for 4k iterations. Velocity on the small inlets imposed by fixedValue boundary condition on the patch. Convergence is irregular. Residual does not drop below prescribed tolerance.     \n",
    "    </center>\n",
    "</div>\n",
    "\n",
    "<div>\n",
    "<img src=\"../figures/rhoSimpleFoam_resconv-gaussUpwind.png\" width=500/>\n",
    "<center> Figure-2: rhoSimpleFoam residual norm convergence history for 600 iterations. Changing divSchemes to Gauss upwind does <b>not</b> change irregular convergence history.    \n",
    "    </center>\n",
    "</div>\n",
    "\n",
    "<div>\n",
    "<img src=\"../figures/rhoSimpleFoam_resconv_mfr.png\" width=500/>\n",
    "<center> Figure-3: rhoSimpleFoam residual convergence history until convergence. Fixing the density avoids pressure oscillations and therefore pressure residual oscillations. The mix and max values convergence of all fields (U,p,k,epsilon and h) to fixed values at fixed locations.  \n",
    "    </center>\n",
    "</div>"
   ]
  },
  {
   "cell_type": "markdown",
   "id": "eb396ad9",
   "metadata": {},
   "source": [
    "## Section 3: rhoPimpleFoam Simulations \n",
    "\n",
    "1. need to add solver for field rho in system-folder/fvSchemes file; "
   ]
  },
  {
   "cell_type": "markdown",
   "id": "7fbad122",
   "metadata": {},
   "source": [
    "## Section 4: Sandbox "
   ]
  },
  {
   "cell_type": "code",
   "execution_count": null,
   "id": "5ec8851d",
   "metadata": {},
   "outputs": [],
   "source": []
  }
 ],
 "metadata": {
  "kernelspec": {
   "display_name": "Julia 1.8.1",
   "language": "julia",
   "name": "julia-1.8"
  },
  "language_info": {
   "file_extension": ".jl",
   "mimetype": "application/julia",
   "name": "julia",
   "version": "1.8.1"
  }
 },
 "nbformat": 4,
 "nbformat_minor": 5
}
