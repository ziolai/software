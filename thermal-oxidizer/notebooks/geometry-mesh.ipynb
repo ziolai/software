{
 "cells": [
  {
   "cell_type": "markdown",
   "id": "776706ff",
   "metadata": {},
   "source": [
    "# Geometry Definition and Mesh Generation  "
   ]
  },
  {
   "cell_type": "markdown",
   "id": "c70ae123",
   "metadata": {},
   "source": [
    "## Section 1: Introduction "
   ]
  },
  {
   "cell_type": "markdown",
   "id": "8a78519f",
   "metadata": {},
   "source": [
    "## Section 2: 2D-Wedge Geometry and Mesh\n",
    "\n",
    "### Tutorials using a wedge geometry \n",
    "\n",
    "1. combustion/reactingFoam/RAS/SandiaD_LTS \n",
    "2. compressible/rhoPimpleFoam/RAS/angledDuct and angledDuctLTS \n",
    "\n",
    "### 2D meshing followed by azimuthal extrusion\n",
    "Difficulty in preserving planar faces \n",
    "\n",
    "### Creating Wedge using blockMesh "
   ]
  },
  {
   "cell_type": "markdown",
   "id": "c46d48eb",
   "metadata": {},
   "source": [
    "## Section 3: Full 3D Geometry and Mesh Initially Shared by Marco \n",
    "\n",
    "### Geometrical Information \n",
    "1. Diameter fuel 0.152 m\n",
    "2. Diameter acid gas 0.124 m\n",
    "3. Diameter pilota 0.101 m\n",
    "4. Diameter aria 1 m\n",
    "\n",
    "<div>\n",
    "<img src=\"../figures/mesh_comparing_inlet_refinements.png\" width=500/>\n",
    "<center> Figure: 3D mesh.  \n",
    "    </center>\n",
    "</div>"
   ]
  },
  {
   "cell_type": "markdown",
   "id": "accb05e7",
   "metadata": {},
   "source": [
    "### Output of checkMesh "
   ]
  },
  {
   "cell_type": "markdown",
   "id": "33255325",
   "metadata": {},
   "source": [
    "Mesh stats\n",
    "    points:           755603\n",
    "    internal points:  673853\n",
    "    faces:            2166632\n",
    "    internal faces:   2084732\n",
    "    cells:            705862\n",
    "    faces per cell:   6.02294\n",
    "    boundary patches: 18\n",
    "    point zones:      0\n",
    "    face zones:       0\n",
    "    cell zones:       0\n",
    "\n",
    "Overall number of cells of each type:\n",
    "    hexahedra:     693002\n",
    "    prisms:        904\n",
    "    wedges:        0\n",
    "    pyramids:      2580\n",
    "    tet wedges:    0\n",
    "    tetrahedra:    1256\n",
    "    polyhedra:     8120\n",
    "    Breakdown of polyhedra by number of faces:\n",
    "        faces   number of cells\n",
    "            6   1816\n",
    "            7   352\n",
    "            8   124\n",
    "            9   4604\n",
    "           12   1080\n",
    "           15   144\n",
    "\n",
    "Checking topology...\n",
    "    Boundary definition OK.\n",
    "    Cell to face addressing OK.\n",
    "    Point usage OK.\n",
    "    Upper triangular ordering OK.\n",
    "    Face vertices OK.\n",
    "    Number of regions: 1 (OK).\n",
    "\n",
    "Checking patch topology for multiply connected surfaces...\n",
    "                   Patch    Faces   Points                  Surface topology\n",
    "           AcidGasInlets      820      864  ok (non-closed singly connected)\n",
    "                AirInlet     1720     1794  ok (non-closed singly connected)\n",
    "            FuelGasInlet      164      169  ok (non-closed singly connected)\n",
    "                  Outlet      500      517  ok (non-closed singly connected)\n",
    "              PilotInlet       70       74  ok (non-closed singly connected)\n",
    "        WallAcidGasPipes     9304     9560  ok (non-closed singly connected)\n",
    "        WallFloorRadiant    12928    13348  ok (non-closed singly connected)\n",
    "         WallFuelGasPipe     1200     1248  ok (non-closed singly connected)\n",
    "    WallHeatEchengerBottomWalls      604      680  ok (non-closed singly connected)\n",
    "        WallLowerRadiant     7544     7728  ok (non-closed singly connected)\n",
    "    WallLowerSectionTopWalls      488      544  ok (non-closed singly connected)\n",
    "           WallPilotPipe      650      676  ok (non-closed singly connected)\n",
    "           WallStackWall     9592     9680  ok (non-closed singly connected)\n",
    "     WallTransitionWalls     4692     4820  ok (non-closed singly connected)\n",
    "        WallUpperRadiant    20692    20874  ok (non-closed singly connected)\n",
    "           WallWHRULower     3204     3386  ok (non-closed singly connected)\n",
    "          WallWHRUMiddle     2576     2760  ok (non-closed singly connected)\n",
    "             WallWHRUTop     5152     5336  ok (non-closed singly connected)\n",
    "\n",
    "Checking faceZone topology for multiply connected surfaces...\n",
    "    No faceZones found.\n",
    "\n",
    "Checking basic cellZone addressing...\n",
    "    No cellZones found.\n",
    "\n",
    "Checking geometry...\n",
    "    Overall domain bounding box (-2.36284 -0.391 -3.24) (2.36267 34.48 3.24)\n",
    "    Mesh has 3 geometric (non-empty/wedge) directions (1 1 1)\n",
    "    Mesh has 3 solution (non-empty) directions (1 1 1)\n",
    "    Boundary openness (-4.08972e-16 4.49325e-17 1.59952e-15) OK.\n",
    "    Max cell openness = 3.30201e-16 OK.\n",
    "    Max aspect ratio = 8.95035 OK.\n",
    "    Minimum face area = 2.92991e-07. Maximum face area = 0.0160823.  Face area magnitudes OK.\n",
    "    Min volume = 2.87335e-08. Max volume = 0.00143437.  Total volume = 457.62.  Cell volumes OK.\n",
    "    Mesh non-orthogonality Max: 63.2846 average: 3.78556\n",
    "    Non-orthogonality check OK.\n",
    "    Face pyramids OK.\n",
    "    Max skewness = 2.00947 OK.\n",
    "    Coupled point location match (average 0) OK.\n",
    "\n",
    "Mesh OK."
   ]
  },
  {
   "cell_type": "markdown",
   "id": "36a522a5",
   "metadata": {},
   "source": [
    "### Sample Output of rhoSimpleFoam -postProcess -func yPlus \n",
    "\n",
    "The output that follows is obviously time step dependent. "
   ]
  },
  {
   "cell_type": "markdown",
   "id": "b70e4e8c",
   "metadata": {},
   "source": [
    "    writing field yPlus\n",
    "    patch WallAcidGasPipes y+ : min = 25.9238, max = 64.8019, average = 43.4297\n",
    "    patch WallFloorRadiant y+ : min = 13.7842, max = 154.054, average = 54.1669\n",
    "    patch WallFuelGasPipe y+ : min = 130.817, max = 267.007, average = 208.161\n",
    "    patch WallHeatEchengerBottomWalls y+ : min = 38.3415, max = 164.966, average = 83.1866\n",
    "    patch WallLowerRadiant y+ : min = 36.8929, max = 289.434, average = 197.832\n",
    "    patch WallLowerSectionTopWalls y+ : min = 70.5596, max = 266.451, average = 176.666\n",
    "    patch WallPilotPipe y+ : min = 0.0198239, max = 161.255, average = 40.3084\n",
    "    patch WallStackWall y+ : min = 162.604, max = 555.38, average = 267.199\n",
    "    patch WallTransitionWalls y+ : min = 70.2226, max = 480.015, average = 203.093\n",
    "    patch WallUpperRadiant y+ : min = 55.83, max = 380.088, average = 227.048\n",
    "    patch WallWHRULower y+ : min = 43.0306, max = 333.147, average = 188.226\n",
    "    patch WallWHRUMiddle y+ : min = 77.7485, max = 260.126, average = 203.156\n",
    "    patch WallWHRUTop y+ : min = 51.4947, max = 248.143, average = 187.862"
   ]
  },
  {
   "cell_type": "markdown",
   "id": "31c46509",
   "metadata": {},
   "source": [
    "## Sandbox"
   ]
  },
  {
   "cell_type": "code",
   "execution_count": null,
   "id": "01a88932",
   "metadata": {},
   "outputs": [],
   "source": []
  }
 ],
 "metadata": {
  "kernelspec": {
   "display_name": "Julia 1.8.1",
   "language": "julia",
   "name": "julia-1.8"
  },
  "language_info": {
   "file_extension": ".jl",
   "mimetype": "application/julia",
   "name": "julia",
   "version": "1.8.1"
  }
 },
 "nbformat": 4,
 "nbformat_minor": 5
}
