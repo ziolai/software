{
 "cells": [
  {
   "cell_type": "markdown",
   "id": "dbf3c837",
   "metadata": {},
   "source": [
    "# Conversation with Eric Daymo on Reactive Flow Course"
   ]
  },
  {
   "cell_type": "markdown",
   "id": "1e579de7",
   "metadata": {},
   "source": [
    "##  Section 1: Introduction "
   ]
  },
  {
   "cell_type": "markdown",
   "id": "00d53af5",
   "metadata": {},
   "source": [
    "## Section 2: Course Description \n",
    "[course-description](course-description/course-description.ipynb)  "
   ]
  },
  {
   "cell_type": "markdown",
   "id": "bb5e173c",
   "metadata": {},
   "source": [
    "## Section 3: Geometry Definition and Mesh Generation"
   ]
  },
  {
   "cell_type": "markdown",
   "id": "33fdfcb5",
   "metadata": {},
   "source": [
    "## Section 4: OpenFoam Case Setup Description \n",
    "Goal: explain case set-up by explaining dictionaries in 0-dir/files, system-dir/files and constant-dir/files. In particular \n",
    "\n",
    "### Section 1.4: General Solver \n",
    "\n",
    "### Section 2.4: reactingFoam case-dir/constant-dir  \n",
    "\n",
    "1. turbulenceProperties: see e.g. [Turbulence](https://www.openfoam.com/documentation/guides/latest/doc/guide-turbulence.html#sec-turbulence-usage) and other sources; \n",
    "\n",
    "2. physicalProperties (formerly thermophysicalProperties): see e.g. [Heat transfer](https://www.openfoam.com/documentation/guides/latest/doc/guide-heat-transfer.html#sec-heat-transfer-usage) and other sources; \n",
    "\n",
    "3. thermo.compressibleGasGRI\n",
    "\n",
    "4. radiationProperties: no good reference see. See [Radiation](https://www.openfoam.com/documentation/guides/latest/doc/guide-heat-transfer.html)\n",
    "\n",
    "5. boundaryRadiationProperties\n",
    "\n",
    "6. chemistryProperties: describe [chemkinToFoam](https://github.com/OpenFOAM/OpenFOAM-11/blob/master/applications/utilities/thermophysical/chemkinToFoam/chemkinToFoam.C) and suggest cfd-online forum for trouble shooting;   \n",
    "\n",
    "7. reactionsGRI\n",
    "\n",
    "8. combustionProperties\n",
    "\n",
    "9. momentumTransport: allows Le <>1 and/or Sc <>1. No documentation aside from H-file; (or use Cantera/CoolProp/Duochem to compute coefficients); [example file](https://github.com/OpenFOAM/OpenFOAM-11/blob/master/tutorials/multicomponentFluid/SandiaD_LTS/constant/momentumTransport); \n",
    "\n",
    "#### Specifying Le<>1 in physicalProperties (or thermophysicalProperties?)\n",
    "\\begin{verbatim}\n",
    "\n",
    "    RAS\n",
    "    {\n",
    "        model           FickianEddyDiffusivity;\n",
    " \n",
    "        mixtureDiffusionCoefficients yes;\n",
    " \n",
    "        Prt             0.85;\n",
    "        Sct             0.7;\n",
    " \n",
    "        Dm // [m^2/s]\n",
    "        {\n",
    "            O2 6.64443705E-05;\n",
    "            H2 4.22575501E-04;\n",
    "            N2 4.74274421E-05;\n",
    "        }\n",
    " \n",
    "    }\n",
    "\\end{verbatim}\n",
    "\n",
    "### Section 2.4: reactingFoam case-dir/system-dir\n",
    "\n",
    "Explain relevant parts of fvSolution (solvers.Yi{} and PIMPLE{Yref{}})  and of fvSchemes (divSchemes.div(phi,Yi) and divSchemes.div(phi,K)). Refer to other courses for parts not explained here. \n",
    "\n",
    "### Section 3.4: reactingFoam case-dir/0-dir \n",
    "\n",
    "Explain Ydefault and species-name. \n",
    "\n",
    "### Section 4.4: chtMultiregionFoam Setup \n",
    "\n",
    "As above, seperately for fluid and solid domain. "
   ]
  },
  {
   "cell_type": "markdown",
   "id": "f45a9899",
   "metadata": {},
   "source": [
    "## Section 5: Laminar (non-premixed? hydrogen) ToroFlames:\n",
    "See [laminarSMOKE](https://github.com/acuoci/laminarSMOKE) and \n",
    "[ToroFlames/F3](https://github.com/acuoci/laminarSMOKE/tree/master/run/validation/ToroFlames/F3) \n",
    "\n",
    "Validation by Eric using DUO. According to Eric, results are sensitive to solver settings. What does Eric mean exactly? \n",
    "\n",
    "<div>\n",
    "<img src=\"./tutorial-cases/case-toro-flamef3/ToroFlameF3-laminarSmoke.png\" width=400 />\n",
    "<center> Figure 1: Results obtain using laminarSMOKE.   \n",
    "    </center>\n",
    "</div>\n",
    "\n",
    "<div>\n",
    "<img src=\"./tutorial-cases/case-toro-flamef3/ToroFlameF3-DUO.png\" width=400 />\n",
    "<center> Figure 2: Results obtain using DUO.   \n",
    "    </center>\n",
    "</div>\n",
    "\n",
    "<div>\n",
    "<img src=\"./tutorial-cases/case-toro-flamef3/ToroFlameF3-chtMultiregionFoam.png\" width=400 />\n",
    "<center> Figure 3: Results obtain using chtMultiregionFoam.   \n",
    "    </center>\n",
    "</div> \n"
   ]
  },
  {
   "cell_type": "markdown",
   "id": "8f0189c2",
   "metadata": {},
   "source": [
    "## Section 6: Turbulent Small-Scale Non-Premixed Combustion: SandiaD test case \n",
    "\n",
    "### Section 1.6: Test case description \n",
    "1. describe the case: non-premixed combustion using CH4; jet-flame pilot-burner stabilized; reference results from measurements of TNF workshop and from literature; \n",
    "2. transient solution to reach steady state; \n",
    "3. geometry definition, mesh generation and mesh check;\n",
    "4. describe patch settings: inlet, outlet, walls, symmetry settings;  \n",
    "5. running the non-reactive and reactive case; (with and without LTS, with and without tabulation and chemistry reduction); \n",
    "6. post-processing results and residual; \n",
    "\n",
    "### Section 2.6: Numerical Considerations \n",
    "\n",
    "1. compare runs with one-step chemistry, two-step chemistry, various forms of four-step chemistry, GRI-2.0 and GRI-3.0;\n",
    "2. compare thermal NO post-processing with NO computed from chemical mechanism; \n",
    "3. compare runs with and without local time stepping (LTS); is this reported in the literature? \n",
    "4. compare runs with and without TDAC chemistry tabulation and reduction: literature? \n",
    "5. compare various wall temperature boundary conditions (insulating, radiating); \n",
    "6. compare runs on various meshes using remap from coarse to fine mesh; \n",
    "7. mixture fraction computation using function object; \n",
    "8. runs with adaptive mesh refinement (and load balancing)? \n",
    "9. extend to (D)DES and LES; \n",
    "10. extend to other flames (SandiaE and SandiaF) in TNF workshop series; \n",
    "\n",
    "### Section 3.6: Reference results\n",
    "1. [report](./tutorial-cases/case-sandia-flamed/borujeni-norouzi-SandiaD-reactingFoam.pdf) by Borujeni and Norouzi; \n",
    "2. [report](./tutorial-cases/case-sandia-flamed/talice-SandiaD-reactingFoam.pdf) by Marco Talice using ESI v1906; \n",
    "3. [paper](http://web.stanford.edu/group/pitsch/publication/PitschPhysFluids_12_2000.pdf) by Pitsch and Steiner using LES and Lagrangian Flamelet Model; \n",
    "4. [paper](https://pubs.acs.org/doi/pdf/10.1021/acs.energyfuels.8b01001) Li e.a. on TDAC "
   ]
  },
  {
   "cell_type": "markdown",
   "id": "dfb2a6e7",
   "metadata": {},
   "source": [
    "## Section 7: Turbulent Large-Scale Non-Premixed Combustion: DLR test case \n",
    "\n",
    "[DLRCJH](https://develop.openfoam.com/committees/hpc/-/tree/develop/combustion/XiFoam/DLRCJH) \n",
    "\n",
    "What is the Mavh number? Can test case be solved using rhoThermo? Is the resulting pressure matrix symmetric? Can the p-solve be done using GAMG? Can the pressure-velocity coupled solver be used?  "
   ]
  },
  {
   "cell_type": "markdown",
   "id": "d13a364a",
   "metadata": {},
   "source": [
    "## Section 8: Turbulent Non-Premixed Combustion with Heat Transfer to Solid: reverseBurner test case \n",
    "\n",
    "[reverseBurner](https://mega.nz/fm/LJd1XQoS)"
   ]
  },
  {
   "cell_type": "code",
   "execution_count": null,
   "id": "4e1f1196",
   "metadata": {},
   "outputs": [],
   "source": []
  },
  {
   "cell_type": "code",
   "execution_count": null,
   "id": "78086a20",
   "metadata": {},
   "outputs": [],
   "source": []
  }
 ],
 "metadata": {
  "kernelspec": {
   "display_name": "Julia 1.8.1",
   "language": "julia",
   "name": "julia-1.8"
  },
  "language_info": {
   "file_extension": ".jl",
   "mimetype": "application/julia",
   "name": "julia",
   "version": "1.8.1"
  }
 },
 "nbformat": 4,
 "nbformat_minor": 5
}
