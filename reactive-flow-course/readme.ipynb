{
 "cells": [
  {
   "cell_type": "markdown",
   "id": "dbf3c837",
   "metadata": {},
   "source": [
    "# Conversation with Eric Daymo on Reactive Flow Course"
   ]
  },
  {
   "cell_type": "markdown",
   "id": "1e579de7",
   "metadata": {},
   "source": [
    "## Introduction "
   ]
  },
  {
   "cell_type": "markdown",
   "id": "d25a7174",
   "metadata": {},
   "source": [
    "## Target Audience \n",
    "Assume prior exposure to use of OpenFoam for \n",
    "1. (in)stationaryturbulent incompressible flow (s/pimleFoam) (well familiar; geometry definition, mesh generation, case set up, post-processing, residual control);  \n",
    "2. buoyant heat transfer (bouyantS/PimpleFoam) (prevous exposure); \n",
    "3. radiative heat transfer (P1 and fvDOM) (limited exposure);\n",
    "4. conjugate heat transfer (fluid/solid domain with interface coupling) (limited exposure); \n",
    "\n",
    "Course will use [Foundation Version 11](https://github.com/OpenFOAM/OpenFOAM-11) of OpenFoam. \n",
    "\n",
    "Virtually no coding assignment. Course limited to running cases, interpretation of results, discussing what-if scenarios. "
   ]
  },
  {
   "cell_type": "markdown",
   "id": "f3e9cee1",
   "metadata": {},
   "source": [
    "## Day-1: Copy-Paste from Eric here "
   ]
  },
  {
   "cell_type": "markdown",
   "id": "9396665b",
   "metadata": {},
   "source": [
    "## Day-2: Copy-Paste from Eric here"
   ]
  },
  {
   "cell_type": "markdown",
   "id": "6e72193a",
   "metadata": {},
   "source": [
    "## Day-3: Copy-Paste from Eric here"
   ]
  },
  {
   "cell_type": "markdown",
   "id": "7498e82a",
   "metadata": {},
   "source": [
    "## Low Hanging Fruit in Course Material (1/2): files in constant-dir\n",
    "Goal: explain dictionaries in constant-dir/files. In particular \n",
    "\n",
    "1. turbulenceProperties: see e.g. [Turbulence](https://www.openfoam.com/documentation/guides/latest/doc/guide-turbulence.html#sec-turbulence-usage) and other sources; \n",
    "\n",
    "2. physicalProperties (formerly thermophysicalProperties): see e.g. [Heat transfer](https://www.openfoam.com/documentation/guides/latest/doc/guide-heat-transfer.html#sec-heat-transfer-usage) and other sources; \n",
    "\n",
    "3. thermo.compressibleGasGRI\n",
    "\n",
    "4. radiationProperties: no good reference see. See [Radiation](https://www.openfoam.com/documentation/guides/latest/doc/guide-heat-transfer.html)\n",
    "\n",
    "5. boundaryRadiationProperties\n",
    "\n",
    "6. chemistryProperties: describe [chemkinToFoam](https://github.com/OpenFOAM/OpenFOAM-11/blob/master/applications/utilities/thermophysical/chemkinToFoam/chemkinToFoam.C) and suggest cfd-online forum for trouble shooting;   \n",
    "\n",
    "7. reactionsGRI\n",
    "\n",
    "8. combustionProperties\n",
    "\n",
    "9. momentumTransport: allows Le <>1 and/or Sc <>1. No documentation aside from H-file; (or use Cantera/CoolProp/Duochem to compute coefficients); [example file](https://github.com/OpenFOAM/OpenFOAM-11/blob/master/tutorials/multicomponentFluid/SandiaD_LTS/constant/momentumTransport); "
   ]
  },
  {
   "cell_type": "markdown",
   "id": "c0d16768",
   "metadata": {},
   "source": [
    "## Low Hanging Fruit in Course Material (2/2): SandiaD test case \n",
    "\n",
    "### Test case description \n",
    "1. geometry definition, mesh generation and mesh check;\n",
    "2. running the non-reactive and reactive case; (with and without LTS, with and without tabulation and chemistry reduction); \n",
    "3. post-processing results and residual; \n",
    "\n",
    "### Reference results\n",
    "1. [report](borujeni-norouzi-SandiaD-reactingFoam.pdf) by Borujeni and Norouzi; \n",
    "2. [report](talice-SandiaD-reactingFoam.pdf) by Marco Talice using ESI v1906; \n",
    "3. [paper](http://web.stanford.edu/group/pitsch/publication/PitschPhysFluids_12_2000.pdf) by Pitsch and Steiner using LES and Lagrangian Flamelet Model; "
   ]
  },
  {
   "cell_type": "code",
   "execution_count": null,
   "id": "8ebb61ae",
   "metadata": {},
   "outputs": [],
   "source": []
  },
  {
   "cell_type": "code",
   "execution_count": null,
   "id": "3f74405a",
   "metadata": {},
   "outputs": [],
   "source": []
  },
  {
   "cell_type": "code",
   "execution_count": null,
   "id": "2f22da0e",
   "metadata": {},
   "outputs": [],
   "source": []
  }
 ],
 "metadata": {
  "kernelspec": {
   "display_name": "Julia 1.8.1",
   "language": "julia",
   "name": "julia-1.8"
  },
  "language_info": {
   "file_extension": ".jl",
   "mimetype": "application/julia",
   "name": "julia",
   "version": "1.8.1"
  }
 },
 "nbformat": 4,
 "nbformat_minor": 5
}
