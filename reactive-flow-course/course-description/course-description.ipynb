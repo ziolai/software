{
 "cells": [
  {
   "cell_type": "markdown",
   "id": "c20777d0",
   "metadata": {},
   "source": [
    "# Course Description"
   ]
  },
  {
   "cell_type": "markdown",
   "id": "543866f7",
   "metadata": {},
   "source": [
    "## Section 1.2: Target Audience \n",
    "Assume prior exposure to use of OpenFoam for \n",
    "1. (in)stationaryturbulent incompressible flow (s/pimleFoam) (well familiar; geometry definition, mesh generation, case set up, post-processing, residual control);  \n",
    "2. buoyant heat transfer (bouyantS/PimpleFoam) (prevous exposure); \n",
    "3. radiative heat transfer (P1 and fvDOM) (limited exposure);\n",
    "4. conjugate heat transfer (fluid/solid domain with interface coupling) (limited exposure); \n",
    "\n",
    "Course will use [Foundation Version 11](https://github.com/OpenFOAM/OpenFOAM-11) of OpenFoam. \n",
    "\n",
    "Virtually no coding assignment. Course limited to setting up cases, running cases, interpretation of results, discussing what-if scenarios. \n",
    "\n",
    "reactingFoam: describe what equations reactingFoam solves. describe how reactingFoam solves these equations? \n",
    "\n",
    "What other solvers does the course intend to use (aside from reactingFoam)?"
   ]
  },
  {
   "cell_type": "markdown",
   "id": "062ffd17",
   "metadata": {},
   "source": [
    "## Section 2.2: Course Content \n",
    "### Day-1: Copy-Paste from Eric here\n",
    "### Day-2: Copy-Paste from Eric here\n",
    "### Day-3: Copy-Paste from Eric here"
   ]
  },
  {
   "cell_type": "markdown",
   "id": "10ae68f6",
   "metadata": {},
   "source": [
    "## Section 2.3: Pointers to Course Prerequisites \n",
    "\n",
    "### Fast Sparse Linear Algebra (preconditioned Krylov) for Incompressible Flow \n",
    "\n",
    "Motion: reactive flow is complex to solve. Fast solvers for sparse linear algebra are mandatory. \n",
    "Extend benchmarks reported in the literature to answer the questions below. \n",
    "\n",
    "<b> GAMG Used as a Solver</b>\n",
    "\n",
    "What is GAMG? Why both geometric and algebraic? Swith on debug options to observe that at each level number of faces in reduced by a factor of two. Why is coarsening so slow? How does LDU matrix format allow Galerkin coarsening to obtain coarser level matrix? Can these operation be profiled in sequential and parallel runs?  \n",
    "\n",
    "<b> GAMG Used as a Preconditioner for the Conjugate Gradient Method</b>\n",
    "\n",
    "Is GAMG used as a preconditioner for the CG algorithm always more computational efficient than using GAMG as a (stand-alone) solver?   \n",
    "\n",
    "<b> Freeze the GAMG Set-up Phase over Various Linear Solver</b>\n",
    "\n",
    "Can the multigrid hierarchy constructed for one linear system be recycled so solve nearby linear system, e.g. during the S/PIMPLE iteration? Does this always lead to more computational efficiency? \n",
    "\n",
    "<b> Parallel Efficiency of the GAMG Method</b>\n",
    "\n",
    "Provide links to reports on the computational efficiency of the GAMG method (e.g. slides Niel Ashton OFW16). \n",
    "    \n",
    "<b> Mesh Reordering to Reduced Matrix Bandthwidth </b>\n",
    "\n",
    "Do both BLAS level-1 (vector-vector) and BLAS level-2 (matrix-vector) profit in the same way from matrix reordering schemes? \n",
    "\n",
    "### Heat Transfer for Incompressible Flow \n",
    "\n",
    "Given s/pimpleFoam as point of departure, what is required to implement buoyantS/PimpleFoam? Motivation: getting acquainted with the implementation of various forms of energy equation, the incorporation of the thermodynamics and the need to update (or lack thereof) to update the thermophysical quantities as the iteration proceeds.   \n",
    "\n",
    "### Compressible Non-Reactive Flow \n",
    "\n",
    "Given s/pimpleFoam or buoyantS/PimpleFoam as point of departure, what is required to implement buoyantS/PimpleFoam? Why both rhoThermo and psiThermo? \n",
    "\n",
    "- solve for pressure p instead of pressure scaled by density; \n",
    "- add energy eqiuation; \n",
    "- add thermodynamics in terms of rho and psi; \n",
    "\n",
    "<b> Extend SIMPLE algorithm with divergence term in pressure equation</b>\n",
    "\n",
    "Pressure matrix no longer symmetric. GAMG solver no longer applies. Is computational cost of pressure and velocity solve now more equal? \n",
    "\n",
    "<b> Extend PIMPLE algorithm with density time-derivative term in pressure equation </b>\n",
    "\n",
    "How is the time-derivative term discretized? \n",
    "\n",
    "### Radiative Heat Transfer \n",
    "\n",
    "<b> Current Implementation without turbulence-radiation (TRI) interaction </b>\n",
    "\n",
    "How large is the error made? Book by Haworth and Modest argues that error may well be too large. \n",
    "\n",
    "<b> Algorithmic Extension to take TRI into account </b>\n",
    "\n",
    "What effort is required to plug emission and absorption TRI into the OpenFoam solvers?  "
   ]
  },
  {
   "cell_type": "markdown",
   "id": "cb25ba5b",
   "metadata": {},
   "source": [
    "## Section 2.4: Course References \n",
    "\n",
    "1. book by Moukaled-Darwish-Mangani, in particular Chapter 16 on S/PIMPLE for compressible flow (add similar references here?) \n",
    "2. book Ferziger - Peric; Chapter 10 on compressible flow; \n",
    "3. tutorials [UnnamedMoose](https://github.com/UnnamedMoose/BasicOpenFOAMProgrammingTutorials/tree/master) and references cited \n",
    "4. Ansys Fluent Manual \n",
    "5. cfd-online material  \n",
    "6. Dacolt course notes; would like to recover slides of [this course]( http://www.vlamvereniging.nl/nl/cursussen-en-conferenties/introduction-turbulent-combustion-modelling-openfoam-%C2%AE); ask Ferry Tap? \n",
    "7. F. Contino course notes; would like to recover slides of [this course](https://www.combustioninstitute.org/ci-event/openfoam-training-combustion/)\n",
    "9. T. Luccine [slides](https://waf-e.dubudisk.com/kosco.dubuplus.com/anonymous/O189sPr/DubuDisk/public/OpenFOAM_Workshop_Total.pdf)\n",
    "9. Wolf Dynamics [slides](www.wolfdynamics.com/tutorials.html?id=185) (need t o add explanation what part of these slides are relevant to our course)"
   ]
  },
  {
   "cell_type": "code",
   "execution_count": null,
   "id": "0fdb3a69",
   "metadata": {},
   "outputs": [],
   "source": []
  }
 ],
 "metadata": {
  "kernelspec": {
   "display_name": "Julia 1.8.1",
   "language": "julia",
   "name": "julia-1.8"
  },
  "language_info": {
   "file_extension": ".jl",
   "mimetype": "application/julia",
   "name": "julia",
   "version": "1.8.1"
  }
 },
 "nbformat": 4,
 "nbformat_minor": 5
}
