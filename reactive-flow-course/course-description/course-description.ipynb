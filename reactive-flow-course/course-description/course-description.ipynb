{
 "cells": [
  {
   "cell_type": "markdown",
   "id": "c20777d0",
   "metadata": {},
   "source": [
    "# Course Description"
   ]
  },
  {
   "cell_type": "markdown",
   "id": "543866f7",
   "metadata": {},
   "source": [
    "## Section 1.2: Target Audience \n",
    "Assume prior exposure to use of OpenFoam for \n",
    "1. (in)stationaryturbulent incompressible flow (s/pimleFoam) (well familiar; geometry definition, mesh generation, case set up, post-processing, residual control);  \n",
    "2. buoyant heat transfer (bouyantS/PimpleFoam) (prevous exposure); \n",
    "3. radiative heat transfer (P1 and fvDOM) (limited exposure);\n",
    "4. conjugate heat transfer (fluid/solid domain with interface coupling) (limited exposure); \n",
    "\n",
    "Course will use [Foundation Version 11](https://github.com/OpenFOAM/OpenFOAM-11) of OpenFoam. \n",
    "\n",
    "Virtually no coding assignment. Course limited to setting up cases, running cases, interpretation of results, discussing what-if scenarios. \n",
    "\n",
    "reactingFoam: describe what equations reactingFoam solves. describe how reactingFoam solves these equations? \n",
    "\n",
    "What other solvers does the course intend to use (aside from reactingFoam)?"
   ]
  },
  {
   "cell_type": "markdown",
   "id": "062ffd17",
   "metadata": {},
   "source": [
    "## Section 2.2: Course Content \n",
    "### Day-1: Copy-Paste from Eric here\n",
    "### Day-2: Copy-Paste from Eric here\n",
    "### Day-3: Copy-Paste from Eric here"
   ]
  },
  {
   "cell_type": "markdown",
   "id": "cb25ba5b",
   "metadata": {},
   "source": [
    "## Section 2.3: Course References \n",
    "1. wiki \n",
    "2. Ansys Fluent Manual \n",
    "3. cfd-online material \n",
    "4. \n",
    "5. Dacolt course notes; would like to recover slides of [this course]( http://www.vlamvereniging.nl/nl/cursussen-en-conferenties/introduction-turbulent-combustion-modelling-openfoam-%C2%AE); ask Ferry Tap? \n",
    "6. F. Contino course notes; would like to recover slides of [this course](https://www.combustioninstitute.org/ci-event/openfoam-training-combustion/)\n",
    "7. T. Luccine [slides](https://waf-e.dubudisk.com/kosco.dubuplus.com/anonymous/O189sPr/DubuDisk/public/OpenFOAM_Workshop_Total.pdf)\n",
    "8. Wolf Dynamics [slides](www.wolfdynamics.com/tutorials.html?id=185)   "
   ]
  },
  {
   "cell_type": "code",
   "execution_count": null,
   "id": "0fdb3a69",
   "metadata": {},
   "outputs": [],
   "source": []
  }
 ],
 "metadata": {
  "kernelspec": {
   "display_name": "Julia 1.8.1",
   "language": "julia",
   "name": "julia-1.8"
  },
  "language_info": {
   "file_extension": ".jl",
   "mimetype": "application/julia",
   "name": "julia",
   "version": "1.8.1"
  }
 },
 "nbformat": 4,
 "nbformat_minor": 5
}
