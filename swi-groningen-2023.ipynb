{
 "cells": [
  {
   "cell_type": "markdown",
   "id": "f9ebe079",
   "metadata": {},
   "source": [
    "# Our Lovely Notebook on Toy Models "
   ]
  },
  {
   "cell_type": "markdown",
   "id": "e4bf8c82",
   "metadata": {},
   "source": [
    "## Import Libraries"
   ]
  },
  {
   "cell_type": "code",
   "execution_count": 5,
   "id": "95dee86a",
   "metadata": {},
   "outputs": [],
   "source": [
    "using ControlSystems \n",
    "\n",
    "using Plots"
   ]
  },
  {
   "cell_type": "markdown",
   "id": "5f098b77",
   "metadata": {},
   "source": [
    "## Single Mass-Damper-Spring "
   ]
  },
  {
   "cell_type": "markdown",
   "id": "84348c19",
   "metadata": {},
   "source": [
    "State-space representation \n",
    "$$ \\dot{x} = A x + B u \\\\ y = C x + D u $$ \n",
    "where $A = \\begin{pmatrix} 0 & 1 \\\\ -k/m & -d/m \\end{pmatrix}$, \n",
    "$B = \\begin{pmatrix} 0 \\\\ F_0 \\end{pmatrix}$, \n",
    "$C = \\begin{pmatrix} 0 & 1 \\end{pmatrix}$ and $D=0$.    "
   ]
  },
  {
   "cell_type": "code",
   "execution_count": 8,
   "id": "1e00638a",
   "metadata": {},
   "outputs": [
    {
     "data": {
      "text/plain": [
       "StateSpace{Continuous, Float64}\n",
       "A = \n",
       "  0.0   1.0\n",
       " -2.0  -0.6666666666666666\n",
       "B = \n",
       " 0.0\n",
       " 1.0\n",
       "C = \n",
       " 0.0  1.0\n",
       "D = \n",
       " 0.0\n",
       "\n",
       "Continuous-time state-space model"
      ]
     },
     "execution_count": 8,
     "metadata": {},
     "output_type": "execute_result"
    }
   ],
   "source": [
    "m = 1; k = 2; d = 3;F0 = 1;  \n",
    "A = [0 1; -k/m -k/d];\n",
    "B = [0 ; F0]; \n",
    "C = [0 1]; \n",
    "D = [0]; # not used \n",
    "\n",
    "pointMassSys = ss(A,B,C,D)"
   ]
  },
  {
   "cell_type": "code",
   "execution_count": 9,
   "id": "4b48cd2d",
   "metadata": {},
   "outputs": [
    {
     "data": {
      "text/plain": [
       "TransferFunction{Continuous, ControlSystemsBase.SisoRational{Float64}}\n",
       "   1.0s - 4.440892098500626e-16\n",
       "----------------------------------\n",
       "1.0s^2 + 0.6666666666666665s + 2.0\n",
       "\n",
       "Continuous-time transfer function model"
      ]
     },
     "execution_count": 9,
     "metadata": {},
     "output_type": "execute_result"
    }
   ],
   "source": [
    "tf(pointMassSys)"
   ]
  },
  {
   "cell_type": "code",
   "execution_count": null,
   "id": "8756fbdc",
   "metadata": {},
   "outputs": [],
   "source": [
    "bodeplot(tf(1,[1,2,1]))"
   ]
  },
  {
   "cell_type": "markdown",
   "id": "3372612b",
   "metadata": {},
   "source": [
    "## Two Body Model"
   ]
  },
  {
   "cell_type": "code",
   "execution_count": null,
   "id": "0ed630a6",
   "metadata": {},
   "outputs": [],
   "source": []
  }
 ],
 "metadata": {
  "kernelspec": {
   "display_name": "Julia 1.8.1",
   "language": "julia",
   "name": "julia-1.8"
  },
  "language_info": {
   "file_extension": ".jl",
   "mimetype": "application/julia",
   "name": "julia",
   "version": "1.8.1"
  }
 },
 "nbformat": 4,
 "nbformat_minor": 5
}
