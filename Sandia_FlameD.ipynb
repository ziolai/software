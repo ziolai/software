{
 "cells": [
  {
   "cell_type": "markdown",
   "id": "3662060a",
   "metadata": {},
   "source": [
    "# Sandia FlameD "
   ]
  },
  {
   "cell_type": "markdown",
   "id": "20b0483e",
   "metadata": {},
   "source": [
    "## Section 1: Introduction \n",
    "\n",
    "## Section 2: Incompressible Isothermal Flow using simpleFoam\n",
    "Flow conditions for fuel, pilot and air to be specified. Observe that simulation fuel/pilot jet might require massive damping to converge. Observe that residual for axial and radial velocity components might be very different.  \n",
    "\n",
    "<div>\n",
    "<img src=\"./figures/testcases/Sandia_FlameD/simplefoam_resconv_initial.png\" width=300 />\n",
    "<center> Figure: Label. </center>\n",
    "<img src=\"./figures/testcases/Sandia_FlameD/simplefoam_resconv_full.png\" width=300 />\n",
    "<center> Figure: Label. </center>\n",
    "</div>\n",
    "\n",
    "## Section 3: Incompressible Isothermal Flow using pimpleFoam\n",
    "- How does convergence depend on nCorrectors and nOuterCorrectors? \n",
    "- How does LTS converge to a non-reactive steady state solution? \n",
    "\n",
    "<img src=\"./figures/testcases/Sandia_FlameD/pimplefoam_resconv.png\" width=300 />\n",
    "\n",
    "## Section 4: Incompressible Non-Isothermal Flow using rhoSimpleFoam\n",
    "Expect more iterations than the simpleFoam case due to the additional field (enthalpy and thus temperature)\n",
    "solved for. \n",
    "- Need to set density on fuel and pilot inlet in order to avoid density oscillations. Why not for the air inlet?\n",
    "\n",
    "<img src=\"./figures/testcases/Sandia_FlameD/rhoSimplefoam_resconv.png\" width=300 />\n",
    "\n",
    "\n",
    "## Section 5: Incompressible Non-Isothermal Flow using rhoPimpleFoam or reactingFoam with combustion switched off\n",
    "\n",
    "<img src=\"./figures/testcases/Sandia_FlameD/reactingFoam_nonreactive_resconv_initial.png\" width=300 />\n",
    "\n",
    "## Section 6: Reactive Flow using reactingFoam\n",
    "\n",
    "## Section 7: Reactive Flow using reactingFoam including Radiative Heat Transfer"
   ]
  },
  {
   "cell_type": "code",
   "execution_count": null,
   "id": "5b5b0457",
   "metadata": {},
   "outputs": [],
   "source": []
  },
  {
   "cell_type": "code",
   "execution_count": null,
   "id": "a5c51f64",
   "metadata": {},
   "outputs": [],
   "source": []
  }
 ],
 "metadata": {
  "kernelspec": {
   "display_name": "Julia 1.8.1",
   "language": "julia",
   "name": "julia-1.8"
  },
  "language_info": {
   "file_extension": ".jl",
   "mimetype": "application/julia",
   "name": "julia",
   "version": "1.8.1"
  }
 },
 "nbformat": 4,
 "nbformat_minor": 5
}
